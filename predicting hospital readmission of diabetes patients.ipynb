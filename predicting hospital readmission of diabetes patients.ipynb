{
 "cells": [
  {
   "cell_type": "markdown",
   "id": "857ff3a7",
   "metadata": {},
   "source": [
    "## Predicting hospital readmission for diabetes patients"
   ]
  },
  {
   "cell_type": "markdown",
   "id": "5d688570",
   "metadata": {},
   "source": [
    "The objective of this project is to develop classification models for forecasting hospital readmissions among diabetes patients. The models will be built using a dataset obtained from Virginia Commonwealth University (sourced from kaggle), which spans the period between 1999 and 2008 and includes data from 130 hospitals across the United States. The successful identification of high-risk patients will equip healthcare providers with valuable insights, which can be utilized to enhance the quality of care provision for diabetic patients in the future."
   ]
  },
  {
   "cell_type": "code",
   "execution_count": 1,
   "id": "f6e163ee",
   "metadata": {},
   "outputs": [],
   "source": [
    "#Importing libraries\n",
    "import pandas as pd\n",
    "import numpy as np\n",
    "import scipy as sp\n",
    "from scipy import stats\n",
    "import scipy.stats as stat\n",
    "import seaborn as sns\n",
    "import matplotlib.pyplot as plt\n",
    "%matplotlib inline\n",
    "import datetime as dt\n",
    "import warnings\n",
    "warnings.filterwarnings(\"ignore\")\n",
    "\n",
    "from sklearn.model_selection import train_test_split\n",
    "from sklearn.preprocessing import MinMaxScaler\n",
    "from sklearn.metrics import f1_score, recall_score, accuracy_score,precision_score, confusion_matrix, plot_confusion_matrix\n",
    "from sklearn.tree import DecisionTreeClassifier\n",
    "from sklearn.ensemble import RandomForestClassifier"
   ]
  },
  {
   "cell_type": "code",
   "execution_count": 2,
   "id": "02aca62a",
   "metadata": {},
   "outputs": [],
   "source": [
    "# Read csv file\n",
    "df = pd.read_csv('diabetic_data.csv')"
   ]
  },
  {
   "cell_type": "code",
   "execution_count": 3,
   "id": "ed72734e",
   "metadata": {},
   "outputs": [
    {
     "data": {
      "text/html": [
       "<div>\n",
       "<style scoped>\n",
       "    .dataframe tbody tr th:only-of-type {\n",
       "        vertical-align: middle;\n",
       "    }\n",
       "\n",
       "    .dataframe tbody tr th {\n",
       "        vertical-align: top;\n",
       "    }\n",
       "\n",
       "    .dataframe thead th {\n",
       "        text-align: right;\n",
       "    }\n",
       "</style>\n",
       "<table border=\"1\" class=\"dataframe\">\n",
       "  <thead>\n",
       "    <tr style=\"text-align: right;\">\n",
       "      <th></th>\n",
       "      <th>encounter_id</th>\n",
       "      <th>patient_nbr</th>\n",
       "      <th>race</th>\n",
       "      <th>gender</th>\n",
       "      <th>age</th>\n",
       "      <th>weight</th>\n",
       "      <th>admission_type_id</th>\n",
       "      <th>discharge_disposition_id</th>\n",
       "      <th>admission_source_id</th>\n",
       "      <th>time_in_hospital</th>\n",
       "      <th>...</th>\n",
       "      <th>citoglipton</th>\n",
       "      <th>insulin</th>\n",
       "      <th>glyburide-metformin</th>\n",
       "      <th>glipizide-metformin</th>\n",
       "      <th>glimepiride-pioglitazone</th>\n",
       "      <th>metformin-rosiglitazone</th>\n",
       "      <th>metformin-pioglitazone</th>\n",
       "      <th>change</th>\n",
       "      <th>diabetesMed</th>\n",
       "      <th>readmitted</th>\n",
       "    </tr>\n",
       "  </thead>\n",
       "  <tbody>\n",
       "    <tr>\n",
       "      <th>0</th>\n",
       "      <td>2278392</td>\n",
       "      <td>8222157</td>\n",
       "      <td>Caucasian</td>\n",
       "      <td>Female</td>\n",
       "      <td>[0-10)</td>\n",
       "      <td>?</td>\n",
       "      <td>6</td>\n",
       "      <td>25</td>\n",
       "      <td>1</td>\n",
       "      <td>1</td>\n",
       "      <td>...</td>\n",
       "      <td>No</td>\n",
       "      <td>No</td>\n",
       "      <td>No</td>\n",
       "      <td>No</td>\n",
       "      <td>No</td>\n",
       "      <td>No</td>\n",
       "      <td>No</td>\n",
       "      <td>No</td>\n",
       "      <td>No</td>\n",
       "      <td>NO</td>\n",
       "    </tr>\n",
       "    <tr>\n",
       "      <th>1</th>\n",
       "      <td>149190</td>\n",
       "      <td>55629189</td>\n",
       "      <td>Caucasian</td>\n",
       "      <td>Female</td>\n",
       "      <td>[10-20)</td>\n",
       "      <td>?</td>\n",
       "      <td>1</td>\n",
       "      <td>1</td>\n",
       "      <td>7</td>\n",
       "      <td>3</td>\n",
       "      <td>...</td>\n",
       "      <td>No</td>\n",
       "      <td>Up</td>\n",
       "      <td>No</td>\n",
       "      <td>No</td>\n",
       "      <td>No</td>\n",
       "      <td>No</td>\n",
       "      <td>No</td>\n",
       "      <td>Ch</td>\n",
       "      <td>Yes</td>\n",
       "      <td>&gt;30</td>\n",
       "    </tr>\n",
       "    <tr>\n",
       "      <th>2</th>\n",
       "      <td>64410</td>\n",
       "      <td>86047875</td>\n",
       "      <td>AfricanAmerican</td>\n",
       "      <td>Female</td>\n",
       "      <td>[20-30)</td>\n",
       "      <td>?</td>\n",
       "      <td>1</td>\n",
       "      <td>1</td>\n",
       "      <td>7</td>\n",
       "      <td>2</td>\n",
       "      <td>...</td>\n",
       "      <td>No</td>\n",
       "      <td>No</td>\n",
       "      <td>No</td>\n",
       "      <td>No</td>\n",
       "      <td>No</td>\n",
       "      <td>No</td>\n",
       "      <td>No</td>\n",
       "      <td>No</td>\n",
       "      <td>Yes</td>\n",
       "      <td>NO</td>\n",
       "    </tr>\n",
       "    <tr>\n",
       "      <th>3</th>\n",
       "      <td>500364</td>\n",
       "      <td>82442376</td>\n",
       "      <td>Caucasian</td>\n",
       "      <td>Male</td>\n",
       "      <td>[30-40)</td>\n",
       "      <td>?</td>\n",
       "      <td>1</td>\n",
       "      <td>1</td>\n",
       "      <td>7</td>\n",
       "      <td>2</td>\n",
       "      <td>...</td>\n",
       "      <td>No</td>\n",
       "      <td>Up</td>\n",
       "      <td>No</td>\n",
       "      <td>No</td>\n",
       "      <td>No</td>\n",
       "      <td>No</td>\n",
       "      <td>No</td>\n",
       "      <td>Ch</td>\n",
       "      <td>Yes</td>\n",
       "      <td>NO</td>\n",
       "    </tr>\n",
       "    <tr>\n",
       "      <th>4</th>\n",
       "      <td>16680</td>\n",
       "      <td>42519267</td>\n",
       "      <td>Caucasian</td>\n",
       "      <td>Male</td>\n",
       "      <td>[40-50)</td>\n",
       "      <td>?</td>\n",
       "      <td>1</td>\n",
       "      <td>1</td>\n",
       "      <td>7</td>\n",
       "      <td>1</td>\n",
       "      <td>...</td>\n",
       "      <td>No</td>\n",
       "      <td>Steady</td>\n",
       "      <td>No</td>\n",
       "      <td>No</td>\n",
       "      <td>No</td>\n",
       "      <td>No</td>\n",
       "      <td>No</td>\n",
       "      <td>Ch</td>\n",
       "      <td>Yes</td>\n",
       "      <td>NO</td>\n",
       "    </tr>\n",
       "  </tbody>\n",
       "</table>\n",
       "<p>5 rows × 50 columns</p>\n",
       "</div>"
      ],
      "text/plain": [
       "   encounter_id  patient_nbr             race  gender      age weight  \\\n",
       "0       2278392      8222157        Caucasian  Female   [0-10)      ?   \n",
       "1        149190     55629189        Caucasian  Female  [10-20)      ?   \n",
       "2         64410     86047875  AfricanAmerican  Female  [20-30)      ?   \n",
       "3        500364     82442376        Caucasian    Male  [30-40)      ?   \n",
       "4         16680     42519267        Caucasian    Male  [40-50)      ?   \n",
       "\n",
       "   admission_type_id  discharge_disposition_id  admission_source_id  \\\n",
       "0                  6                        25                    1   \n",
       "1                  1                         1                    7   \n",
       "2                  1                         1                    7   \n",
       "3                  1                         1                    7   \n",
       "4                  1                         1                    7   \n",
       "\n",
       "   time_in_hospital  ... citoglipton insulin  glyburide-metformin  \\\n",
       "0                 1  ...          No      No                   No   \n",
       "1                 3  ...          No      Up                   No   \n",
       "2                 2  ...          No      No                   No   \n",
       "3                 2  ...          No      Up                   No   \n",
       "4                 1  ...          No  Steady                   No   \n",
       "\n",
       "   glipizide-metformin  glimepiride-pioglitazone  metformin-rosiglitazone  \\\n",
       "0                   No                        No                       No   \n",
       "1                   No                        No                       No   \n",
       "2                   No                        No                       No   \n",
       "3                   No                        No                       No   \n",
       "4                   No                        No                       No   \n",
       "\n",
       "   metformin-pioglitazone  change diabetesMed readmitted  \n",
       "0                      No      No          No         NO  \n",
       "1                      No      Ch         Yes        >30  \n",
       "2                      No      No         Yes         NO  \n",
       "3                      No      Ch         Yes         NO  \n",
       "4                      No      Ch         Yes         NO  \n",
       "\n",
       "[5 rows x 50 columns]"
      ]
     },
     "execution_count": 3,
     "metadata": {},
     "output_type": "execute_result"
    }
   ],
   "source": [
    "df.head()"
   ]
  },
  {
   "cell_type": "code",
   "execution_count": 4,
   "id": "e9059eb3",
   "metadata": {},
   "outputs": [
    {
     "name": "stdout",
     "output_type": "stream",
     "text": [
      "<class 'pandas.core.frame.DataFrame'>\n",
      "RangeIndex: 101766 entries, 0 to 101765\n",
      "Data columns (total 50 columns):\n",
      " #   Column                    Non-Null Count   Dtype \n",
      "---  ------                    --------------   ----- \n",
      " 0   encounter_id              101766 non-null  int64 \n",
      " 1   patient_nbr               101766 non-null  int64 \n",
      " 2   race                      101766 non-null  object\n",
      " 3   gender                    101766 non-null  object\n",
      " 4   age                       101766 non-null  object\n",
      " 5   weight                    101766 non-null  object\n",
      " 6   admission_type_id         101766 non-null  int64 \n",
      " 7   discharge_disposition_id  101766 non-null  int64 \n",
      " 8   admission_source_id       101766 non-null  int64 \n",
      " 9   time_in_hospital          101766 non-null  int64 \n",
      " 10  payer_code                101766 non-null  object\n",
      " 11  medical_specialty         101766 non-null  object\n",
      " 12  num_lab_procedures        101766 non-null  int64 \n",
      " 13  num_procedures            101766 non-null  int64 \n",
      " 14  num_medications           101766 non-null  int64 \n",
      " 15  number_outpatient         101766 non-null  int64 \n",
      " 16  number_emergency          101766 non-null  int64 \n",
      " 17  number_inpatient          101766 non-null  int64 \n",
      " 18  diag_1                    101766 non-null  object\n",
      " 19  diag_2                    101766 non-null  object\n",
      " 20  diag_3                    101766 non-null  object\n",
      " 21  number_diagnoses          101766 non-null  int64 \n",
      " 22  max_glu_serum             101766 non-null  object\n",
      " 23  A1Cresult                 101766 non-null  object\n",
      " 24  metformin                 101766 non-null  object\n",
      " 25  repaglinide               101766 non-null  object\n",
      " 26  nateglinide               101766 non-null  object\n",
      " 27  chlorpropamide            101766 non-null  object\n",
      " 28  glimepiride               101766 non-null  object\n",
      " 29  acetohexamide             101766 non-null  object\n",
      " 30  glipizide                 101766 non-null  object\n",
      " 31  glyburide                 101766 non-null  object\n",
      " 32  tolbutamide               101766 non-null  object\n",
      " 33  pioglitazone              101766 non-null  object\n",
      " 34  rosiglitazone             101766 non-null  object\n",
      " 35  acarbose                  101766 non-null  object\n",
      " 36  miglitol                  101766 non-null  object\n",
      " 37  troglitazone              101766 non-null  object\n",
      " 38  tolazamide                101766 non-null  object\n",
      " 39  examide                   101766 non-null  object\n",
      " 40  citoglipton               101766 non-null  object\n",
      " 41  insulin                   101766 non-null  object\n",
      " 42  glyburide-metformin       101766 non-null  object\n",
      " 43  glipizide-metformin       101766 non-null  object\n",
      " 44  glimepiride-pioglitazone  101766 non-null  object\n",
      " 45  metformin-rosiglitazone   101766 non-null  object\n",
      " 46  metformin-pioglitazone    101766 non-null  object\n",
      " 47  change                    101766 non-null  object\n",
      " 48  diabetesMed               101766 non-null  object\n",
      " 49  readmitted                101766 non-null  object\n",
      "dtypes: int64(13), object(37)\n",
      "memory usage: 38.8+ MB\n"
     ]
    }
   ],
   "source": [
    "df.info()"
   ]
  },
  {
   "cell_type": "code",
   "execution_count": 5,
   "id": "10bad18b",
   "metadata": {},
   "outputs": [
    {
     "data": {
      "text/plain": [
       "encounter_id                 int64\n",
       "patient_nbr                  int64\n",
       "race                        object\n",
       "gender                      object\n",
       "age                         object\n",
       "weight                      object\n",
       "admission_type_id            int64\n",
       "discharge_disposition_id     int64\n",
       "admission_source_id          int64\n",
       "time_in_hospital             int64\n",
       "payer_code                  object\n",
       "medical_specialty           object\n",
       "num_lab_procedures           int64\n",
       "num_procedures               int64\n",
       "num_medications              int64\n",
       "number_outpatient            int64\n",
       "number_emergency             int64\n",
       "number_inpatient             int64\n",
       "diag_1                      object\n",
       "diag_2                      object\n",
       "diag_3                      object\n",
       "number_diagnoses             int64\n",
       "max_glu_serum               object\n",
       "A1Cresult                   object\n",
       "metformin                   object\n",
       "repaglinide                 object\n",
       "nateglinide                 object\n",
       "chlorpropamide              object\n",
       "glimepiride                 object\n",
       "acetohexamide               object\n",
       "glipizide                   object\n",
       "glyburide                   object\n",
       "tolbutamide                 object\n",
       "pioglitazone                object\n",
       "rosiglitazone               object\n",
       "acarbose                    object\n",
       "miglitol                    object\n",
       "troglitazone                object\n",
       "tolazamide                  object\n",
       "examide                     object\n",
       "citoglipton                 object\n",
       "insulin                     object\n",
       "glyburide-metformin         object\n",
       "glipizide-metformin         object\n",
       "glimepiride-pioglitazone    object\n",
       "metformin-rosiglitazone     object\n",
       "metformin-pioglitazone      object\n",
       "change                      object\n",
       "diabetesMed                 object\n",
       "readmitted                  object\n",
       "dtype: object"
      ]
     },
     "execution_count": 5,
     "metadata": {},
     "output_type": "execute_result"
    }
   ],
   "source": [
    "df.dtypes"
   ]
  },
  {
   "cell_type": "code",
   "execution_count": 6,
   "id": "1c116bbf",
   "metadata": {},
   "outputs": [
    {
     "data": {
      "text/plain": [
       "(101766, 50)"
      ]
     },
     "execution_count": 6,
     "metadata": {},
     "output_type": "execute_result"
    }
   ],
   "source": [
    "df.shape"
   ]
  },
  {
   "cell_type": "code",
   "execution_count": 7,
   "id": "78936a5d",
   "metadata": {},
   "outputs": [
    {
     "data": {
      "text/plain": [
       "encounter_id                0\n",
       "patient_nbr                 0\n",
       "race                        0\n",
       "gender                      0\n",
       "age                         0\n",
       "weight                      0\n",
       "admission_type_id           0\n",
       "discharge_disposition_id    0\n",
       "admission_source_id         0\n",
       "time_in_hospital            0\n",
       "payer_code                  0\n",
       "medical_specialty           0\n",
       "num_lab_procedures          0\n",
       "num_procedures              0\n",
       "num_medications             0\n",
       "number_outpatient           0\n",
       "number_emergency            0\n",
       "number_inpatient            0\n",
       "diag_1                      0\n",
       "diag_2                      0\n",
       "diag_3                      0\n",
       "number_diagnoses            0\n",
       "max_glu_serum               0\n",
       "A1Cresult                   0\n",
       "metformin                   0\n",
       "repaglinide                 0\n",
       "nateglinide                 0\n",
       "chlorpropamide              0\n",
       "glimepiride                 0\n",
       "acetohexamide               0\n",
       "glipizide                   0\n",
       "glyburide                   0\n",
       "tolbutamide                 0\n",
       "pioglitazone                0\n",
       "rosiglitazone               0\n",
       "acarbose                    0\n",
       "miglitol                    0\n",
       "troglitazone                0\n",
       "tolazamide                  0\n",
       "examide                     0\n",
       "citoglipton                 0\n",
       "insulin                     0\n",
       "glyburide-metformin         0\n",
       "glipizide-metformin         0\n",
       "glimepiride-pioglitazone    0\n",
       "metformin-rosiglitazone     0\n",
       "metformin-pioglitazone      0\n",
       "change                      0\n",
       "diabetesMed                 0\n",
       "readmitted                  0\n",
       "dtype: int64"
      ]
     },
     "execution_count": 7,
     "metadata": {},
     "output_type": "execute_result"
    }
   ],
   "source": [
    "# Null values \n",
    "df.isnull().sum()"
   ]
  },
  {
   "cell_type": "code",
   "execution_count": 8,
   "id": "f246cdd2",
   "metadata": {},
   "outputs": [
    {
     "data": {
      "text/plain": [
       "False    101766\n",
       "dtype: int64"
      ]
     },
     "execution_count": 8,
     "metadata": {},
     "output_type": "execute_result"
    }
   ],
   "source": [
    "# duplicates check\n",
    "df.duplicated().value_counts()"
   ]
  },
  {
   "cell_type": "code",
   "execution_count": 9,
   "id": "26ebcf99",
   "metadata": {},
   "outputs": [
    {
     "data": {
      "text/html": [
       "<div>\n",
       "<style scoped>\n",
       "    .dataframe tbody tr th:only-of-type {\n",
       "        vertical-align: middle;\n",
       "    }\n",
       "\n",
       "    .dataframe tbody tr th {\n",
       "        vertical-align: top;\n",
       "    }\n",
       "\n",
       "    .dataframe thead th {\n",
       "        text-align: right;\n",
       "    }\n",
       "</style>\n",
       "<table border=\"1\" class=\"dataframe\">\n",
       "  <thead>\n",
       "    <tr style=\"text-align: right;\">\n",
       "      <th></th>\n",
       "      <th>encounter_id</th>\n",
       "      <th>patient_nbr</th>\n",
       "      <th>admission_type_id</th>\n",
       "      <th>discharge_disposition_id</th>\n",
       "      <th>admission_source_id</th>\n",
       "      <th>time_in_hospital</th>\n",
       "      <th>num_lab_procedures</th>\n",
       "      <th>num_procedures</th>\n",
       "      <th>num_medications</th>\n",
       "      <th>number_outpatient</th>\n",
       "      <th>number_emergency</th>\n",
       "      <th>number_inpatient</th>\n",
       "      <th>number_diagnoses</th>\n",
       "    </tr>\n",
       "  </thead>\n",
       "  <tbody>\n",
       "    <tr>\n",
       "      <th>count</th>\n",
       "      <td>1.017660e+05</td>\n",
       "      <td>1.017660e+05</td>\n",
       "      <td>101766.000000</td>\n",
       "      <td>101766.000000</td>\n",
       "      <td>101766.000000</td>\n",
       "      <td>101766.000000</td>\n",
       "      <td>101766.000000</td>\n",
       "      <td>101766.000000</td>\n",
       "      <td>101766.000000</td>\n",
       "      <td>101766.000000</td>\n",
       "      <td>101766.000000</td>\n",
       "      <td>101766.000000</td>\n",
       "      <td>101766.000000</td>\n",
       "    </tr>\n",
       "    <tr>\n",
       "      <th>mean</th>\n",
       "      <td>1.652016e+08</td>\n",
       "      <td>5.433040e+07</td>\n",
       "      <td>2.024006</td>\n",
       "      <td>3.715642</td>\n",
       "      <td>5.754437</td>\n",
       "      <td>4.395987</td>\n",
       "      <td>43.095641</td>\n",
       "      <td>1.339730</td>\n",
       "      <td>16.021844</td>\n",
       "      <td>0.369357</td>\n",
       "      <td>0.197836</td>\n",
       "      <td>0.635566</td>\n",
       "      <td>7.422607</td>\n",
       "    </tr>\n",
       "    <tr>\n",
       "      <th>std</th>\n",
       "      <td>1.026403e+08</td>\n",
       "      <td>3.869636e+07</td>\n",
       "      <td>1.445403</td>\n",
       "      <td>5.280166</td>\n",
       "      <td>4.064081</td>\n",
       "      <td>2.985108</td>\n",
       "      <td>19.674362</td>\n",
       "      <td>1.705807</td>\n",
       "      <td>8.127566</td>\n",
       "      <td>1.267265</td>\n",
       "      <td>0.930472</td>\n",
       "      <td>1.262863</td>\n",
       "      <td>1.933600</td>\n",
       "    </tr>\n",
       "    <tr>\n",
       "      <th>min</th>\n",
       "      <td>1.252200e+04</td>\n",
       "      <td>1.350000e+02</td>\n",
       "      <td>1.000000</td>\n",
       "      <td>1.000000</td>\n",
       "      <td>1.000000</td>\n",
       "      <td>1.000000</td>\n",
       "      <td>1.000000</td>\n",
       "      <td>0.000000</td>\n",
       "      <td>1.000000</td>\n",
       "      <td>0.000000</td>\n",
       "      <td>0.000000</td>\n",
       "      <td>0.000000</td>\n",
       "      <td>1.000000</td>\n",
       "    </tr>\n",
       "    <tr>\n",
       "      <th>25%</th>\n",
       "      <td>8.496119e+07</td>\n",
       "      <td>2.341322e+07</td>\n",
       "      <td>1.000000</td>\n",
       "      <td>1.000000</td>\n",
       "      <td>1.000000</td>\n",
       "      <td>2.000000</td>\n",
       "      <td>31.000000</td>\n",
       "      <td>0.000000</td>\n",
       "      <td>10.000000</td>\n",
       "      <td>0.000000</td>\n",
       "      <td>0.000000</td>\n",
       "      <td>0.000000</td>\n",
       "      <td>6.000000</td>\n",
       "    </tr>\n",
       "    <tr>\n",
       "      <th>50%</th>\n",
       "      <td>1.523890e+08</td>\n",
       "      <td>4.550514e+07</td>\n",
       "      <td>1.000000</td>\n",
       "      <td>1.000000</td>\n",
       "      <td>7.000000</td>\n",
       "      <td>4.000000</td>\n",
       "      <td>44.000000</td>\n",
       "      <td>1.000000</td>\n",
       "      <td>15.000000</td>\n",
       "      <td>0.000000</td>\n",
       "      <td>0.000000</td>\n",
       "      <td>0.000000</td>\n",
       "      <td>8.000000</td>\n",
       "    </tr>\n",
       "    <tr>\n",
       "      <th>75%</th>\n",
       "      <td>2.302709e+08</td>\n",
       "      <td>8.754595e+07</td>\n",
       "      <td>3.000000</td>\n",
       "      <td>4.000000</td>\n",
       "      <td>7.000000</td>\n",
       "      <td>6.000000</td>\n",
       "      <td>57.000000</td>\n",
       "      <td>2.000000</td>\n",
       "      <td>20.000000</td>\n",
       "      <td>0.000000</td>\n",
       "      <td>0.000000</td>\n",
       "      <td>1.000000</td>\n",
       "      <td>9.000000</td>\n",
       "    </tr>\n",
       "    <tr>\n",
       "      <th>max</th>\n",
       "      <td>4.438672e+08</td>\n",
       "      <td>1.895026e+08</td>\n",
       "      <td>8.000000</td>\n",
       "      <td>28.000000</td>\n",
       "      <td>25.000000</td>\n",
       "      <td>14.000000</td>\n",
       "      <td>132.000000</td>\n",
       "      <td>6.000000</td>\n",
       "      <td>81.000000</td>\n",
       "      <td>42.000000</td>\n",
       "      <td>76.000000</td>\n",
       "      <td>21.000000</td>\n",
       "      <td>16.000000</td>\n",
       "    </tr>\n",
       "  </tbody>\n",
       "</table>\n",
       "</div>"
      ],
      "text/plain": [
       "       encounter_id   patient_nbr  admission_type_id  \\\n",
       "count  1.017660e+05  1.017660e+05      101766.000000   \n",
       "mean   1.652016e+08  5.433040e+07           2.024006   \n",
       "std    1.026403e+08  3.869636e+07           1.445403   \n",
       "min    1.252200e+04  1.350000e+02           1.000000   \n",
       "25%    8.496119e+07  2.341322e+07           1.000000   \n",
       "50%    1.523890e+08  4.550514e+07           1.000000   \n",
       "75%    2.302709e+08  8.754595e+07           3.000000   \n",
       "max    4.438672e+08  1.895026e+08           8.000000   \n",
       "\n",
       "       discharge_disposition_id  admission_source_id  time_in_hospital  \\\n",
       "count             101766.000000        101766.000000     101766.000000   \n",
       "mean                   3.715642             5.754437          4.395987   \n",
       "std                    5.280166             4.064081          2.985108   \n",
       "min                    1.000000             1.000000          1.000000   \n",
       "25%                    1.000000             1.000000          2.000000   \n",
       "50%                    1.000000             7.000000          4.000000   \n",
       "75%                    4.000000             7.000000          6.000000   \n",
       "max                   28.000000            25.000000         14.000000   \n",
       "\n",
       "       num_lab_procedures  num_procedures  num_medications  number_outpatient  \\\n",
       "count       101766.000000   101766.000000    101766.000000      101766.000000   \n",
       "mean            43.095641        1.339730        16.021844           0.369357   \n",
       "std             19.674362        1.705807         8.127566           1.267265   \n",
       "min              1.000000        0.000000         1.000000           0.000000   \n",
       "25%             31.000000        0.000000        10.000000           0.000000   \n",
       "50%             44.000000        1.000000        15.000000           0.000000   \n",
       "75%             57.000000        2.000000        20.000000           0.000000   \n",
       "max            132.000000        6.000000        81.000000          42.000000   \n",
       "\n",
       "       number_emergency  number_inpatient  number_diagnoses  \n",
       "count     101766.000000     101766.000000     101766.000000  \n",
       "mean           0.197836          0.635566          7.422607  \n",
       "std            0.930472          1.262863          1.933600  \n",
       "min            0.000000          0.000000          1.000000  \n",
       "25%            0.000000          0.000000          6.000000  \n",
       "50%            0.000000          0.000000          8.000000  \n",
       "75%            0.000000          1.000000          9.000000  \n",
       "max           76.000000         21.000000         16.000000  "
      ]
     },
     "execution_count": 9,
     "metadata": {},
     "output_type": "execute_result"
    }
   ],
   "source": [
    "df.describe()"
   ]
  },
  {
   "cell_type": "code",
   "execution_count": 10,
   "id": "d4ec2f3c",
   "metadata": {},
   "outputs": [
    {
     "data": {
      "text/plain": [
       "encounter_id                101766\n",
       "patient_nbr                  71518\n",
       "race                             6\n",
       "gender                           3\n",
       "age                             10\n",
       "weight                          10\n",
       "admission_type_id                8\n",
       "discharge_disposition_id        26\n",
       "admission_source_id             17\n",
       "time_in_hospital                14\n",
       "payer_code                      18\n",
       "medical_specialty               73\n",
       "num_lab_procedures             118\n",
       "num_procedures                   7\n",
       "num_medications                 75\n",
       "number_outpatient               39\n",
       "number_emergency                33\n",
       "number_inpatient                21\n",
       "diag_1                         717\n",
       "diag_2                         749\n",
       "diag_3                         790\n",
       "number_diagnoses                16\n",
       "max_glu_serum                    4\n",
       "A1Cresult                        4\n",
       "metformin                        4\n",
       "repaglinide                      4\n",
       "nateglinide                      4\n",
       "chlorpropamide                   4\n",
       "glimepiride                      4\n",
       "acetohexamide                    2\n",
       "glipizide                        4\n",
       "glyburide                        4\n",
       "tolbutamide                      2\n",
       "pioglitazone                     4\n",
       "rosiglitazone                    4\n",
       "acarbose                         4\n",
       "miglitol                         4\n",
       "troglitazone                     2\n",
       "tolazamide                       3\n",
       "examide                          1\n",
       "citoglipton                      1\n",
       "insulin                          4\n",
       "glyburide-metformin              4\n",
       "glipizide-metformin              2\n",
       "glimepiride-pioglitazone         2\n",
       "metformin-rosiglitazone          2\n",
       "metformin-pioglitazone           2\n",
       "change                           2\n",
       "diabetesMed                      2\n",
       "readmitted                       3\n",
       "dtype: int64"
      ]
     },
     "execution_count": 10,
     "metadata": {},
     "output_type": "execute_result"
    }
   ],
   "source": [
    "#Checking unique values\n",
    "df.nunique()"
   ]
  },
  {
   "cell_type": "code",
   "execution_count": 11,
   "id": "04dc7449",
   "metadata": {},
   "outputs": [],
   "source": [
    "# Drop columns with only one unique value\n",
    "df = df.drop(['examide', 'citoglipton'],axis = 1)"
   ]
  },
  {
   "cell_type": "markdown",
   "id": "a58bcebd",
   "metadata": {},
   "source": [
    "#### Exploratory Data Analysis"
   ]
  },
  {
   "cell_type": "code",
   "execution_count": 12,
   "id": "4fcca1bc",
   "metadata": {},
   "outputs": [
    {
     "data": {
      "text/plain": [
       "Female             54708\n",
       "Male               47055\n",
       "Unknown/Invalid        3\n",
       "Name: gender, dtype: int64"
      ]
     },
     "execution_count": 12,
     "metadata": {},
     "output_type": "execute_result"
    }
   ],
   "source": [
    "#Check gender column\n",
    "df['gender'].value_counts()"
   ]
  },
  {
   "cell_type": "code",
   "execution_count": 13,
   "id": "2814e26f",
   "metadata": {},
   "outputs": [
    {
     "name": "stdout",
     "output_type": "stream",
     "text": [
      "race 2273\n",
      "gender 0\n",
      "age 0\n",
      "weight 98569\n",
      "payer_code 40256\n",
      "medical_specialty 49949\n",
      "diag_1 21\n",
      "diag_2 358\n",
      "diag_3 1423\n",
      "max_glu_serum 0\n",
      "A1Cresult 0\n",
      "metformin 0\n",
      "repaglinide 0\n",
      "nateglinide 0\n",
      "chlorpropamide 0\n",
      "glimepiride 0\n",
      "acetohexamide 0\n",
      "glipizide 0\n",
      "glyburide 0\n",
      "tolbutamide 0\n",
      "pioglitazone 0\n",
      "rosiglitazone 0\n",
      "acarbose 0\n",
      "miglitol 0\n",
      "troglitazone 0\n",
      "tolazamide 0\n",
      "insulin 0\n",
      "glyburide-metformin 0\n",
      "glipizide-metformin 0\n",
      "glimepiride-pioglitazone 0\n",
      "metformin-rosiglitazone 0\n",
      "metformin-pioglitazone 0\n",
      "change 0\n",
      "diabetesMed 0\n",
      "readmitted 0\n"
     ]
    }
   ],
   "source": [
    "#Checking for missing values in the dataset\n",
    "#In the dataset missing values are represented as '?' sign\n",
    "for col in df.columns:\n",
    "    if df[col].dtype == object:\n",
    "         print(col,df[col][df[col] == '?'].count())"
   ]
  },
  {
   "cell_type": "code",
   "execution_count": 14,
   "id": "be279ef4",
   "metadata": {},
   "outputs": [],
   "source": [
    "# Make a copy of the file for pre-processing \n",
    "train = df.copy(deep=True)"
   ]
  },
  {
   "cell_type": "code",
   "execution_count": 15,
   "id": "9826acd8",
   "metadata": {},
   "outputs": [
    {
     "data": {
      "text/html": [
       "<div>\n",
       "<style scoped>\n",
       "    .dataframe tbody tr th:only-of-type {\n",
       "        vertical-align: middle;\n",
       "    }\n",
       "\n",
       "    .dataframe tbody tr th {\n",
       "        vertical-align: top;\n",
       "    }\n",
       "\n",
       "    .dataframe thead th {\n",
       "        text-align: right;\n",
       "    }\n",
       "</style>\n",
       "<table border=\"1\" class=\"dataframe\">\n",
       "  <thead>\n",
       "    <tr style=\"text-align: right;\">\n",
       "      <th></th>\n",
       "      <th>col</th>\n",
       "      <th>count_missing</th>\n",
       "      <th>percent_missing</th>\n",
       "    </tr>\n",
       "  </thead>\n",
       "  <tbody>\n",
       "    <tr>\n",
       "      <th>3</th>\n",
       "      <td>weight</td>\n",
       "      <td>98569</td>\n",
       "      <td>96.86</td>\n",
       "    </tr>\n",
       "    <tr>\n",
       "      <th>5</th>\n",
       "      <td>medical_specialty</td>\n",
       "      <td>49949</td>\n",
       "      <td>49.08</td>\n",
       "    </tr>\n",
       "    <tr>\n",
       "      <th>4</th>\n",
       "      <td>payer_code</td>\n",
       "      <td>40256</td>\n",
       "      <td>39.56</td>\n",
       "    </tr>\n",
       "    <tr>\n",
       "      <th>0</th>\n",
       "      <td>race</td>\n",
       "      <td>2273</td>\n",
       "      <td>2.23</td>\n",
       "    </tr>\n",
       "    <tr>\n",
       "      <th>8</th>\n",
       "      <td>diag_3</td>\n",
       "      <td>1423</td>\n",
       "      <td>1.40</td>\n",
       "    </tr>\n",
       "    <tr>\n",
       "      <th>7</th>\n",
       "      <td>diag_2</td>\n",
       "      <td>358</td>\n",
       "      <td>0.35</td>\n",
       "    </tr>\n",
       "    <tr>\n",
       "      <th>6</th>\n",
       "      <td>diag_1</td>\n",
       "      <td>21</td>\n",
       "      <td>0.02</td>\n",
       "    </tr>\n",
       "    <tr>\n",
       "      <th>28</th>\n",
       "      <td>glipizide-metformin</td>\n",
       "      <td>0</td>\n",
       "      <td>0.00</td>\n",
       "    </tr>\n",
       "    <tr>\n",
       "      <th>23</th>\n",
       "      <td>miglitol</td>\n",
       "      <td>0</td>\n",
       "      <td>0.00</td>\n",
       "    </tr>\n",
       "    <tr>\n",
       "      <th>24</th>\n",
       "      <td>troglitazone</td>\n",
       "      <td>0</td>\n",
       "      <td>0.00</td>\n",
       "    </tr>\n",
       "    <tr>\n",
       "      <th>25</th>\n",
       "      <td>tolazamide</td>\n",
       "      <td>0</td>\n",
       "      <td>0.00</td>\n",
       "    </tr>\n",
       "    <tr>\n",
       "      <th>26</th>\n",
       "      <td>insulin</td>\n",
       "      <td>0</td>\n",
       "      <td>0.00</td>\n",
       "    </tr>\n",
       "    <tr>\n",
       "      <th>27</th>\n",
       "      <td>glyburide-metformin</td>\n",
       "      <td>0</td>\n",
       "      <td>0.00</td>\n",
       "    </tr>\n",
       "    <tr>\n",
       "      <th>31</th>\n",
       "      <td>metformin-pioglitazone</td>\n",
       "      <td>0</td>\n",
       "      <td>0.00</td>\n",
       "    </tr>\n",
       "    <tr>\n",
       "      <th>29</th>\n",
       "      <td>glimepiride-pioglitazone</td>\n",
       "      <td>0</td>\n",
       "      <td>0.00</td>\n",
       "    </tr>\n",
       "    <tr>\n",
       "      <th>30</th>\n",
       "      <td>metformin-rosiglitazone</td>\n",
       "      <td>0</td>\n",
       "      <td>0.00</td>\n",
       "    </tr>\n",
       "    <tr>\n",
       "      <th>21</th>\n",
       "      <td>rosiglitazone</td>\n",
       "      <td>0</td>\n",
       "      <td>0.00</td>\n",
       "    </tr>\n",
       "    <tr>\n",
       "      <th>32</th>\n",
       "      <td>change</td>\n",
       "      <td>0</td>\n",
       "      <td>0.00</td>\n",
       "    </tr>\n",
       "    <tr>\n",
       "      <th>33</th>\n",
       "      <td>diabetesMed</td>\n",
       "      <td>0</td>\n",
       "      <td>0.00</td>\n",
       "    </tr>\n",
       "    <tr>\n",
       "      <th>22</th>\n",
       "      <td>acarbose</td>\n",
       "      <td>0</td>\n",
       "      <td>0.00</td>\n",
       "    </tr>\n",
       "    <tr>\n",
       "      <th>17</th>\n",
       "      <td>glipizide</td>\n",
       "      <td>0</td>\n",
       "      <td>0.00</td>\n",
       "    </tr>\n",
       "    <tr>\n",
       "      <th>20</th>\n",
       "      <td>pioglitazone</td>\n",
       "      <td>0</td>\n",
       "      <td>0.00</td>\n",
       "    </tr>\n",
       "    <tr>\n",
       "      <th>19</th>\n",
       "      <td>tolbutamide</td>\n",
       "      <td>0</td>\n",
       "      <td>0.00</td>\n",
       "    </tr>\n",
       "    <tr>\n",
       "      <th>18</th>\n",
       "      <td>glyburide</td>\n",
       "      <td>0</td>\n",
       "      <td>0.00</td>\n",
       "    </tr>\n",
       "    <tr>\n",
       "      <th>1</th>\n",
       "      <td>gender</td>\n",
       "      <td>0</td>\n",
       "      <td>0.00</td>\n",
       "    </tr>\n",
       "    <tr>\n",
       "      <th>16</th>\n",
       "      <td>acetohexamide</td>\n",
       "      <td>0</td>\n",
       "      <td>0.00</td>\n",
       "    </tr>\n",
       "    <tr>\n",
       "      <th>15</th>\n",
       "      <td>glimepiride</td>\n",
       "      <td>0</td>\n",
       "      <td>0.00</td>\n",
       "    </tr>\n",
       "    <tr>\n",
       "      <th>14</th>\n",
       "      <td>chlorpropamide</td>\n",
       "      <td>0</td>\n",
       "      <td>0.00</td>\n",
       "    </tr>\n",
       "    <tr>\n",
       "      <th>13</th>\n",
       "      <td>nateglinide</td>\n",
       "      <td>0</td>\n",
       "      <td>0.00</td>\n",
       "    </tr>\n",
       "    <tr>\n",
       "      <th>12</th>\n",
       "      <td>repaglinide</td>\n",
       "      <td>0</td>\n",
       "      <td>0.00</td>\n",
       "    </tr>\n",
       "    <tr>\n",
       "      <th>11</th>\n",
       "      <td>metformin</td>\n",
       "      <td>0</td>\n",
       "      <td>0.00</td>\n",
       "    </tr>\n",
       "    <tr>\n",
       "      <th>10</th>\n",
       "      <td>A1Cresult</td>\n",
       "      <td>0</td>\n",
       "      <td>0.00</td>\n",
       "    </tr>\n",
       "    <tr>\n",
       "      <th>9</th>\n",
       "      <td>max_glu_serum</td>\n",
       "      <td>0</td>\n",
       "      <td>0.00</td>\n",
       "    </tr>\n",
       "    <tr>\n",
       "      <th>2</th>\n",
       "      <td>age</td>\n",
       "      <td>0</td>\n",
       "      <td>0.00</td>\n",
       "    </tr>\n",
       "    <tr>\n",
       "      <th>34</th>\n",
       "      <td>readmitted</td>\n",
       "      <td>0</td>\n",
       "      <td>0.00</td>\n",
       "    </tr>\n",
       "  </tbody>\n",
       "</table>\n",
       "</div>"
      ],
      "text/plain": [
       "                         col  count_missing  percent_missing\n",
       "3                     weight          98569            96.86\n",
       "5          medical_specialty          49949            49.08\n",
       "4                 payer_code          40256            39.56\n",
       "0                       race           2273             2.23\n",
       "8                     diag_3           1423             1.40\n",
       "7                     diag_2            358             0.35\n",
       "6                     diag_1             21             0.02\n",
       "28       glipizide-metformin              0             0.00\n",
       "23                  miglitol              0             0.00\n",
       "24              troglitazone              0             0.00\n",
       "25                tolazamide              0             0.00\n",
       "26                   insulin              0             0.00\n",
       "27       glyburide-metformin              0             0.00\n",
       "31    metformin-pioglitazone              0             0.00\n",
       "29  glimepiride-pioglitazone              0             0.00\n",
       "30   metformin-rosiglitazone              0             0.00\n",
       "21             rosiglitazone              0             0.00\n",
       "32                    change              0             0.00\n",
       "33               diabetesMed              0             0.00\n",
       "22                  acarbose              0             0.00\n",
       "17                 glipizide              0             0.00\n",
       "20              pioglitazone              0             0.00\n",
       "19               tolbutamide              0             0.00\n",
       "18                 glyburide              0             0.00\n",
       "1                     gender              0             0.00\n",
       "16             acetohexamide              0             0.00\n",
       "15               glimepiride              0             0.00\n",
       "14            chlorpropamide              0             0.00\n",
       "13               nateglinide              0             0.00\n",
       "12               repaglinide              0             0.00\n",
       "11                 metformin              0             0.00\n",
       "10                 A1Cresult              0             0.00\n",
       "9              max_glu_serum              0             0.00\n",
       "2                        age              0             0.00\n",
       "34                readmitted              0             0.00"
      ]
     },
     "execution_count": 15,
     "metadata": {},
     "output_type": "execute_result"
    }
   ],
   "source": [
    "df_new = []\n",
    "# Checkthe percentage of the missing values \n",
    "for col in train.columns:\n",
    "    if train[col].dtype == object:\n",
    "        count_missing = train[col][train[col] == '?'].count()\n",
    "        percent_missing = (count_missing.sum()/train.shape[0]*100).round(2)\n",
    "#         print(col,count_missing,percent_missing)\n",
    "        df_new.append([col,count_missing,percent_missing])\n",
    "missing_value=pd.DataFrame(df_new,columns=[\"col\",\"count_missing\",\"percent_missing\"]).sort_values(by=\"percent_missing\",ascending=False)\n",
    "missing_value"
   ]
  },
  {
   "cell_type": "markdown",
   "id": "5ef7a43d",
   "metadata": {},
   "source": [
    "High missing values include: 1.) weight 2.) medical_specialty 3.) payer_code 4.) race /\n",
    "Other values to clean: 1.) diagosis_1 2.) diagosis_2 3.) diagnosis_3"
   ]
  },
  {
   "cell_type": "code",
   "execution_count": 16,
   "id": "8f497163",
   "metadata": {},
   "outputs": [],
   "source": [
    "# replace ? with nan\n",
    "df = df.replace('?',np.nan)"
   ]
  },
  {
   "cell_type": "code",
   "execution_count": 17,
   "id": "b781c504",
   "metadata": {},
   "outputs": [
    {
     "data": {
      "text/html": [
       "<div>\n",
       "<style scoped>\n",
       "    .dataframe tbody tr th:only-of-type {\n",
       "        vertical-align: middle;\n",
       "    }\n",
       "\n",
       "    .dataframe tbody tr th {\n",
       "        vertical-align: top;\n",
       "    }\n",
       "\n",
       "    .dataframe thead th {\n",
       "        text-align: right;\n",
       "    }\n",
       "</style>\n",
       "<table border=\"1\" class=\"dataframe\">\n",
       "  <thead>\n",
       "    <tr style=\"text-align: right;\">\n",
       "      <th></th>\n",
       "      <th>encounter_id</th>\n",
       "      <th>patient_nbr</th>\n",
       "      <th>race</th>\n",
       "      <th>gender</th>\n",
       "      <th>age</th>\n",
       "      <th>weight</th>\n",
       "      <th>admission_type_id</th>\n",
       "      <th>discharge_disposition_id</th>\n",
       "      <th>admission_source_id</th>\n",
       "      <th>time_in_hospital</th>\n",
       "      <th>...</th>\n",
       "      <th>tolazamide</th>\n",
       "      <th>insulin</th>\n",
       "      <th>glyburide-metformin</th>\n",
       "      <th>glipizide-metformin</th>\n",
       "      <th>glimepiride-pioglitazone</th>\n",
       "      <th>metformin-rosiglitazone</th>\n",
       "      <th>metformin-pioglitazone</th>\n",
       "      <th>change</th>\n",
       "      <th>diabetesMed</th>\n",
       "      <th>readmitted</th>\n",
       "    </tr>\n",
       "  </thead>\n",
       "  <tbody>\n",
       "    <tr>\n",
       "      <th>0</th>\n",
       "      <td>2278392</td>\n",
       "      <td>8222157</td>\n",
       "      <td>Caucasian</td>\n",
       "      <td>Female</td>\n",
       "      <td>[0-10)</td>\n",
       "      <td>NaN</td>\n",
       "      <td>6</td>\n",
       "      <td>25</td>\n",
       "      <td>1</td>\n",
       "      <td>1</td>\n",
       "      <td>...</td>\n",
       "      <td>No</td>\n",
       "      <td>No</td>\n",
       "      <td>No</td>\n",
       "      <td>No</td>\n",
       "      <td>No</td>\n",
       "      <td>No</td>\n",
       "      <td>No</td>\n",
       "      <td>No</td>\n",
       "      <td>No</td>\n",
       "      <td>NO</td>\n",
       "    </tr>\n",
       "    <tr>\n",
       "      <th>1</th>\n",
       "      <td>149190</td>\n",
       "      <td>55629189</td>\n",
       "      <td>Caucasian</td>\n",
       "      <td>Female</td>\n",
       "      <td>[10-20)</td>\n",
       "      <td>NaN</td>\n",
       "      <td>1</td>\n",
       "      <td>1</td>\n",
       "      <td>7</td>\n",
       "      <td>3</td>\n",
       "      <td>...</td>\n",
       "      <td>No</td>\n",
       "      <td>Up</td>\n",
       "      <td>No</td>\n",
       "      <td>No</td>\n",
       "      <td>No</td>\n",
       "      <td>No</td>\n",
       "      <td>No</td>\n",
       "      <td>Ch</td>\n",
       "      <td>Yes</td>\n",
       "      <td>&gt;30</td>\n",
       "    </tr>\n",
       "    <tr>\n",
       "      <th>2</th>\n",
       "      <td>64410</td>\n",
       "      <td>86047875</td>\n",
       "      <td>AfricanAmerican</td>\n",
       "      <td>Female</td>\n",
       "      <td>[20-30)</td>\n",
       "      <td>NaN</td>\n",
       "      <td>1</td>\n",
       "      <td>1</td>\n",
       "      <td>7</td>\n",
       "      <td>2</td>\n",
       "      <td>...</td>\n",
       "      <td>No</td>\n",
       "      <td>No</td>\n",
       "      <td>No</td>\n",
       "      <td>No</td>\n",
       "      <td>No</td>\n",
       "      <td>No</td>\n",
       "      <td>No</td>\n",
       "      <td>No</td>\n",
       "      <td>Yes</td>\n",
       "      <td>NO</td>\n",
       "    </tr>\n",
       "    <tr>\n",
       "      <th>3</th>\n",
       "      <td>500364</td>\n",
       "      <td>82442376</td>\n",
       "      <td>Caucasian</td>\n",
       "      <td>Male</td>\n",
       "      <td>[30-40)</td>\n",
       "      <td>NaN</td>\n",
       "      <td>1</td>\n",
       "      <td>1</td>\n",
       "      <td>7</td>\n",
       "      <td>2</td>\n",
       "      <td>...</td>\n",
       "      <td>No</td>\n",
       "      <td>Up</td>\n",
       "      <td>No</td>\n",
       "      <td>No</td>\n",
       "      <td>No</td>\n",
       "      <td>No</td>\n",
       "      <td>No</td>\n",
       "      <td>Ch</td>\n",
       "      <td>Yes</td>\n",
       "      <td>NO</td>\n",
       "    </tr>\n",
       "    <tr>\n",
       "      <th>4</th>\n",
       "      <td>16680</td>\n",
       "      <td>42519267</td>\n",
       "      <td>Caucasian</td>\n",
       "      <td>Male</td>\n",
       "      <td>[40-50)</td>\n",
       "      <td>NaN</td>\n",
       "      <td>1</td>\n",
       "      <td>1</td>\n",
       "      <td>7</td>\n",
       "      <td>1</td>\n",
       "      <td>...</td>\n",
       "      <td>No</td>\n",
       "      <td>Steady</td>\n",
       "      <td>No</td>\n",
       "      <td>No</td>\n",
       "      <td>No</td>\n",
       "      <td>No</td>\n",
       "      <td>No</td>\n",
       "      <td>Ch</td>\n",
       "      <td>Yes</td>\n",
       "      <td>NO</td>\n",
       "    </tr>\n",
       "  </tbody>\n",
       "</table>\n",
       "<p>5 rows × 48 columns</p>\n",
       "</div>"
      ],
      "text/plain": [
       "   encounter_id  patient_nbr             race  gender      age weight  \\\n",
       "0       2278392      8222157        Caucasian  Female   [0-10)    NaN   \n",
       "1        149190     55629189        Caucasian  Female  [10-20)    NaN   \n",
       "2         64410     86047875  AfricanAmerican  Female  [20-30)    NaN   \n",
       "3        500364     82442376        Caucasian    Male  [30-40)    NaN   \n",
       "4         16680     42519267        Caucasian    Male  [40-50)    NaN   \n",
       "\n",
       "   admission_type_id  discharge_disposition_id  admission_source_id  \\\n",
       "0                  6                        25                    1   \n",
       "1                  1                         1                    7   \n",
       "2                  1                         1                    7   \n",
       "3                  1                         1                    7   \n",
       "4                  1                         1                    7   \n",
       "\n",
       "   time_in_hospital  ... tolazamide insulin  glyburide-metformin  \\\n",
       "0                 1  ...         No      No                   No   \n",
       "1                 3  ...         No      Up                   No   \n",
       "2                 2  ...         No      No                   No   \n",
       "3                 2  ...         No      Up                   No   \n",
       "4                 1  ...         No  Steady                   No   \n",
       "\n",
       "   glipizide-metformin  glimepiride-pioglitazone  metformin-rosiglitazone  \\\n",
       "0                   No                        No                       No   \n",
       "1                   No                        No                       No   \n",
       "2                   No                        No                       No   \n",
       "3                   No                        No                       No   \n",
       "4                   No                        No                       No   \n",
       "\n",
       "   metformin-pioglitazone  change diabetesMed readmitted  \n",
       "0                      No      No          No         NO  \n",
       "1                      No      Ch         Yes        >30  \n",
       "2                      No      No         Yes         NO  \n",
       "3                      No      Ch         Yes         NO  \n",
       "4                      No      Ch         Yes         NO  \n",
       "\n",
       "[5 rows x 48 columns]"
      ]
     },
     "execution_count": 17,
     "metadata": {},
     "output_type": "execute_result"
    }
   ],
   "source": [
    "df.head()"
   ]
  },
  {
   "cell_type": "code",
   "execution_count": 18,
   "id": "50245741",
   "metadata": {},
   "outputs": [],
   "source": [
    "# Race, payer_code, and medical_specialty are categorical columns,\n",
    "# The best thing to do is to just add another categorical type for unknown using the fillna function.\n",
    "df['race'] = df['race'].fillna('Unknown')\n",
    "df['payer_code'] = df['payer_code'].fillna('Unknown')\n",
    "df['medical_specialty'] = df['medical_specialty'].fillna('Unknown')"
   ]
  },
  {
   "cell_type": "code",
   "execution_count": 19,
   "id": "6763fdb9",
   "metadata": {},
   "outputs": [
    {
     "data": {
      "text/plain": [
       "Caucasian          76099\n",
       "AfricanAmerican    19210\n",
       "Unknown             2273\n",
       "Hispanic            2037\n",
       "Other               1506\n",
       "Asian                641\n",
       "Name: race, dtype: int64"
      ]
     },
     "execution_count": 19,
     "metadata": {},
     "output_type": "execute_result"
    }
   ],
   "source": [
    "# Investigate one of the columns we have filled\n",
    "df['race'].value_counts()"
   ]
  },
  {
   "cell_type": "code",
   "execution_count": 20,
   "id": "3c6d236f",
   "metadata": {},
   "outputs": [
    {
     "data": {
      "text/plain": [
       "3197"
      ]
     },
     "execution_count": 20,
     "metadata": {},
     "output_type": "execute_result"
    }
   ],
   "source": [
    "# Weight column\n",
    "# Check values not missing\n",
    "df['weight'].notnull().sum()"
   ]
  },
  {
   "cell_type": "code",
   "execution_count": 21,
   "id": "1d8d047e",
   "metadata": {},
   "outputs": [],
   "source": [
    "# Create a new column\n",
    "df['has_weight'] = df.weight.notnull().astype('int')"
   ]
  },
  {
   "cell_type": "code",
   "execution_count": 22,
   "id": "37112426",
   "metadata": {},
   "outputs": [
    {
     "data": {
      "text/plain": [
       "0    98569\n",
       "1     3197\n",
       "Name: has_weight, dtype: int64"
      ]
     },
     "execution_count": 22,
     "metadata": {},
     "output_type": "execute_result"
    }
   ],
   "source": [
    "df['has_weight'].value_counts()"
   ]
  },
  {
   "cell_type": "code",
   "execution_count": 23,
   "id": "7a32246b",
   "metadata": {},
   "outputs": [],
   "source": [
    "# Drop weight column\n",
    "df = df.drop(['weight'], axis=1)"
   ]
  },
  {
   "cell_type": "code",
   "execution_count": 24,
   "id": "7a3daa21",
   "metadata": {},
   "outputs": [
    {
     "name": "stdout",
     "output_type": "stream",
     "text": [
      "encounter_id: 101766 unique values\n",
      "patient_nbr: 71518 unique values\n",
      "race\n",
      "['Caucasian' 'AfricanAmerican' 'Unknown' 'Other' 'Asian' 'Hispanic']\n",
      "gender\n",
      "['Female' 'Male' 'Unknown/Invalid']\n",
      "age\n",
      "['[0-10)' '[10-20)' '[20-30)' '[30-40)' '[40-50)' '[50-60)' '[60-70)'\n",
      " '[70-80)' '[80-90)' '[90-100)']\n",
      "admission_type_id\n",
      "[6 1 2 3 4 5 8 7]\n",
      "discharge_disposition_id\n",
      "[25  1  3  6  2  5 11  7 10  4 14 18  8 13 12 16 17 22 23  9 20 15 24 28\n",
      " 19 27]\n",
      "admission_source_id\n",
      "[ 1  7  2  4  5  6 20  3 17  8  9 14 10 22 11 25 13]\n",
      "time_in_hospital\n",
      "[ 1  3  2  4  5 13 12  9  7 10  6 11  8 14]\n",
      "payer_code\n",
      "['Unknown' 'MC' 'MD' 'HM' 'UN' 'BC' 'SP' 'CP' 'SI' 'DM' 'CM' 'CH' 'PO'\n",
      " 'WC' 'OT' 'OG' 'MP' 'FR']\n",
      "medical_specialty: 73 unique values\n",
      "num_lab_procedures: 118 unique values\n",
      "num_procedures\n",
      "[0 5 1 6 2 3 4]\n",
      "num_medications: 75 unique values\n",
      "number_outpatient: 39 unique values\n",
      "number_emergency: 33 unique values\n",
      "number_inpatient\n",
      "[ 0  1  2  3  6  5  4  7  8  9 15 10 11 14 12 13 17 16 21 18 19]\n",
      "diag_1: 717 unique values\n",
      "diag_2: 749 unique values\n",
      "diag_3: 790 unique values\n",
      "number_diagnoses\n",
      "[ 1  9  6  7  5  8  3  4  2 16 12 13 15 10 11 14]\n",
      "max_glu_serum\n",
      "['None' '>300' 'Norm' '>200']\n",
      "A1Cresult\n",
      "['None' '>7' '>8' 'Norm']\n",
      "metformin\n",
      "['No' 'Steady' 'Up' 'Down']\n",
      "repaglinide\n",
      "['No' 'Up' 'Steady' 'Down']\n",
      "nateglinide\n",
      "['No' 'Steady' 'Down' 'Up']\n",
      "chlorpropamide\n",
      "['No' 'Steady' 'Down' 'Up']\n",
      "glimepiride\n",
      "['No' 'Steady' 'Down' 'Up']\n",
      "acetohexamide\n",
      "['No' 'Steady']\n",
      "glipizide\n",
      "['No' 'Steady' 'Up' 'Down']\n",
      "glyburide\n",
      "['No' 'Steady' 'Up' 'Down']\n",
      "tolbutamide\n",
      "['No' 'Steady']\n",
      "pioglitazone\n",
      "['No' 'Steady' 'Up' 'Down']\n",
      "rosiglitazone\n",
      "['No' 'Steady' 'Up' 'Down']\n",
      "acarbose\n",
      "['No' 'Steady' 'Up' 'Down']\n",
      "miglitol\n",
      "['No' 'Steady' 'Down' 'Up']\n",
      "troglitazone\n",
      "['No' 'Steady']\n",
      "tolazamide\n",
      "['No' 'Steady' 'Up']\n",
      "insulin\n",
      "['No' 'Up' 'Steady' 'Down']\n",
      "glyburide-metformin\n",
      "['No' 'Steady' 'Down' 'Up']\n",
      "glipizide-metformin\n",
      "['No' 'Steady']\n",
      "glimepiride-pioglitazone\n",
      "['No' 'Steady']\n",
      "metformin-rosiglitazone\n",
      "['No' 'Steady']\n",
      "metformin-pioglitazone\n",
      "['No' 'Steady']\n",
      "change\n",
      "['No' 'Ch']\n",
      "diabetesMed\n",
      "['No' 'Yes']\n",
      "readmitted\n",
      "['NO' '>30' '<30']\n",
      "has_weight\n",
      "[0 1]\n"
     ]
    }
   ],
   "source": [
    "# for each column\n",
    "for c in list(df.columns):\n",
    "    \n",
    "    # get a list of unique values\n",
    "    n = df[c].unique()\n",
    "    \n",
    "    # if number of unique values is less than 30, print the values. Otherwise print the number of unique values\n",
    "    if len(n)<30:\n",
    "        print(c)\n",
    "        print(n)\n",
    "    else:\n",
    "        print(c + ': ' +str(len(n)) + ' unique values')"
   ]
  },
  {
   "cell_type": "code",
   "execution_count": 25,
   "id": "d80d63c4",
   "metadata": {},
   "outputs": [
    {
     "data": {
      "text/plain": [
       "30248"
      ]
     },
     "execution_count": 25,
     "metadata": {},
     "output_type": "execute_result"
    }
   ],
   "source": [
    "df['patient_nbr'].duplicated().sum()"
   ]
  },
  {
   "cell_type": "markdown",
   "id": "d5da3640",
   "metadata": {},
   "source": [
    "#### Readmission Rate Count"
   ]
  },
  {
   "cell_type": "code",
   "execution_count": 26,
   "id": "06058fd7",
   "metadata": {},
   "outputs": [
    {
     "data": {
      "text/plain": [
       "NO     53.911916\n",
       ">30    34.928169\n",
       "<30    11.159916\n",
       "Name: readmitted, dtype: float64"
      ]
     },
     "execution_count": 26,
     "metadata": {},
     "output_type": "execute_result"
    }
   ],
   "source": [
    "df['readmitted'].value_counts(normalize=True).apply(lambda x: x*100)"
   ]
  },
  {
   "cell_type": "markdown",
   "id": "27e8d659",
   "metadata": {},
   "source": [
    "54% of patients of the dataset were not readmitted, 35% were readmitted after 30 days, and only 11% were readmitted before 30 days"
   ]
  },
  {
   "cell_type": "code",
   "execution_count": 27,
   "id": "49c813f5",
   "metadata": {},
   "outputs": [
    {
     "data": {
      "text/plain": [
       "<AxesSubplot:title={'center':'Readmission_count'}>"
      ]
     },
     "execution_count": 27,
     "metadata": {},
     "output_type": "execute_result"
    },
    {
     "data": {
      "image/png": "[encoded data removed]",
      "text/plain": [
       "<Figure size 432x288 with 1 Axes>"
      ]
     },
     "metadata": {
      "needs_background": "light"
     },
     "output_type": "display_data"
    }
   ],
   "source": [
    "target_count=df['readmitted'].value_counts()\n",
    "target_count.plot(kind='bar', title='Readmission_count')"
   ]
  },
  {
   "cell_type": "code",
   "execution_count": 28,
   "id": "aef78ad7",
   "metadata": {},
   "outputs": [
    {
     "data": {
      "text/plain": [
       "Index(['encounter_id', 'patient_nbr', 'race', 'gender', 'age',\n",
       "       'admission_type_id', 'discharge_disposition_id', 'admission_source_id',\n",
       "       'time_in_hospital', 'payer_code', 'medical_specialty',\n",
       "       'num_lab_procedures', 'num_procedures', 'num_medications',\n",
       "       'number_outpatient', 'number_emergency', 'number_inpatient', 'diag_1',\n",
       "       'diag_2', 'diag_3', 'number_diagnoses', 'max_glu_serum', 'A1Cresult',\n",
       "       'metformin', 'repaglinide', 'nateglinide', 'chlorpropamide',\n",
       "       'glimepiride', 'acetohexamide', 'glipizide', 'glyburide', 'tolbutamide',\n",
       "       'pioglitazone', 'rosiglitazone', 'acarbose', 'miglitol', 'troglitazone',\n",
       "       'tolazamide', 'insulin', 'glyburide-metformin', 'glipizide-metformin',\n",
       "       'glimepiride-pioglitazone', 'metformin-rosiglitazone',\n",
       "       'metformin-pioglitazone', 'change', 'diabetesMed', 'readmitted',\n",
       "       'has_weight'],\n",
       "      dtype='object')"
      ]
     },
     "execution_count": 28,
     "metadata": {},
     "output_type": "execute_result"
    }
   ],
   "source": [
    "df.columns"
   ]
  },
  {
   "cell_type": "code",
   "execution_count": 29,
   "id": "786616a4",
   "metadata": {},
   "outputs": [],
   "source": [
    " # drop the identifiers of patients  encounter_id and patient_nbr\n",
    "df =  df.drop(['encounter_id', 'patient_nbr'], axis = 1)"
   ]
  },
  {
   "cell_type": "code",
   "execution_count": 30,
   "id": "17e5b2c1",
   "metadata": {},
   "outputs": [],
   "source": [
    "# discharge_disposition_id\n",
    "# from the IDs_mapping.csv we can see that 11,13,14,19,20,21 are related to death or hospice. 8 and 25 are related to null/not mapped\n",
    "# We should remove these values from the data set.\n",
    "df = df.loc[~df['discharge_disposition_id'].isin([11,13,14,19,20,21, 18, 25])]"
   ]
  },
  {
   "cell_type": "code",
   "execution_count": 31,
   "id": "899611bf",
   "metadata": {},
   "outputs": [
    {
     "data": {
      "text/plain": [
       "array([ 1,  3,  6,  2,  5,  7, 10,  4,  8, 12, 16, 17, 22, 23,  9, 15, 24,\n",
       "       28, 27], dtype=int64)"
      ]
     },
     "execution_count": 31,
     "metadata": {},
     "output_type": "execute_result"
    }
   ],
   "source": [
    "df['discharge_disposition_id'].unique()"
   ]
  },
  {
   "cell_type": "markdown",
   "id": "0f7f8c11",
   "metadata": {},
   "source": [
    "#### 1.) Race"
   ]
  },
  {
   "cell_type": "code",
   "execution_count": 32,
   "id": "44612716",
   "metadata": {},
   "outputs": [
    {
     "data": {
      "text/plain": [
       "Caucasian          70929\n",
       "AfricanAmerican    17638\n",
       "Unknown             2200\n",
       "Hispanic            1882\n",
       "Other               1404\n",
       "Asian                610\n",
       "Name: race, dtype: int64"
      ]
     },
     "execution_count": 32,
     "metadata": {},
     "output_type": "execute_result"
    }
   ],
   "source": [
    "df['race'].value_counts()"
   ]
  },
  {
   "cell_type": "code",
   "execution_count": 33,
   "id": "72abd4b6",
   "metadata": {},
   "outputs": [
    {
     "data": {
      "image/png": "[encoded data removed]",
      "text/plain": [
       "<Figure size 1080x720 with 1 Axes>"
      ]
     },
     "metadata": {
      "needs_background": "light"
     },
     "output_type": "display_data"
    }
   ],
   "source": [
    "plt.figure(figsize=(15,10))\n",
    "sns.countplot(x=\"race\", hue=\"readmitted\", data=df, palette = 'bright')\n",
    "plt.title(\"Number of readmission outcome across race\")\n",
    "plt.xlabel(\"Race\")\n",
    "plt.ylabel(\"Count\")\n",
    "plt.show()"
   ]
  },
  {
   "cell_type": "markdown",
   "id": "4065f146",
   "metadata": {},
   "source": [
    "The dataset contains more caucasians therefore it explains wht most patients readmitted were caucasians"
   ]
  },
  {
   "cell_type": "markdown",
   "id": "b2f7d87b",
   "metadata": {},
   "source": [
    "#### 2.) Gender"
   ]
  },
  {
   "cell_type": "code",
   "execution_count": 34,
   "id": "3b0188f9",
   "metadata": {},
   "outputs": [],
   "source": [
    "df = df[~df['gender'].isin(['Unknown/Invalid'])]"
   ]
  },
  {
   "cell_type": "code",
   "execution_count": 35,
   "id": "038d3994",
   "metadata": {},
   "outputs": [
    {
     "data": {
      "image/png": "[encoded data removed]",
      "text/plain": [
       "<Figure size 1080x720 with 1 Axes>"
      ]
     },
     "metadata": {
      "needs_background": "light"
     },
     "output_type": "display_data"
    }
   ],
   "source": [
    "plt.figure(figsize=(15,10))\n",
    "sns.countplot(x=\"gender\", hue=\"readmitted\", data=df, palette = 'bright')\n",
    "plt.title(\"Number of readmission outcome across gender\")\n",
    "plt.xlabel(\"Gender\")\n",
    "plt.ylabel(\"Count\")\n",
    "plt.show()"
   ]
  },
  {
   "cell_type": "markdown",
   "id": "409cba29",
   "metadata": {},
   "source": [
    "A higher proportion of female patients were readmitted, as compared to male patients"
   ]
  },
  {
   "cell_type": "markdown",
   "id": "07ead9fb",
   "metadata": {},
   "source": [
    "#### 3.) Age"
   ]
  },
  {
   "cell_type": "code",
   "execution_count": 36,
   "id": "49ef20ab",
   "metadata": {},
   "outputs": [
    {
     "data": {
      "image/png": "[encoded data removed]",
      "text/plain": [
       "<Figure size 1080x720 with 1 Axes>"
      ]
     },
     "metadata": {
      "needs_background": "light"
     },
     "output_type": "display_data"
    }
   ],
   "source": [
    "plt.figure(figsize=(15,10))\n",
    "sns.countplot(x=\"age\", hue=\"readmitted\", data=df, palette = 'bright')\n",
    "plt.title(\"Number of readmission outcome across age\")\n",
    "plt.xlabel(\"Age\")\n",
    "plt.ylabel(\"Count\")\n",
    "plt.show()"
   ]
  },
  {
   "cell_type": "markdown",
   "id": "e7ec7860",
   "metadata": {},
   "source": [
    " All age ranges share a similar pattern in terms of readmission results, with more cases of no readmissions than readmissions. However, there is a higher percentage of readmissions among the people over 70 years old. Compared to ages between 40 and 70"
   ]
  },
  {
   "cell_type": "markdown",
   "id": "7c396252",
   "metadata": {},
   "source": [
    "#### 4.) Admission_type"
   ]
  },
  {
   "cell_type": "code",
   "execution_count": 37,
   "id": "e522e17c",
   "metadata": {},
   "outputs": [
    {
     "data": {
      "text/plain": [
       "1    50215\n",
       "3    17688\n",
       "2    17564\n",
       "5     4616\n",
       "6     4231\n",
       "8      318\n",
       "7       18\n",
       "4       10\n",
       "Name: admission_type_id, dtype: int64"
      ]
     },
     "execution_count": 37,
     "metadata": {},
     "output_type": "execute_result"
    }
   ],
   "source": [
    "df['admission_type_id'].value_counts()"
   ]
  },
  {
   "cell_type": "code",
   "execution_count": 38,
   "id": "3cd82f10",
   "metadata": {},
   "outputs": [],
   "source": [
    "admission_type_map = {1: 'Emergency', 2: 'Urgent', 3: 'Elective', 4: 'Newborn', 5: 'Other', 6:'Other',\n",
    "                      7: 'Trauma Center', 8: 'Other'}\n",
    "df['admission_type'] = df['admission_type_id'].map(admission_type_map)"
   ]
  },
  {
   "cell_type": "code",
   "execution_count": 39,
   "id": "9dfc987a",
   "metadata": {},
   "outputs": [
    {
     "data": {
      "text/plain": [
       "Emergency        50215\n",
       "Elective         17688\n",
       "Urgent           17564\n",
       "Other             9165\n",
       "Trauma Center       18\n",
       "Newborn             10\n",
       "Name: admission_type, dtype: int64"
      ]
     },
     "execution_count": 39,
     "metadata": {},
     "output_type": "execute_result"
    }
   ],
   "source": [
    "df['admission_type'].value_counts()"
   ]
  },
  {
   "cell_type": "code",
   "execution_count": 40,
   "id": "27eaabcf",
   "metadata": {},
   "outputs": [
    {
     "data": {
      "text/html": [
       "<div>\n",
       "<style scoped>\n",
       "    .dataframe tbody tr th:only-of-type {\n",
       "        vertical-align: middle;\n",
       "    }\n",
       "\n",
       "    .dataframe tbody tr th {\n",
       "        vertical-align: top;\n",
       "    }\n",
       "\n",
       "    .dataframe thead th {\n",
       "        text-align: right;\n",
       "    }\n",
       "</style>\n",
       "<table border=\"1\" class=\"dataframe\">\n",
       "  <thead>\n",
       "    <tr style=\"text-align: right;\">\n",
       "      <th></th>\n",
       "      <th>admission_type</th>\n",
       "      <th>readmitted</th>\n",
       "      <th>Count</th>\n",
       "    </tr>\n",
       "  </thead>\n",
       "  <tbody>\n",
       "    <tr>\n",
       "      <th>2</th>\n",
       "      <td>Elective</td>\n",
       "      <td>NO</td>\n",
       "      <td>10301</td>\n",
       "    </tr>\n",
       "    <tr>\n",
       "      <th>6</th>\n",
       "      <td>Elective</td>\n",
       "      <td>&gt;30</td>\n",
       "      <td>5553</td>\n",
       "    </tr>\n",
       "    <tr>\n",
       "      <th>10</th>\n",
       "      <td>Elective</td>\n",
       "      <td>&lt;30</td>\n",
       "      <td>1834</td>\n",
       "    </tr>\n",
       "    <tr>\n",
       "      <th>0</th>\n",
       "      <td>Emergency</td>\n",
       "      <td>NO</td>\n",
       "      <td>25696</td>\n",
       "    </tr>\n",
       "    <tr>\n",
       "      <th>1</th>\n",
       "      <td>Emergency</td>\n",
       "      <td>&gt;30</td>\n",
       "      <td>18602</td>\n",
       "    </tr>\n",
       "    <tr>\n",
       "      <th>5</th>\n",
       "      <td>Emergency</td>\n",
       "      <td>&lt;30</td>\n",
       "      <td>5917</td>\n",
       "    </tr>\n",
       "    <tr>\n",
       "      <th>13</th>\n",
       "      <td>Newborn</td>\n",
       "      <td>NO</td>\n",
       "      <td>7</td>\n",
       "    </tr>\n",
       "    <tr>\n",
       "      <th>14</th>\n",
       "      <td>Newborn</td>\n",
       "      <td>&gt;30</td>\n",
       "      <td>2</td>\n",
       "    </tr>\n",
       "    <tr>\n",
       "      <th>15</th>\n",
       "      <td>Newborn</td>\n",
       "      <td>&lt;30</td>\n",
       "      <td>1</td>\n",
       "    </tr>\n",
       "    <tr>\n",
       "      <th>7</th>\n",
       "      <td>Other</td>\n",
       "      <td>NO</td>\n",
       "      <td>4493</td>\n",
       "    </tr>\n",
       "    <tr>\n",
       "      <th>8</th>\n",
       "      <td>Other</td>\n",
       "      <td>&gt;30</td>\n",
       "      <td>3657</td>\n",
       "    </tr>\n",
       "    <tr>\n",
       "      <th>11</th>\n",
       "      <td>Other</td>\n",
       "      <td>&lt;30</td>\n",
       "      <td>1015</td>\n",
       "    </tr>\n",
       "    <tr>\n",
       "      <th>12</th>\n",
       "      <td>Trauma Center</td>\n",
       "      <td>NO</td>\n",
       "      <td>18</td>\n",
       "    </tr>\n",
       "    <tr>\n",
       "      <th>3</th>\n",
       "      <td>Urgent</td>\n",
       "      <td>NO</td>\n",
       "      <td>9283</td>\n",
       "    </tr>\n",
       "    <tr>\n",
       "      <th>4</th>\n",
       "      <td>Urgent</td>\n",
       "      <td>&gt;30</td>\n",
       "      <td>6285</td>\n",
       "    </tr>\n",
       "    <tr>\n",
       "      <th>9</th>\n",
       "      <td>Urgent</td>\n",
       "      <td>&lt;30</td>\n",
       "      <td>1996</td>\n",
       "    </tr>\n",
       "  </tbody>\n",
       "</table>\n",
       "</div>"
      ],
      "text/plain": [
       "   admission_type readmitted  Count\n",
       "2        Elective         NO  10301\n",
       "6        Elective        >30   5553\n",
       "10       Elective        <30   1834\n",
       "0       Emergency         NO  25696\n",
       "1       Emergency        >30  18602\n",
       "5       Emergency        <30   5917\n",
       "13        Newborn         NO      7\n",
       "14        Newborn        >30      2\n",
       "15        Newborn        <30      1\n",
       "7           Other         NO   4493\n",
       "8           Other        >30   3657\n",
       "11          Other        <30   1015\n",
       "12  Trauma Center         NO     18\n",
       "3          Urgent         NO   9283\n",
       "4          Urgent        >30   6285\n",
       "9          Urgent        <30   1996"
      ]
     },
     "execution_count": 40,
     "metadata": {},
     "output_type": "execute_result"
    }
   ],
   "source": [
    "admission_df =df[['admission_type', 'readmitted']].value_counts().reset_index().sort_values(by='admission_type', ascending=True)\n",
    "admission_df.columns=[\"admission_type\", \"readmitted\", \"Count\"]\n",
    "admission_df"
   ]
  },
  {
   "cell_type": "markdown",
   "id": "de2eaee2",
   "metadata": {},
   "source": [
    "All trauma patients of the dataset did not get readmitted. "
   ]
  },
  {
   "cell_type": "code",
   "execution_count": 41,
   "id": "d1bafc14",
   "metadata": {},
   "outputs": [
    {
     "data": {
      "image/png": "[encoded data removed]",
      "text/plain": [
       "<Figure size 1080x720 with 1 Axes>"
      ]
     },
     "metadata": {
      "needs_background": "light"
     },
     "output_type": "display_data"
    }
   ],
   "source": [
    "# create a table of proportions \n",
    "output1 = pd.crosstab(df['admission_type'], df['readmitted']).apply(lambda x: round((x/x.sum())*100, 1), axis=1)\n",
    "\n",
    "output1.plot.bar(figsize=(15,10), color=['#59cd32','#ff6500','#3182bd']) \n",
    "plt.title('Proportion of readmission outcome across admission_type')\n",
    "plt.xticks(rotation=360)\n",
    "plt.xlabel('admission_type')\n",
    "plt.ylabel('%');"
   ]
  },
  {
   "cell_type": "markdown",
   "id": "b92ac811",
   "metadata": {},
   "source": [
    "The largest proportion of patients who were readmitted come from admission types Urgent and emergency"
   ]
  },
  {
   "cell_type": "markdown",
   "id": "4a384c3b",
   "metadata": {},
   "source": [
    "#### 5.) Discharge disposition"
   ]
  },
  {
   "cell_type": "code",
   "execution_count": 42,
   "id": "8f651ee8",
   "metadata": {},
   "outputs": [
    {
     "data": {
      "text/plain": [
       "1     60232\n",
       "3     13954\n",
       "6     12902\n",
       "2      2128\n",
       "22     1992\n",
       "5      1184\n",
       "4       815\n",
       "7       623\n",
       "23      412\n",
       "28      139\n",
       "8       108\n",
       "15       63\n",
       "24       48\n",
       "9        21\n",
       "17       14\n",
       "16       11\n",
       "10        6\n",
       "27        5\n",
       "12        3\n",
       "Name: discharge_disposition_id, dtype: int64"
      ]
     },
     "execution_count": 42,
     "metadata": {},
     "output_type": "execute_result"
    }
   ],
   "source": [
    "df['discharge_disposition_id'].value_counts()"
   ]
  },
  {
   "cell_type": "markdown",
   "id": "4287faa0",
   "metadata": {},
   "source": [
    "here are 29 distinct discharge reasons. For example, a patient may be discharged home or discharged to another medical institution, which takes various forms such as short term hospital, inpatient care institution, Medicare approved swing bed, and many more. I will group all discharge destinations that are not to a patient's home (even if it is a home with home health services) as being discharged to a medical institution."
   ]
  },
  {
   "cell_type": "code",
   "execution_count": 43,
   "id": "a7f6ee89",
   "metadata": {},
   "outputs": [],
   "source": [
    "discharge_disposition_map = {1: 'Home', 7: 'Left AMA', 2:'Medical Institution',3:'Medical Institution',\n",
    "                             4:'Medical Institution',5:'Medical Institution',6:'Medical Institution',8:'Medical Institution',\n",
    "                             10:'Medical Institution',15:'Medical Institution',16:'Medical Institution',17:'Medical Institution',\n",
    "                             22:'Medical Institution',23:'Medical Institution',24:'Medical Institution',27:'Medical Institution',28: 'Medical Institution', 9: 'Admitted as an inpatient', 12:'Expected to return for outpatient services'}\n",
    "df['discharge_disposition'] = df['discharge_disposition_id'].map(discharge_disposition_map)"
   ]
  },
  {
   "cell_type": "code",
   "execution_count": 44,
   "id": "8dca31ff",
   "metadata": {},
   "outputs": [
    {
     "data": {
      "text/plain": [
       "Home                                          60232\n",
       "Medical Institution                           33781\n",
       "Left AMA                                        623\n",
       "Admitted as an inpatient                         21\n",
       "Expected to return for outpatient services        3\n",
       "Name: discharge_disposition, dtype: int64"
      ]
     },
     "execution_count": 44,
     "metadata": {},
     "output_type": "execute_result"
    }
   ],
   "source": [
    "df['discharge_disposition'].value_counts()"
   ]
  },
  {
   "cell_type": "code",
   "execution_count": 45,
   "id": "aa89615a",
   "metadata": {},
   "outputs": [
    {
     "data": {
      "text/html": [
       "<div>\n",
       "<style scoped>\n",
       "    .dataframe tbody tr th:only-of-type {\n",
       "        vertical-align: middle;\n",
       "    }\n",
       "\n",
       "    .dataframe tbody tr th {\n",
       "        vertical-align: top;\n",
       "    }\n",
       "\n",
       "    .dataframe thead th {\n",
       "        text-align: right;\n",
       "    }\n",
       "</style>\n",
       "<table border=\"1\" class=\"dataframe\">\n",
       "  <thead>\n",
       "    <tr style=\"text-align: right;\">\n",
       "      <th></th>\n",
       "      <th>discharge_disposition</th>\n",
       "      <th>readmitted</th>\n",
       "      <th>Count</th>\n",
       "    </tr>\n",
       "  </thead>\n",
       "  <tbody>\n",
       "    <tr>\n",
       "      <th>9</th>\n",
       "      <td>Admitted as an inpatient</td>\n",
       "      <td>NO</td>\n",
       "      <td>10</td>\n",
       "    </tr>\n",
       "    <tr>\n",
       "      <th>10</th>\n",
       "      <td>Admitted as an inpatient</td>\n",
       "      <td>&lt;30</td>\n",
       "      <td>9</td>\n",
       "    </tr>\n",
       "    <tr>\n",
       "      <th>11</th>\n",
       "      <td>Admitted as an inpatient</td>\n",
       "      <td>&gt;30</td>\n",
       "      <td>2</td>\n",
       "    </tr>\n",
       "    <tr>\n",
       "      <th>12</th>\n",
       "      <td>Expected to return for outpatient services</td>\n",
       "      <td>&lt;30</td>\n",
       "      <td>2</td>\n",
       "    </tr>\n",
       "    <tr>\n",
       "      <th>13</th>\n",
       "      <td>Expected to return for outpatient services</td>\n",
       "      <td>NO</td>\n",
       "      <td>1</td>\n",
       "    </tr>\n",
       "    <tr>\n",
       "      <th>0</th>\n",
       "      <td>Home</td>\n",
       "      <td>NO</td>\n",
       "      <td>33113</td>\n",
       "    </tr>\n",
       "    <tr>\n",
       "      <th>1</th>\n",
       "      <td>Home</td>\n",
       "      <td>&gt;30</td>\n",
       "      <td>21517</td>\n",
       "    </tr>\n",
       "    <tr>\n",
       "      <th>4</th>\n",
       "      <td>Home</td>\n",
       "      <td>&lt;30</td>\n",
       "      <td>5602</td>\n",
       "    </tr>\n",
       "    <tr>\n",
       "      <th>6</th>\n",
       "      <td>Left AMA</td>\n",
       "      <td>NO</td>\n",
       "      <td>312</td>\n",
       "    </tr>\n",
       "    <tr>\n",
       "      <th>7</th>\n",
       "      <td>Left AMA</td>\n",
       "      <td>&gt;30</td>\n",
       "      <td>221</td>\n",
       "    </tr>\n",
       "    <tr>\n",
       "      <th>8</th>\n",
       "      <td>Left AMA</td>\n",
       "      <td>&lt;30</td>\n",
       "      <td>90</td>\n",
       "    </tr>\n",
       "    <tr>\n",
       "      <th>2</th>\n",
       "      <td>Medical Institution</td>\n",
       "      <td>NO</td>\n",
       "      <td>16362</td>\n",
       "    </tr>\n",
       "    <tr>\n",
       "      <th>3</th>\n",
       "      <td>Medical Institution</td>\n",
       "      <td>&gt;30</td>\n",
       "      <td>12359</td>\n",
       "    </tr>\n",
       "    <tr>\n",
       "      <th>5</th>\n",
       "      <td>Medical Institution</td>\n",
       "      <td>&lt;30</td>\n",
       "      <td>5060</td>\n",
       "    </tr>\n",
       "  </tbody>\n",
       "</table>\n",
       "</div>"
      ],
      "text/plain": [
       "                         discharge_disposition readmitted  Count\n",
       "9                     Admitted as an inpatient         NO     10\n",
       "10                    Admitted as an inpatient        <30      9\n",
       "11                    Admitted as an inpatient        >30      2\n",
       "12  Expected to return for outpatient services        <30      2\n",
       "13  Expected to return for outpatient services         NO      1\n",
       "0                                         Home         NO  33113\n",
       "1                                         Home        >30  21517\n",
       "4                                         Home        <30   5602\n",
       "6                                     Left AMA         NO    312\n",
       "7                                     Left AMA        >30    221\n",
       "8                                     Left AMA        <30     90\n",
       "2                          Medical Institution         NO  16362\n",
       "3                          Medical Institution        >30  12359\n",
       "5                          Medical Institution        <30   5060"
      ]
     },
     "execution_count": 45,
     "metadata": {},
     "output_type": "execute_result"
    }
   ],
   "source": [
    "discharge_disposition_df =df[['discharge_disposition', 'readmitted']].value_counts().reset_index().sort_values(by='discharge_disposition', ascending=True)\n",
    "discharge_disposition_df.columns=[\"discharge_disposition\", \"readmitted\", \"Count\"]\n",
    "discharge_disposition_df"
   ]
  },
  {
   "cell_type": "code",
   "execution_count": 46,
   "id": "f4ed09fd",
   "metadata": {},
   "outputs": [
    {
     "data": {
      "image/png": "[encoded data removed]",
      "text/plain": [
       "<Figure size 1080x720 with 1 Axes>"
      ]
     },
     "metadata": {
      "needs_background": "light"
     },
     "output_type": "display_data"
    }
   ],
   "source": [
    "plt.figure(figsize=(15,10))\n",
    "sns.countplot(x=\"discharge_disposition\", hue=\"readmitted\", data=df, palette = 'bright')\n",
    "plt.title(\"Number of readmission outcome across discharge_disposition\")\n",
    "plt.xlabel(\"Discharge_disposition\")\n",
    "plt.ylabel(\"Count\")\n",
    "plt.show()"
   ]
  },
  {
   "cell_type": "markdown",
   "id": "553c8985",
   "metadata": {},
   "source": [
    "#### 6.)Duration of hospital stay in days"
   ]
  },
  {
   "cell_type": "code",
   "execution_count": 47,
   "id": "e13062e5",
   "metadata": {},
   "outputs": [
    {
     "data": {
      "text/plain": [
       "count    94660.000000\n",
       "mean         4.346641\n",
       "std          2.949468\n",
       "min          1.000000\n",
       "25%          2.000000\n",
       "50%          4.000000\n",
       "75%          6.000000\n",
       "max         14.000000\n",
       "Name: time_in_hospital, dtype: float64"
      ]
     },
     "execution_count": 47,
     "metadata": {},
     "output_type": "execute_result"
    }
   ],
   "source": [
    "df['time_in_hospital'].describe()"
   ]
  },
  {
   "cell_type": "markdown",
   "id": "cb957de8",
   "metadata": {},
   "source": [
    "The shortest hospital stay is 1 day while the longest is 14 days."
   ]
  },
  {
   "cell_type": "code",
   "execution_count": 48,
   "id": "76deeac6",
   "metadata": {},
   "outputs": [
    {
     "data": {
      "image/png": "[encoded data removed]",
      "text/plain": [
       "<Figure size 1080x720 with 1 Axes>"
      ]
     },
     "metadata": {
      "needs_background": "light"
     },
     "output_type": "display_data"
    }
   ],
   "source": [
    "plt.figure(figsize=(15,10))\n",
    "plt.hist(x=\"time_in_hospital\", data = df)\n",
    "plt.title(\"Hospital stay in days across all patients\")\n",
    "plt.xlabel(\"Days\")\n",
    "plt.ylabel(\"Count\")\n",
    "plt.show()"
   ]
  },
  {
   "cell_type": "markdown",
   "id": "7938ef56",
   "metadata": {},
   "source": [
    "Our dataset shows that a majority of patients were admitted for less than 6 days, with a decreasing number of hospital stay as days increase to 14 days (reflecting a rightly-skewed histogram)"
   ]
  },
  {
   "cell_type": "code",
   "execution_count": 49,
   "id": "48d3d978",
   "metadata": {},
   "outputs": [
    {
     "name": "stdout",
     "output_type": "stream",
     "text": [
      "The average number of hospital stay for No readmission is:  4.181312502510141\n",
      "The average number of hospital stay for readmission <30 days is:  4.730372572702778\n",
      "The average number of hospital stay No readmission >30 days is:  4.466963840581835\n"
     ]
    }
   ],
   "source": [
    "# Filter the DataFrame to include only readmission rows\n",
    "noreadm = df[df[\"readmitted\"] == \"NO\"]\n",
    "yesreadm_30 = df[df[\"readmitted\"] == \"<30\"]\n",
    "yesreadm_31 = df[df[\"readmitted\"] == \">30\"]\n",
    "\n",
    "# Calculate the average number of hospital stay\n",
    "avg_noreadm = noreadm['time_in_hospital'].mean()\n",
    "avg_yesreadm_30 = yesreadm_30['time_in_hospital'].mean()\n",
    "avg_yesreadm_31 = yesreadm_31['time_in_hospital'].mean()\n",
    "# Print the results\n",
    "print(\"The average number of hospital stay for No readmission is: \", avg_noreadm)\n",
    "print(\"The average number of hospital stay for readmission <30 days is: \", avg_yesreadm_30)\n",
    "print(\"The average number of hospital stay No readmission >30 days is: \", avg_yesreadm_31)"
   ]
  },
  {
   "cell_type": "markdown",
   "id": "46ce47e1",
   "metadata": {},
   "source": [
    "The average number of hospital stay in terms of days for patients who were readmitted is slightly higher than those who were not (4.8 days and 4.5 days vs 4.2 days)."
   ]
  },
  {
   "cell_type": "code",
   "execution_count": 50,
   "id": "396951be",
   "metadata": {},
   "outputs": [],
   "source": [
    "noreadm_data = df[df[\"readmitted\"] == \"NO\"]['time_in_hospital']\n",
    "yesreadm_30_data = df[df[\"readmitted\"] == \"<30\"]['time_in_hospital']\n",
    "yesreadm_31_data = df[df[\"readmitted\"] == \">30\"]['time_in_hospital']"
   ]
  },
  {
   "cell_type": "code",
   "execution_count": 51,
   "id": "d093d4be",
   "metadata": {},
   "outputs": [
    {
     "data": {
      "image/png": "[encoded data removed]",
      "text/plain": [
       "<Figure size 432x288 with 1 Axes>"
      ]
     },
     "metadata": {
      "needs_background": "light"
     },
     "output_type": "display_data"
    }
   ],
   "source": [
    "# create a side-by-side histogram\n",
    "plt.hist(noreadm_data, alpha=0.5, label='NO')\n",
    "plt.hist(yesreadm_30_data, alpha=0.5, label='<30')\n",
    "plt.hist(yesreadm_31_data, alpha=0.5, label='>30')\n",
    "# add labels and title\n",
    "plt.xlabel('Time in hospital')\n",
    "plt.ylabel('Count')\n",
    "plt.title('Hospital stay in days across all patients')\n",
    "\n",
    "# add legend\n",
    "plt.legend()\n",
    "\n",
    "# show the plot\n",
    "plt.show()"
   ]
  },
  {
   "cell_type": "markdown",
   "id": "e842b125",
   "metadata": {},
   "source": [
    "a larger proportion of patients who were not readmitted had a shorter admission time, as compared to patients who were readmitted"
   ]
  },
  {
   "cell_type": "code",
   "execution_count": 52,
   "id": "7ba24191",
   "metadata": {},
   "outputs": [
    {
     "data": {
      "image/png": "[encoded data removed]",
      "text/plain": [
       "<Figure size 1440x288 with 3 Axes>"
      ]
     },
     "metadata": {
      "needs_background": "light"
     },
     "output_type": "display_data"
    }
   ],
   "source": [
    "# create a horizontal figure with two subplots\n",
    "fig, (ax1, ax2, ax3) = plt.subplots(1, 3, figsize=(20, 4))\n",
    "\n",
    "# plot the histograms on the subplots\n",
    "ax1.hist(noreadm_data, alpha=0.5, label='NO')\n",
    "ax2.hist(yesreadm_30_data, alpha=0.5, label='<30')\n",
    "ax3.hist(yesreadm_31_data, alpha=0.5, label='>30')\n",
    "\n",
    "# add labels and title to each subplot\n",
    "ax1.set_xlabel('Time in hospital')\n",
    "ax1.set_ylabel('Count')\n",
    "ax1.set_title('NO')\n",
    "ax2.set_xlabel('Time in hospital')\n",
    "ax2.set_ylabel('Count')\n",
    "ax2.set_title('<30')\n",
    "ax3.set_xlabel('Time in hospital')\n",
    "ax3.set_ylabel('Count')\n",
    "ax3.set_title('>30')\n",
    "\n",
    "# add legend to each subplot\n",
    "ax1.legend()\n",
    "ax2.legend()\n",
    "ax3.legend()\n",
    "\n",
    "# adjust spacing between subplots\n",
    "plt.subplots_adjust(wspace=0.4)\n",
    "\n",
    "# show the plot\n",
    "plt.show()"
   ]
  },
  {
   "cell_type": "markdown",
   "id": "2b1cabda",
   "metadata": {},
   "source": [
    "#### 7) Number of lab tests performed"
   ]
  },
  {
   "cell_type": "code",
   "execution_count": 53,
   "id": "59040e73",
   "metadata": {},
   "outputs": [
    {
     "data": {
      "text/plain": [
       "count    94660.000000\n",
       "mean        42.942679\n",
       "std         19.746756\n",
       "min          1.000000\n",
       "25%         31.000000\n",
       "50%         44.000000\n",
       "75%         57.000000\n",
       "max        132.000000\n",
       "Name: num_lab_procedures, dtype: float64"
      ]
     },
     "execution_count": 53,
     "metadata": {},
     "output_type": "execute_result"
    }
   ],
   "source": [
    "df['num_lab_procedures'].describe()"
   ]
  },
  {
   "cell_type": "markdown",
   "id": "ef2da641",
   "metadata": {},
   "source": [
    "The lowest number of lab tests performed on patients of the dataset is 1, while the highest is 132 tests."
   ]
  },
  {
   "cell_type": "code",
   "execution_count": 54,
   "id": "8e423865",
   "metadata": {},
   "outputs": [
    {
     "name": "stdout",
     "output_type": "stream",
     "text": [
      "The average number of lab procedures for No readmission is:  42.03504156793446\n",
      "The average number of lab procedures for readmission <30 days is:  44.27640992288396\n",
      "The average number of lab procedures No readmission >30 days is:  43.84720959558931\n"
     ]
    }
   ],
   "source": [
    "# Filter the DataFrame to include only readmission rows\n",
    "noreadm = df[df[\"readmitted\"] == \"NO\"]\n",
    "yesreadm_30 = df[df[\"readmitted\"] == \"<30\"]\n",
    "yesreadm_31 = df[df[\"readmitted\"] == \">30\"]\n",
    "\n",
    "# Calculate the average number of lab procedures\n",
    "avg_noreadm = noreadm['num_lab_procedures'].mean()\n",
    "avg_yesreadm_30 = yesreadm_30['num_lab_procedures'].mean()\n",
    "avg_yesreadm_31 = yesreadm_31['num_lab_procedures'].mean()\n",
    "# Print the results\n",
    "print(\"The average number of lab procedures for No readmission is: \", avg_noreadm)\n",
    "print(\"The average number of lab procedures for readmission <30 days is: \", avg_yesreadm_30)\n",
    "print(\"The average number of lab procedures No readmission >30 days is: \", avg_yesreadm_31)"
   ]
  },
  {
   "cell_type": "markdown",
   "id": "e1f0b08a",
   "metadata": {},
   "source": [
    "The average number of lab tests given to patients who were admitted is slightly higher (44 tests) than for patients who were not readmitted (42 tests)."
   ]
  },
  {
   "cell_type": "code",
   "execution_count": 55,
   "id": "6d0f69dd",
   "metadata": {},
   "outputs": [],
   "source": [
    "noreadm_data = df[df[\"readmitted\"] == \"NO\"]['num_lab_procedures']\n",
    "yesreadm_30_data = df[df[\"readmitted\"] == \"<30\"]['num_lab_procedures']\n",
    "yesreadm_31_data = df[df[\"readmitted\"] == \">30\"]['num_lab_procedures']"
   ]
  },
  {
   "cell_type": "code",
   "execution_count": 56,
   "id": "faeaada4",
   "metadata": {},
   "outputs": [
    {
     "data": {
      "image/png": "[encoded data removed]",
      "text/plain": [
       "<Figure size 432x288 with 1 Axes>"
      ]
     },
     "metadata": {
      "needs_background": "light"
     },
     "output_type": "display_data"
    }
   ],
   "source": [
    "# create a side-by-side histogram\n",
    "plt.hist(noreadm_data, alpha=0.5, label='NO')\n",
    "plt.hist(yesreadm_30_data, alpha=0.5, label='<30')\n",
    "plt.hist(yesreadm_31_data, alpha=0.5, label='>30')\n",
    "\n",
    "# add labels and title\n",
    "plt.xlabel('Number of lab procedures')\n",
    "plt.ylabel('Count')\n",
    "plt.title('Number of lab procedures across different readmission outcomes')\n",
    "\n",
    "# add legend\n",
    "plt.legend()\n",
    "\n",
    "# Display the plot\n",
    "plt.show()\n"
   ]
  },
  {
   "cell_type": "markdown",
   "id": "9728c551",
   "metadata": {},
   "source": [
    "#### 8.) Number of procedures"
   ]
  },
  {
   "cell_type": "code",
   "execution_count": 57,
   "id": "3687da35",
   "metadata": {},
   "outputs": [
    {
     "data": {
      "text/plain": [
       "count    94660.000000\n",
       "mean         1.325005\n",
       "std          1.696229\n",
       "min          0.000000\n",
       "25%          0.000000\n",
       "50%          1.000000\n",
       "75%          2.000000\n",
       "max          6.000000\n",
       "Name: num_procedures, dtype: float64"
      ]
     },
     "execution_count": 57,
     "metadata": {},
     "output_type": "execute_result"
    }
   ],
   "source": [
    "df['num_procedures'].describe()"
   ]
  },
  {
   "cell_type": "markdown",
   "id": "9803f3f5",
   "metadata": {},
   "source": [
    "The lowest number of non-laboratory tests performed on patients of the dataset is 0, while the highest is 6"
   ]
  },
  {
   "cell_type": "code",
   "execution_count": 58,
   "id": "e7ced329",
   "metadata": {},
   "outputs": [],
   "source": [
    "noreadm_data = df[df[\"readmitted\"] == \"NO\"]['num_procedures']\n",
    "yesreadm_30_data = df[df[\"readmitted\"] == \"<30\"]['num_procedures']\n",
    "yesreadm_31_data = df[df[\"readmitted\"] == \">30\"]['num_procedures']"
   ]
  },
  {
   "cell_type": "code",
   "execution_count": 59,
   "id": "a7a953f0",
   "metadata": {},
   "outputs": [
    {
     "data": {
      "image/png": "[encoded data removed]",
      "text/plain": [
       "<Figure size 432x288 with 1 Axes>"
      ]
     },
     "metadata": {
      "needs_background": "light"
     },
     "output_type": "display_data"
    }
   ],
   "source": [
    "# create a side-by-side histogram\n",
    "plt.hist(noreadm_data, alpha=0.5, label='NO')\n",
    "plt.hist(yesreadm_30_data, alpha=0.5, label='<30')\n",
    "plt.hist(yesreadm_31_data, alpha=0.5, label='>30')\n",
    "\n",
    "# add labels and title\n",
    "plt.xlabel('Number of procedures')\n",
    "plt.ylabel('Count')\n",
    "plt.title('Number of procedures across different readmission outcomes')\n",
    "\n",
    "# add legend\n",
    "plt.legend()\n",
    "\n",
    "# Display the plot\n",
    "plt.show()"
   ]
  },
  {
   "cell_type": "markdown",
   "id": "e93c8c24",
   "metadata": {},
   "source": [
    "#### 9.) Number of medications"
   ]
  },
  {
   "cell_type": "code",
   "execution_count": 60,
   "id": "7a572e69",
   "metadata": {},
   "outputs": [
    {
     "data": {
      "text/plain": [
       "count    94660.000000\n",
       "mean        15.986700\n",
       "std          8.045914\n",
       "min          1.000000\n",
       "25%         10.000000\n",
       "50%         15.000000\n",
       "75%         20.000000\n",
       "max         81.000000\n",
       "Name: num_medications, dtype: float64"
      ]
     },
     "execution_count": 60,
     "metadata": {},
     "output_type": "execute_result"
    }
   ],
   "source": [
    "df['num_medications'].describe()"
   ]
  },
  {
   "cell_type": "markdown",
   "id": "af637fce",
   "metadata": {},
   "source": [
    "The lowest number of medication given to patients  is 1, while the highest is 81."
   ]
  },
  {
   "cell_type": "code",
   "execution_count": 61,
   "id": "2cbdc398",
   "metadata": {},
   "outputs": [
    {
     "name": "stdout",
     "output_type": "stream",
     "text": [
      "The average number of medication for No readmission is:  15.557552512149082\n",
      "The average number of medication for readmission <30 days is:  16.9049521508873\n",
      "The average number of medication for No readmission >30 days is:  16.32358720197073\n"
     ]
    }
   ],
   "source": [
    "# Filter the DataFrame to include only readmission rows\n",
    "noreadm = df[df[\"readmitted\"] == \"NO\"]\n",
    "yesreadm_30 = df[df[\"readmitted\"] == \"<30\"]\n",
    "yesreadm_31 = df[df[\"readmitted\"] == \">30\"]\n",
    "\n",
    "# Calculate the average number of medication\n",
    "avg_noreadm = noreadm['num_medications'].mean()\n",
    "avg_yesreadm_30 = yesreadm_30['num_medications'].mean()\n",
    "avg_yesreadm_31 = yesreadm_31['num_medications'].mean()\n",
    "# Print the results\n",
    "print(\"The average number of medication for No readmission is: \", avg_noreadm)\n",
    "print(\"The average number of medication for readmission <30 days is: \", avg_yesreadm_30)\n",
    "print(\"The average number of medication for No readmission >30 days is: \", avg_yesreadm_31)"
   ]
  },
  {
   "cell_type": "markdown",
   "id": "8fa91fb7",
   "metadata": {},
   "source": [
    "The average number of medications given among patients who were readmitted is higher (16.9) for <30 days and (16.2) for >30 days compared to medication given to patients who were not readmitted (15.6)."
   ]
  },
  {
   "cell_type": "code",
   "execution_count": 62,
   "id": "a27861be",
   "metadata": {},
   "outputs": [],
   "source": [
    "noreadm_data = df[df[\"readmitted\"] == \"NO\"]['num_medications']\n",
    "yesreadm_30_data = df[df[\"readmitted\"] == \"<30\"]['num_medications']\n",
    "yesreadm_31_data = df[df[\"readmitted\"] == \">30\"]['num_medications']"
   ]
  },
  {
   "cell_type": "code",
   "execution_count": 63,
   "id": "9f1933c3",
   "metadata": {},
   "outputs": [
    {
     "data": {
      "image/png": "[encoded data removed]",
      "text/plain": [
       "<Figure size 432x288 with 1 Axes>"
      ]
     },
     "metadata": {
      "needs_background": "light"
     },
     "output_type": "display_data"
    }
   ],
   "source": [
    "# create a side-by-side histogram\n",
    "plt.hist(noreadm_data, alpha=0.5, label='NO')\n",
    "plt.hist(yesreadm_30_data, alpha=0.5, label='<30')\n",
    "plt.hist(yesreadm_31_data, alpha=0.5, label='>30')\n",
    "\n",
    "# add labels and title\n",
    "plt.xlabel('Number of medications')\n",
    "plt.ylabel('Count')\n",
    "plt.title('Number of medications across different readmission outcomes')\n",
    "\n",
    "# add legend\n",
    "plt.legend()\n",
    "\n",
    "# Display the plot\n",
    "plt.show()"
   ]
  },
  {
   "cell_type": "markdown",
   "id": "45617106",
   "metadata": {},
   "source": [
    "#### 10)Number of outpatient visits in the preceding year"
   ]
  },
  {
   "cell_type": "code",
   "execution_count": 64,
   "id": "83e1db97",
   "metadata": {},
   "outputs": [
    {
     "data": {
      "text/plain": [
       "count    94660.000000\n",
       "mean         0.381629\n",
       "std          1.287888\n",
       "min          0.000000\n",
       "25%          0.000000\n",
       "50%          0.000000\n",
       "75%          0.000000\n",
       "max         42.000000\n",
       "Name: number_outpatient, dtype: float64"
      ]
     },
     "execution_count": 64,
     "metadata": {},
     "output_type": "execute_result"
    }
   ],
   "source": [
    "df['number_outpatient'].describe()"
   ]
  },
  {
   "cell_type": "markdown",
   "id": "e97f7c6c",
   "metadata": {},
   "source": [
    "The lowest number of outpatient visits is 0 and the highest is 42."
   ]
  },
  {
   "cell_type": "code",
   "execution_count": 65,
   "id": "73f1cc05",
   "metadata": {},
   "outputs": [
    {
     "data": {
      "text/html": [
       "<div>\n",
       "<style scoped>\n",
       "    .dataframe tbody tr th:only-of-type {\n",
       "        vertical-align: middle;\n",
       "    }\n",
       "\n",
       "    .dataframe tbody tr th {\n",
       "        vertical-align: top;\n",
       "    }\n",
       "\n",
       "    .dataframe thead th {\n",
       "        text-align: right;\n",
       "    }\n",
       "</style>\n",
       "<table border=\"1\" class=\"dataframe\">\n",
       "  <thead>\n",
       "    <tr style=\"text-align: right;\">\n",
       "      <th></th>\n",
       "      <th>number_outpatient</th>\n",
       "      <th>readmitted</th>\n",
       "      <th>count</th>\n",
       "    </tr>\n",
       "  </thead>\n",
       "  <tbody>\n",
       "    <tr>\n",
       "      <th>0</th>\n",
       "      <td>0</td>\n",
       "      <td>&lt;30</td>\n",
       "      <td>8536</td>\n",
       "    </tr>\n",
       "    <tr>\n",
       "      <th>1</th>\n",
       "      <td>0</td>\n",
       "      <td>&gt;30</td>\n",
       "      <td>26706</td>\n",
       "    </tr>\n",
       "    <tr>\n",
       "      <th>2</th>\n",
       "      <td>0</td>\n",
       "      <td>NO</td>\n",
       "      <td>43346</td>\n",
       "    </tr>\n",
       "    <tr>\n",
       "      <th>3</th>\n",
       "      <td>1</td>\n",
       "      <td>&lt;30</td>\n",
       "      <td>1161</td>\n",
       "    </tr>\n",
       "    <tr>\n",
       "      <th>4</th>\n",
       "      <td>1</td>\n",
       "      <td>&gt;30</td>\n",
       "      <td>3645</td>\n",
       "    </tr>\n",
       "    <tr>\n",
       "      <th>5</th>\n",
       "      <td>1</td>\n",
       "      <td>NO</td>\n",
       "      <td>3395</td>\n",
       "    </tr>\n",
       "    <tr>\n",
       "      <th>6</th>\n",
       "      <td>2</td>\n",
       "      <td>&lt;30</td>\n",
       "      <td>486</td>\n",
       "    </tr>\n",
       "    <tr>\n",
       "      <th>7</th>\n",
       "      <td>2</td>\n",
       "      <td>&gt;30</td>\n",
       "      <td>1653</td>\n",
       "    </tr>\n",
       "    <tr>\n",
       "      <th>8</th>\n",
       "      <td>2</td>\n",
       "      <td>NO</td>\n",
       "      <td>1317</td>\n",
       "    </tr>\n",
       "    <tr>\n",
       "      <th>9</th>\n",
       "      <td>3</td>\n",
       "      <td>&lt;30</td>\n",
       "      <td>243</td>\n",
       "    </tr>\n",
       "    <tr>\n",
       "      <th>10</th>\n",
       "      <td>3</td>\n",
       "      <td>&gt;30</td>\n",
       "      <td>907</td>\n",
       "    </tr>\n",
       "    <tr>\n",
       "      <th>11</th>\n",
       "      <td>3</td>\n",
       "      <td>NO</td>\n",
       "      <td>807</td>\n",
       "    </tr>\n",
       "    <tr>\n",
       "      <th>12</th>\n",
       "      <td>4</td>\n",
       "      <td>&lt;30</td>\n",
       "      <td>163</td>\n",
       "    </tr>\n",
       "    <tr>\n",
       "      <th>13</th>\n",
       "      <td>4</td>\n",
       "      <td>&gt;30</td>\n",
       "      <td>475</td>\n",
       "    </tr>\n",
       "    <tr>\n",
       "      <th>14</th>\n",
       "      <td>4</td>\n",
       "      <td>NO</td>\n",
       "      <td>422</td>\n",
       "    </tr>\n",
       "    <tr>\n",
       "      <th>15</th>\n",
       "      <td>5</td>\n",
       "      <td>&lt;30</td>\n",
       "      <td>59</td>\n",
       "    </tr>\n",
       "    <tr>\n",
       "      <th>16</th>\n",
       "      <td>5</td>\n",
       "      <td>&gt;30</td>\n",
       "      <td>239</td>\n",
       "    </tr>\n",
       "    <tr>\n",
       "      <th>17</th>\n",
       "      <td>5</td>\n",
       "      <td>NO</td>\n",
       "      <td>206</td>\n",
       "    </tr>\n",
       "    <tr>\n",
       "      <th>18</th>\n",
       "      <td>6</td>\n",
       "      <td>&lt;30</td>\n",
       "      <td>40</td>\n",
       "    </tr>\n",
       "    <tr>\n",
       "      <th>19</th>\n",
       "      <td>6</td>\n",
       "      <td>&gt;30</td>\n",
       "      <td>149</td>\n",
       "    </tr>\n",
       "    <tr>\n",
       "      <th>20</th>\n",
       "      <td>6</td>\n",
       "      <td>NO</td>\n",
       "      <td>99</td>\n",
       "    </tr>\n",
       "    <tr>\n",
       "      <th>21</th>\n",
       "      <td>7</td>\n",
       "      <td>&lt;30</td>\n",
       "      <td>24</td>\n",
       "    </tr>\n",
       "    <tr>\n",
       "      <th>22</th>\n",
       "      <td>7</td>\n",
       "      <td>&gt;30</td>\n",
       "      <td>82</td>\n",
       "    </tr>\n",
       "    <tr>\n",
       "      <th>23</th>\n",
       "      <td>7</td>\n",
       "      <td>NO</td>\n",
       "      <td>47</td>\n",
       "    </tr>\n",
       "    <tr>\n",
       "      <th>24</th>\n",
       "      <td>8</td>\n",
       "      <td>&lt;30</td>\n",
       "      <td>5</td>\n",
       "    </tr>\n",
       "    <tr>\n",
       "      <th>25</th>\n",
       "      <td>8</td>\n",
       "      <td>&gt;30</td>\n",
       "      <td>40</td>\n",
       "    </tr>\n",
       "    <tr>\n",
       "      <th>26</th>\n",
       "      <td>8</td>\n",
       "      <td>NO</td>\n",
       "      <td>51</td>\n",
       "    </tr>\n",
       "    <tr>\n",
       "      <th>27</th>\n",
       "      <td>9</td>\n",
       "      <td>&lt;30</td>\n",
       "      <td>12</td>\n",
       "    </tr>\n",
       "    <tr>\n",
       "      <th>28</th>\n",
       "      <td>9</td>\n",
       "      <td>&gt;30</td>\n",
       "      <td>38</td>\n",
       "    </tr>\n",
       "    <tr>\n",
       "      <th>29</th>\n",
       "      <td>9</td>\n",
       "      <td>NO</td>\n",
       "      <td>31</td>\n",
       "    </tr>\n",
       "    <tr>\n",
       "      <th>30</th>\n",
       "      <td>10</td>\n",
       "      <td>&lt;30</td>\n",
       "      <td>5</td>\n",
       "    </tr>\n",
       "    <tr>\n",
       "      <th>31</th>\n",
       "      <td>10</td>\n",
       "      <td>&gt;30</td>\n",
       "      <td>35</td>\n",
       "    </tr>\n",
       "    <tr>\n",
       "      <th>32</th>\n",
       "      <td>10</td>\n",
       "      <td>NO</td>\n",
       "      <td>17</td>\n",
       "    </tr>\n",
       "    <tr>\n",
       "      <th>33</th>\n",
       "      <td>11</td>\n",
       "      <td>&lt;30</td>\n",
       "      <td>6</td>\n",
       "    </tr>\n",
       "    <tr>\n",
       "      <th>34</th>\n",
       "      <td>11</td>\n",
       "      <td>&gt;30</td>\n",
       "      <td>24</td>\n",
       "    </tr>\n",
       "    <tr>\n",
       "      <th>35</th>\n",
       "      <td>11</td>\n",
       "      <td>NO</td>\n",
       "      <td>11</td>\n",
       "    </tr>\n",
       "    <tr>\n",
       "      <th>36</th>\n",
       "      <td>12</td>\n",
       "      <td>&lt;30</td>\n",
       "      <td>5</td>\n",
       "    </tr>\n",
       "    <tr>\n",
       "      <th>37</th>\n",
       "      <td>12</td>\n",
       "      <td>&gt;30</td>\n",
       "      <td>15</td>\n",
       "    </tr>\n",
       "    <tr>\n",
       "      <th>38</th>\n",
       "      <td>12</td>\n",
       "      <td>NO</td>\n",
       "      <td>9</td>\n",
       "    </tr>\n",
       "    <tr>\n",
       "      <th>39</th>\n",
       "      <td>13</td>\n",
       "      <td>&lt;30</td>\n",
       "      <td>6</td>\n",
       "    </tr>\n",
       "    <tr>\n",
       "      <th>40</th>\n",
       "      <td>13</td>\n",
       "      <td>&gt;30</td>\n",
       "      <td>13</td>\n",
       "    </tr>\n",
       "    <tr>\n",
       "      <th>41</th>\n",
       "      <td>13</td>\n",
       "      <td>NO</td>\n",
       "      <td>10</td>\n",
       "    </tr>\n",
       "    <tr>\n",
       "      <th>42</th>\n",
       "      <td>14</td>\n",
       "      <td>&lt;30</td>\n",
       "      <td>5</td>\n",
       "    </tr>\n",
       "    <tr>\n",
       "      <th>43</th>\n",
       "      <td>14</td>\n",
       "      <td>&gt;30</td>\n",
       "      <td>17</td>\n",
       "    </tr>\n",
       "    <tr>\n",
       "      <th>44</th>\n",
       "      <td>14</td>\n",
       "      <td>NO</td>\n",
       "      <td>6</td>\n",
       "    </tr>\n",
       "    <tr>\n",
       "      <th>45</th>\n",
       "      <td>15</td>\n",
       "      <td>&lt;30</td>\n",
       "      <td>2</td>\n",
       "    </tr>\n",
       "    <tr>\n",
       "      <th>46</th>\n",
       "      <td>15</td>\n",
       "      <td>&gt;30</td>\n",
       "      <td>14</td>\n",
       "    </tr>\n",
       "    <tr>\n",
       "      <th>47</th>\n",
       "      <td>15</td>\n",
       "      <td>NO</td>\n",
       "      <td>4</td>\n",
       "    </tr>\n",
       "    <tr>\n",
       "      <th>48</th>\n",
       "      <td>16</td>\n",
       "      <td>&gt;30</td>\n",
       "      <td>8</td>\n",
       "    </tr>\n",
       "    <tr>\n",
       "      <th>49</th>\n",
       "      <td>16</td>\n",
       "      <td>NO</td>\n",
       "      <td>5</td>\n",
       "    </tr>\n",
       "    <tr>\n",
       "      <th>50</th>\n",
       "      <td>17</td>\n",
       "      <td>&lt;30</td>\n",
       "      <td>1</td>\n",
       "    </tr>\n",
       "    <tr>\n",
       "      <th>51</th>\n",
       "      <td>17</td>\n",
       "      <td>&gt;30</td>\n",
       "      <td>3</td>\n",
       "    </tr>\n",
       "    <tr>\n",
       "      <th>52</th>\n",
       "      <td>17</td>\n",
       "      <td>NO</td>\n",
       "      <td>4</td>\n",
       "    </tr>\n",
       "    <tr>\n",
       "      <th>53</th>\n",
       "      <td>18</td>\n",
       "      <td>&gt;30</td>\n",
       "      <td>4</td>\n",
       "    </tr>\n",
       "    <tr>\n",
       "      <th>54</th>\n",
       "      <td>18</td>\n",
       "      <td>NO</td>\n",
       "      <td>1</td>\n",
       "    </tr>\n",
       "    <tr>\n",
       "      <th>55</th>\n",
       "      <td>19</td>\n",
       "      <td>&lt;30</td>\n",
       "      <td>1</td>\n",
       "    </tr>\n",
       "    <tr>\n",
       "      <th>56</th>\n",
       "      <td>19</td>\n",
       "      <td>&gt;30</td>\n",
       "      <td>2</td>\n",
       "    </tr>\n",
       "    <tr>\n",
       "      <th>57</th>\n",
       "      <td>20</td>\n",
       "      <td>&gt;30</td>\n",
       "      <td>4</td>\n",
       "    </tr>\n",
       "    <tr>\n",
       "      <th>58</th>\n",
       "      <td>20</td>\n",
       "      <td>NO</td>\n",
       "      <td>2</td>\n",
       "    </tr>\n",
       "    <tr>\n",
       "      <th>59</th>\n",
       "      <td>21</td>\n",
       "      <td>&gt;30</td>\n",
       "      <td>4</td>\n",
       "    </tr>\n",
       "    <tr>\n",
       "      <th>60</th>\n",
       "      <td>21</td>\n",
       "      <td>NO</td>\n",
       "      <td>2</td>\n",
       "    </tr>\n",
       "    <tr>\n",
       "      <th>61</th>\n",
       "      <td>22</td>\n",
       "      <td>&lt;30</td>\n",
       "      <td>1</td>\n",
       "    </tr>\n",
       "    <tr>\n",
       "      <th>62</th>\n",
       "      <td>22</td>\n",
       "      <td>&gt;30</td>\n",
       "      <td>4</td>\n",
       "    </tr>\n",
       "    <tr>\n",
       "      <th>63</th>\n",
       "      <td>23</td>\n",
       "      <td>&lt;30</td>\n",
       "      <td>1</td>\n",
       "    </tr>\n",
       "    <tr>\n",
       "      <th>64</th>\n",
       "      <td>23</td>\n",
       "      <td>&gt;30</td>\n",
       "      <td>1</td>\n",
       "    </tr>\n",
       "    <tr>\n",
       "      <th>65</th>\n",
       "      <td>24</td>\n",
       "      <td>&gt;30</td>\n",
       "      <td>1</td>\n",
       "    </tr>\n",
       "    <tr>\n",
       "      <th>66</th>\n",
       "      <td>24</td>\n",
       "      <td>NO</td>\n",
       "      <td>2</td>\n",
       "    </tr>\n",
       "    <tr>\n",
       "      <th>67</th>\n",
       "      <td>25</td>\n",
       "      <td>&gt;30</td>\n",
       "      <td>1</td>\n",
       "    </tr>\n",
       "    <tr>\n",
       "      <th>68</th>\n",
       "      <td>26</td>\n",
       "      <td>&gt;30</td>\n",
       "      <td>1</td>\n",
       "    </tr>\n",
       "    <tr>\n",
       "      <th>69</th>\n",
       "      <td>26</td>\n",
       "      <td>NO</td>\n",
       "      <td>1</td>\n",
       "    </tr>\n",
       "    <tr>\n",
       "      <th>70</th>\n",
       "      <td>27</td>\n",
       "      <td>&gt;30</td>\n",
       "      <td>3</td>\n",
       "    </tr>\n",
       "    <tr>\n",
       "      <th>71</th>\n",
       "      <td>28</td>\n",
       "      <td>&gt;30</td>\n",
       "      <td>1</td>\n",
       "    </tr>\n",
       "    <tr>\n",
       "      <th>72</th>\n",
       "      <td>29</td>\n",
       "      <td>&gt;30</td>\n",
       "      <td>1</td>\n",
       "    </tr>\n",
       "    <tr>\n",
       "      <th>73</th>\n",
       "      <td>29</td>\n",
       "      <td>NO</td>\n",
       "      <td>1</td>\n",
       "    </tr>\n",
       "    <tr>\n",
       "      <th>74</th>\n",
       "      <td>33</td>\n",
       "      <td>&gt;30</td>\n",
       "      <td>2</td>\n",
       "    </tr>\n",
       "    <tr>\n",
       "      <th>75</th>\n",
       "      <td>34</td>\n",
       "      <td>&gt;30</td>\n",
       "      <td>1</td>\n",
       "    </tr>\n",
       "    <tr>\n",
       "      <th>76</th>\n",
       "      <td>35</td>\n",
       "      <td>&gt;30</td>\n",
       "      <td>1</td>\n",
       "    </tr>\n",
       "    <tr>\n",
       "      <th>77</th>\n",
       "      <td>35</td>\n",
       "      <td>NO</td>\n",
       "      <td>1</td>\n",
       "    </tr>\n",
       "    <tr>\n",
       "      <th>78</th>\n",
       "      <td>36</td>\n",
       "      <td>&gt;30</td>\n",
       "      <td>1</td>\n",
       "    </tr>\n",
       "    <tr>\n",
       "      <th>79</th>\n",
       "      <td>36</td>\n",
       "      <td>NO</td>\n",
       "      <td>1</td>\n",
       "    </tr>\n",
       "    <tr>\n",
       "      <th>80</th>\n",
       "      <td>37</td>\n",
       "      <td>&gt;30</td>\n",
       "      <td>1</td>\n",
       "    </tr>\n",
       "    <tr>\n",
       "      <th>81</th>\n",
       "      <td>38</td>\n",
       "      <td>&gt;30</td>\n",
       "      <td>1</td>\n",
       "    </tr>\n",
       "    <tr>\n",
       "      <th>82</th>\n",
       "      <td>39</td>\n",
       "      <td>&gt;30</td>\n",
       "      <td>1</td>\n",
       "    </tr>\n",
       "    <tr>\n",
       "      <th>83</th>\n",
       "      <td>40</td>\n",
       "      <td>&lt;30</td>\n",
       "      <td>1</td>\n",
       "    </tr>\n",
       "    <tr>\n",
       "      <th>84</th>\n",
       "      <td>42</td>\n",
       "      <td>&gt;30</td>\n",
       "      <td>1</td>\n",
       "    </tr>\n",
       "  </tbody>\n",
       "</table>\n",
       "</div>"
      ],
      "text/plain": [
       "    number_outpatient readmitted  count\n",
       "0                   0        <30   8536\n",
       "1                   0        >30  26706\n",
       "2                   0         NO  43346\n",
       "3                   1        <30   1161\n",
       "4                   1        >30   3645\n",
       "5                   1         NO   3395\n",
       "6                   2        <30    486\n",
       "7                   2        >30   1653\n",
       "8                   2         NO   1317\n",
       "9                   3        <30    243\n",
       "10                  3        >30    907\n",
       "11                  3         NO    807\n",
       "12                  4        <30    163\n",
       "13                  4        >30    475\n",
       "14                  4         NO    422\n",
       "15                  5        <30     59\n",
       "16                  5        >30    239\n",
       "17                  5         NO    206\n",
       "18                  6        <30     40\n",
       "19                  6        >30    149\n",
       "20                  6         NO     99\n",
       "21                  7        <30     24\n",
       "22                  7        >30     82\n",
       "23                  7         NO     47\n",
       "24                  8        <30      5\n",
       "25                  8        >30     40\n",
       "26                  8         NO     51\n",
       "27                  9        <30     12\n",
       "28                  9        >30     38\n",
       "29                  9         NO     31\n",
       "30                 10        <30      5\n",
       "31                 10        >30     35\n",
       "32                 10         NO     17\n",
       "33                 11        <30      6\n",
       "34                 11        >30     24\n",
       "35                 11         NO     11\n",
       "36                 12        <30      5\n",
       "37                 12        >30     15\n",
       "38                 12         NO      9\n",
       "39                 13        <30      6\n",
       "40                 13        >30     13\n",
       "41                 13         NO     10\n",
       "42                 14        <30      5\n",
       "43                 14        >30     17\n",
       "44                 14         NO      6\n",
       "45                 15        <30      2\n",
       "46                 15        >30     14\n",
       "47                 15         NO      4\n",
       "48                 16        >30      8\n",
       "49                 16         NO      5\n",
       "50                 17        <30      1\n",
       "51                 17        >30      3\n",
       "52                 17         NO      4\n",
       "53                 18        >30      4\n",
       "54                 18         NO      1\n",
       "55                 19        <30      1\n",
       "56                 19        >30      2\n",
       "57                 20        >30      4\n",
       "58                 20         NO      2\n",
       "59                 21        >30      4\n",
       "60                 21         NO      2\n",
       "61                 22        <30      1\n",
       "62                 22        >30      4\n",
       "63                 23        <30      1\n",
       "64                 23        >30      1\n",
       "65                 24        >30      1\n",
       "66                 24         NO      2\n",
       "67                 25        >30      1\n",
       "68                 26        >30      1\n",
       "69                 26         NO      1\n",
       "70                 27        >30      3\n",
       "71                 28        >30      1\n",
       "72                 29        >30      1\n",
       "73                 29         NO      1\n",
       "74                 33        >30      2\n",
       "75                 34        >30      1\n",
       "76                 35        >30      1\n",
       "77                 35         NO      1\n",
       "78                 36        >30      1\n",
       "79                 36         NO      1\n",
       "80                 37        >30      1\n",
       "81                 38        >30      1\n",
       "82                 39        >30      1\n",
       "83                 40        <30      1\n",
       "84                 42        >30      1"
      ]
     },
     "execution_count": 65,
     "metadata": {},
     "output_type": "execute_result"
    }
   ],
   "source": [
    "outpatient_df =df.groupby(['number_outpatient', 'readmitted']).size().reset_index(name='count')\n",
    "pd.set_option('display.max_rows', None)\n",
    "outpatient_df"
   ]
  },
  {
   "cell_type": "markdown",
   "id": "df26fd80",
   "metadata": {},
   "source": [
    "A great majority of patients from all readmission outcomes had 0 outpatient visits. With 45,950 patients who have never been readmitted having zero out patient visits, 28,002 patients who were redmitted after 30 days having zero out patient visits and 9,039 patients who were readmitted with in 30 days also having zero out patient visits"
   ]
  },
  {
   "cell_type": "markdown",
   "id": "c5306ad5",
   "metadata": {},
   "source": [
    "#### 11) Number of emergency visits in the preceding year"
   ]
  },
  {
   "cell_type": "code",
   "execution_count": 66,
   "id": "f7f23c54",
   "metadata": {},
   "outputs": [
    {
     "data": {
      "text/plain": [
       "count    94660.000000\n",
       "mean         0.205948\n",
       "std          0.957478\n",
       "min          0.000000\n",
       "25%          0.000000\n",
       "50%          0.000000\n",
       "75%          0.000000\n",
       "max         76.000000\n",
       "Name: number_emergency, dtype: float64"
      ]
     },
     "execution_count": 66,
     "metadata": {},
     "output_type": "execute_result"
    }
   ],
   "source": [
    "df['number_emergency'].describe()"
   ]
  },
  {
   "cell_type": "markdown",
   "id": "e38cb2f8",
   "metadata": {},
   "source": [
    "The lowest number of emergency visits is 0 and the highest is 76."
   ]
  },
  {
   "cell_type": "code",
   "execution_count": 67,
   "id": "ecb2f1f6",
   "metadata": {},
   "outputs": [
    {
     "data": {
      "text/html": [
       "<div>\n",
       "<style scoped>\n",
       "    .dataframe tbody tr th:only-of-type {\n",
       "        vertical-align: middle;\n",
       "    }\n",
       "\n",
       "    .dataframe tbody tr th {\n",
       "        vertical-align: top;\n",
       "    }\n",
       "\n",
       "    .dataframe thead th {\n",
       "        text-align: right;\n",
       "    }\n",
       "</style>\n",
       "<table border=\"1\" class=\"dataframe\">\n",
       "  <thead>\n",
       "    <tr style=\"text-align: right;\">\n",
       "      <th></th>\n",
       "      <th>number_emergency</th>\n",
       "      <th>readmitted</th>\n",
       "      <th>count</th>\n",
       "    </tr>\n",
       "  </thead>\n",
       "  <tbody>\n",
       "    <tr>\n",
       "      <th>0</th>\n",
       "      <td>0</td>\n",
       "      <td>&lt;30</td>\n",
       "      <td>8907</td>\n",
       "    </tr>\n",
       "    <tr>\n",
       "      <th>1</th>\n",
       "      <td>0</td>\n",
       "      <td>&gt;30</td>\n",
       "      <td>28821</td>\n",
       "    </tr>\n",
       "    <tr>\n",
       "      <th>2</th>\n",
       "      <td>0</td>\n",
       "      <td>NO</td>\n",
       "      <td>45978</td>\n",
       "    </tr>\n",
       "    <tr>\n",
       "      <th>3</th>\n",
       "      <td>1</td>\n",
       "      <td>&lt;30</td>\n",
       "      <td>1082</td>\n",
       "    </tr>\n",
       "    <tr>\n",
       "      <th>4</th>\n",
       "      <td>1</td>\n",
       "      <td>&gt;30</td>\n",
       "      <td>3411</td>\n",
       "    </tr>\n",
       "    <tr>\n",
       "      <th>5</th>\n",
       "      <td>1</td>\n",
       "      <td>NO</td>\n",
       "      <td>2891</td>\n",
       "    </tr>\n",
       "    <tr>\n",
       "      <th>6</th>\n",
       "      <td>2</td>\n",
       "      <td>&lt;30</td>\n",
       "      <td>364</td>\n",
       "    </tr>\n",
       "    <tr>\n",
       "      <th>7</th>\n",
       "      <td>2</td>\n",
       "      <td>&gt;30</td>\n",
       "      <td>983</td>\n",
       "    </tr>\n",
       "    <tr>\n",
       "      <th>8</th>\n",
       "      <td>2</td>\n",
       "      <td>NO</td>\n",
       "      <td>603</td>\n",
       "    </tr>\n",
       "    <tr>\n",
       "      <th>9</th>\n",
       "      <td>3</td>\n",
       "      <td>&lt;30</td>\n",
       "      <td>145</td>\n",
       "    </tr>\n",
       "    <tr>\n",
       "      <th>10</th>\n",
       "      <td>3</td>\n",
       "      <td>&gt;30</td>\n",
       "      <td>370</td>\n",
       "    </tr>\n",
       "    <tr>\n",
       "      <th>11</th>\n",
       "      <td>3</td>\n",
       "      <td>NO</td>\n",
       "      <td>183</td>\n",
       "    </tr>\n",
       "    <tr>\n",
       "      <th>12</th>\n",
       "      <td>4</td>\n",
       "      <td>&lt;30</td>\n",
       "      <td>113</td>\n",
       "    </tr>\n",
       "    <tr>\n",
       "      <th>13</th>\n",
       "      <td>4</td>\n",
       "      <td>&gt;30</td>\n",
       "      <td>188</td>\n",
       "    </tr>\n",
       "    <tr>\n",
       "      <th>14</th>\n",
       "      <td>4</td>\n",
       "      <td>NO</td>\n",
       "      <td>64</td>\n",
       "    </tr>\n",
       "    <tr>\n",
       "      <th>15</th>\n",
       "      <td>5</td>\n",
       "      <td>&lt;30</td>\n",
       "      <td>46</td>\n",
       "    </tr>\n",
       "    <tr>\n",
       "      <th>16</th>\n",
       "      <td>5</td>\n",
       "      <td>&gt;30</td>\n",
       "      <td>105</td>\n",
       "    </tr>\n",
       "    <tr>\n",
       "      <th>17</th>\n",
       "      <td>5</td>\n",
       "      <td>NO</td>\n",
       "      <td>36</td>\n",
       "    </tr>\n",
       "    <tr>\n",
       "      <th>18</th>\n",
       "      <td>6</td>\n",
       "      <td>&lt;30</td>\n",
       "      <td>22</td>\n",
       "    </tr>\n",
       "    <tr>\n",
       "      <th>19</th>\n",
       "      <td>6</td>\n",
       "      <td>&gt;30</td>\n",
       "      <td>57</td>\n",
       "    </tr>\n",
       "    <tr>\n",
       "      <th>20</th>\n",
       "      <td>6</td>\n",
       "      <td>NO</td>\n",
       "      <td>13</td>\n",
       "    </tr>\n",
       "    <tr>\n",
       "      <th>21</th>\n",
       "      <td>7</td>\n",
       "      <td>&lt;30</td>\n",
       "      <td>19</td>\n",
       "    </tr>\n",
       "    <tr>\n",
       "      <th>22</th>\n",
       "      <td>7</td>\n",
       "      <td>&gt;30</td>\n",
       "      <td>47</td>\n",
       "    </tr>\n",
       "    <tr>\n",
       "      <th>23</th>\n",
       "      <td>7</td>\n",
       "      <td>NO</td>\n",
       "      <td>6</td>\n",
       "    </tr>\n",
       "    <tr>\n",
       "      <th>24</th>\n",
       "      <td>8</td>\n",
       "      <td>&lt;30</td>\n",
       "      <td>16</td>\n",
       "    </tr>\n",
       "    <tr>\n",
       "      <th>25</th>\n",
       "      <td>8</td>\n",
       "      <td>&gt;30</td>\n",
       "      <td>25</td>\n",
       "    </tr>\n",
       "    <tr>\n",
       "      <th>26</th>\n",
       "      <td>8</td>\n",
       "      <td>NO</td>\n",
       "      <td>9</td>\n",
       "    </tr>\n",
       "    <tr>\n",
       "      <th>27</th>\n",
       "      <td>9</td>\n",
       "      <td>&lt;30</td>\n",
       "      <td>12</td>\n",
       "    </tr>\n",
       "    <tr>\n",
       "      <th>28</th>\n",
       "      <td>9</td>\n",
       "      <td>&gt;30</td>\n",
       "      <td>18</td>\n",
       "    </tr>\n",
       "    <tr>\n",
       "      <th>29</th>\n",
       "      <td>9</td>\n",
       "      <td>NO</td>\n",
       "      <td>3</td>\n",
       "    </tr>\n",
       "    <tr>\n",
       "      <th>30</th>\n",
       "      <td>10</td>\n",
       "      <td>&lt;30</td>\n",
       "      <td>12</td>\n",
       "    </tr>\n",
       "    <tr>\n",
       "      <th>31</th>\n",
       "      <td>10</td>\n",
       "      <td>&gt;30</td>\n",
       "      <td>22</td>\n",
       "    </tr>\n",
       "    <tr>\n",
       "      <th>32</th>\n",
       "      <td>11</td>\n",
       "      <td>&lt;30</td>\n",
       "      <td>5</td>\n",
       "    </tr>\n",
       "    <tr>\n",
       "      <th>33</th>\n",
       "      <td>11</td>\n",
       "      <td>&gt;30</td>\n",
       "      <td>15</td>\n",
       "    </tr>\n",
       "    <tr>\n",
       "      <th>34</th>\n",
       "      <td>11</td>\n",
       "      <td>NO</td>\n",
       "      <td>3</td>\n",
       "    </tr>\n",
       "    <tr>\n",
       "      <th>35</th>\n",
       "      <td>12</td>\n",
       "      <td>&lt;30</td>\n",
       "      <td>2</td>\n",
       "    </tr>\n",
       "    <tr>\n",
       "      <th>36</th>\n",
       "      <td>12</td>\n",
       "      <td>&gt;30</td>\n",
       "      <td>6</td>\n",
       "    </tr>\n",
       "    <tr>\n",
       "      <th>37</th>\n",
       "      <td>12</td>\n",
       "      <td>NO</td>\n",
       "      <td>2</td>\n",
       "    </tr>\n",
       "    <tr>\n",
       "      <th>38</th>\n",
       "      <td>13</td>\n",
       "      <td>&lt;30</td>\n",
       "      <td>4</td>\n",
       "    </tr>\n",
       "    <tr>\n",
       "      <th>39</th>\n",
       "      <td>13</td>\n",
       "      <td>&gt;30</td>\n",
       "      <td>7</td>\n",
       "    </tr>\n",
       "    <tr>\n",
       "      <th>40</th>\n",
       "      <td>13</td>\n",
       "      <td>NO</td>\n",
       "      <td>1</td>\n",
       "    </tr>\n",
       "    <tr>\n",
       "      <th>41</th>\n",
       "      <td>14</td>\n",
       "      <td>&gt;30</td>\n",
       "      <td>2</td>\n",
       "    </tr>\n",
       "    <tr>\n",
       "      <th>42</th>\n",
       "      <td>14</td>\n",
       "      <td>NO</td>\n",
       "      <td>1</td>\n",
       "    </tr>\n",
       "    <tr>\n",
       "      <th>43</th>\n",
       "      <td>15</td>\n",
       "      <td>&lt;30</td>\n",
       "      <td>1</td>\n",
       "    </tr>\n",
       "    <tr>\n",
       "      <th>44</th>\n",
       "      <td>15</td>\n",
       "      <td>&gt;30</td>\n",
       "      <td>2</td>\n",
       "    </tr>\n",
       "    <tr>\n",
       "      <th>45</th>\n",
       "      <td>16</td>\n",
       "      <td>&lt;30</td>\n",
       "      <td>2</td>\n",
       "    </tr>\n",
       "    <tr>\n",
       "      <th>46</th>\n",
       "      <td>16</td>\n",
       "      <td>&gt;30</td>\n",
       "      <td>2</td>\n",
       "    </tr>\n",
       "    <tr>\n",
       "      <th>47</th>\n",
       "      <td>16</td>\n",
       "      <td>NO</td>\n",
       "      <td>1</td>\n",
       "    </tr>\n",
       "    <tr>\n",
       "      <th>48</th>\n",
       "      <td>18</td>\n",
       "      <td>&lt;30</td>\n",
       "      <td>1</td>\n",
       "    </tr>\n",
       "    <tr>\n",
       "      <th>49</th>\n",
       "      <td>18</td>\n",
       "      <td>&gt;30</td>\n",
       "      <td>4</td>\n",
       "    </tr>\n",
       "    <tr>\n",
       "      <th>50</th>\n",
       "      <td>19</td>\n",
       "      <td>&lt;30</td>\n",
       "      <td>2</td>\n",
       "    </tr>\n",
       "    <tr>\n",
       "      <th>51</th>\n",
       "      <td>19</td>\n",
       "      <td>&gt;30</td>\n",
       "      <td>2</td>\n",
       "    </tr>\n",
       "    <tr>\n",
       "      <th>52</th>\n",
       "      <td>20</td>\n",
       "      <td>&lt;30</td>\n",
       "      <td>2</td>\n",
       "    </tr>\n",
       "    <tr>\n",
       "      <th>53</th>\n",
       "      <td>20</td>\n",
       "      <td>&gt;30</td>\n",
       "      <td>1</td>\n",
       "    </tr>\n",
       "    <tr>\n",
       "      <th>54</th>\n",
       "      <td>20</td>\n",
       "      <td>NO</td>\n",
       "      <td>1</td>\n",
       "    </tr>\n",
       "    <tr>\n",
       "      <th>55</th>\n",
       "      <td>21</td>\n",
       "      <td>&lt;30</td>\n",
       "      <td>1</td>\n",
       "    </tr>\n",
       "    <tr>\n",
       "      <th>56</th>\n",
       "      <td>21</td>\n",
       "      <td>&gt;30</td>\n",
       "      <td>1</td>\n",
       "    </tr>\n",
       "    <tr>\n",
       "      <th>57</th>\n",
       "      <td>22</td>\n",
       "      <td>&lt;30</td>\n",
       "      <td>3</td>\n",
       "    </tr>\n",
       "    <tr>\n",
       "      <th>58</th>\n",
       "      <td>22</td>\n",
       "      <td>&gt;30</td>\n",
       "      <td>3</td>\n",
       "    </tr>\n",
       "    <tr>\n",
       "      <th>59</th>\n",
       "      <td>24</td>\n",
       "      <td>&gt;30</td>\n",
       "      <td>1</td>\n",
       "    </tr>\n",
       "    <tr>\n",
       "      <th>60</th>\n",
       "      <td>25</td>\n",
       "      <td>NO</td>\n",
       "      <td>2</td>\n",
       "    </tr>\n",
       "    <tr>\n",
       "      <th>61</th>\n",
       "      <td>28</td>\n",
       "      <td>&lt;30</td>\n",
       "      <td>1</td>\n",
       "    </tr>\n",
       "    <tr>\n",
       "      <th>62</th>\n",
       "      <td>29</td>\n",
       "      <td>&gt;30</td>\n",
       "      <td>1</td>\n",
       "    </tr>\n",
       "    <tr>\n",
       "      <th>63</th>\n",
       "      <td>37</td>\n",
       "      <td>NO</td>\n",
       "      <td>1</td>\n",
       "    </tr>\n",
       "    <tr>\n",
       "      <th>64</th>\n",
       "      <td>42</td>\n",
       "      <td>&gt;30</td>\n",
       "      <td>1</td>\n",
       "    </tr>\n",
       "    <tr>\n",
       "      <th>65</th>\n",
       "      <td>46</td>\n",
       "      <td>&gt;30</td>\n",
       "      <td>1</td>\n",
       "    </tr>\n",
       "    <tr>\n",
       "      <th>66</th>\n",
       "      <td>54</td>\n",
       "      <td>&gt;30</td>\n",
       "      <td>1</td>\n",
       "    </tr>\n",
       "    <tr>\n",
       "      <th>67</th>\n",
       "      <td>63</td>\n",
       "      <td>&gt;30</td>\n",
       "      <td>1</td>\n",
       "    </tr>\n",
       "    <tr>\n",
       "      <th>68</th>\n",
       "      <td>64</td>\n",
       "      <td>&lt;30</td>\n",
       "      <td>1</td>\n",
       "    </tr>\n",
       "    <tr>\n",
       "      <th>69</th>\n",
       "      <td>76</td>\n",
       "      <td>&gt;30</td>\n",
       "      <td>1</td>\n",
       "    </tr>\n",
       "  </tbody>\n",
       "</table>\n",
       "</div>"
      ],
      "text/plain": [
       "    number_emergency readmitted  count\n",
       "0                  0        <30   8907\n",
       "1                  0        >30  28821\n",
       "2                  0         NO  45978\n",
       "3                  1        <30   1082\n",
       "4                  1        >30   3411\n",
       "5                  1         NO   2891\n",
       "6                  2        <30    364\n",
       "7                  2        >30    983\n",
       "8                  2         NO    603\n",
       "9                  3        <30    145\n",
       "10                 3        >30    370\n",
       "11                 3         NO    183\n",
       "12                 4        <30    113\n",
       "13                 4        >30    188\n",
       "14                 4         NO     64\n",
       "15                 5        <30     46\n",
       "16                 5        >30    105\n",
       "17                 5         NO     36\n",
       "18                 6        <30     22\n",
       "19                 6        >30     57\n",
       "20                 6         NO     13\n",
       "21                 7        <30     19\n",
       "22                 7        >30     47\n",
       "23                 7         NO      6\n",
       "24                 8        <30     16\n",
       "25                 8        >30     25\n",
       "26                 8         NO      9\n",
       "27                 9        <30     12\n",
       "28                 9        >30     18\n",
       "29                 9         NO      3\n",
       "30                10        <30     12\n",
       "31                10        >30     22\n",
       "32                11        <30      5\n",
       "33                11        >30     15\n",
       "34                11         NO      3\n",
       "35                12        <30      2\n",
       "36                12        >30      6\n",
       "37                12         NO      2\n",
       "38                13        <30      4\n",
       "39                13        >30      7\n",
       "40                13         NO      1\n",
       "41                14        >30      2\n",
       "42                14         NO      1\n",
       "43                15        <30      1\n",
       "44                15        >30      2\n",
       "45                16        <30      2\n",
       "46                16        >30      2\n",
       "47                16         NO      1\n",
       "48                18        <30      1\n",
       "49                18        >30      4\n",
       "50                19        <30      2\n",
       "51                19        >30      2\n",
       "52                20        <30      2\n",
       "53                20        >30      1\n",
       "54                20         NO      1\n",
       "55                21        <30      1\n",
       "56                21        >30      1\n",
       "57                22        <30      3\n",
       "58                22        >30      3\n",
       "59                24        >30      1\n",
       "60                25         NO      2\n",
       "61                28        <30      1\n",
       "62                29        >30      1\n",
       "63                37         NO      1\n",
       "64                42        >30      1\n",
       "65                46        >30      1\n",
       "66                54        >30      1\n",
       "67                63        >30      1\n",
       "68                64        <30      1\n",
       "69                76        >30      1"
      ]
     },
     "execution_count": 67,
     "metadata": {},
     "output_type": "execute_result"
    }
   ],
   "source": [
    "emergency_df =df.groupby(['number_emergency', 'readmitted']).size().reset_index(name='count')\n",
    "emergency_df"
   ]
  },
  {
   "cell_type": "markdown",
   "id": "1bd383f7",
   "metadata": {},
   "source": [
    "A great majority of patients from all readmission outcomes had 0 emergency visits. With 48,644 patients who have never been readmitted having zero emergency visits, 30,171 patients who were redmitted after 30 days having zero emergency visits and 9,431 patients who were readmitted with in 30 days also having zero emergency visits"
   ]
  },
  {
   "cell_type": "markdown",
   "id": "4c513af5",
   "metadata": {},
   "source": [
    "Patients who were readmitted after 30 days have more emergency visits as compared to other readmission outcomes"
   ]
  },
  {
   "cell_type": "markdown",
   "id": "1affc112",
   "metadata": {},
   "source": [
    "#### 12) Number of inpatient visits in the preceding year"
   ]
  },
  {
   "cell_type": "code",
   "execution_count": 68,
   "id": "17bbcbea",
   "metadata": {},
   "outputs": [
    {
     "data": {
      "text/plain": [
       "count    94660.000000\n",
       "mean         0.633097\n",
       "std          1.265327\n",
       "min          0.000000\n",
       "25%          0.000000\n",
       "50%          0.000000\n",
       "75%          1.000000\n",
       "max         21.000000\n",
       "Name: number_inpatient, dtype: float64"
      ]
     },
     "execution_count": 68,
     "metadata": {},
     "output_type": "execute_result"
    }
   ],
   "source": [
    "df['number_inpatient'].describe()"
   ]
  },
  {
   "cell_type": "markdown",
   "id": "40ae1fc2",
   "metadata": {},
   "source": [
    "The lowest number of inpatient visits is 0 and the highest is 21."
   ]
  },
  {
   "cell_type": "code",
   "execution_count": 69,
   "id": "b70c758e",
   "metadata": {},
   "outputs": [
    {
     "data": {
      "text/html": [
       "<div>\n",
       "<style scoped>\n",
       "    .dataframe tbody tr th:only-of-type {\n",
       "        vertical-align: middle;\n",
       "    }\n",
       "\n",
       "    .dataframe tbody tr th {\n",
       "        vertical-align: top;\n",
       "    }\n",
       "\n",
       "    .dataframe thead th {\n",
       "        text-align: right;\n",
       "    }\n",
       "</style>\n",
       "<table border=\"1\" class=\"dataframe\">\n",
       "  <thead>\n",
       "    <tr style=\"text-align: right;\">\n",
       "      <th></th>\n",
       "      <th>number_inpatient</th>\n",
       "      <th>readmitted</th>\n",
       "      <th>count</th>\n",
       "    </tr>\n",
       "  </thead>\n",
       "  <tbody>\n",
       "    <tr>\n",
       "      <th>0</th>\n",
       "      <td>0</td>\n",
       "      <td>&lt;30</td>\n",
       "      <td>5408</td>\n",
       "    </tr>\n",
       "    <tr>\n",
       "      <th>1</th>\n",
       "      <td>0</td>\n",
       "      <td>&gt;30</td>\n",
       "      <td>19497</td>\n",
       "    </tr>\n",
       "    <tr>\n",
       "      <th>2</th>\n",
       "      <td>0</td>\n",
       "      <td>NO</td>\n",
       "      <td>38152</td>\n",
       "    </tr>\n",
       "    <tr>\n",
       "      <th>3</th>\n",
       "      <td>1</td>\n",
       "      <td>&lt;30</td>\n",
       "      <td>2396</td>\n",
       "    </tr>\n",
       "    <tr>\n",
       "      <th>4</th>\n",
       "      <td>1</td>\n",
       "      <td>&gt;30</td>\n",
       "      <td>7841</td>\n",
       "    </tr>\n",
       "    <tr>\n",
       "      <th>5</th>\n",
       "      <td>1</td>\n",
       "      <td>NO</td>\n",
       "      <td>7898</td>\n",
       "    </tr>\n",
       "    <tr>\n",
       "      <th>6</th>\n",
       "      <td>2</td>\n",
       "      <td>&lt;30</td>\n",
       "      <td>1242</td>\n",
       "    </tr>\n",
       "    <tr>\n",
       "      <th>7</th>\n",
       "      <td>2</td>\n",
       "      <td>&gt;30</td>\n",
       "      <td>3455</td>\n",
       "    </tr>\n",
       "    <tr>\n",
       "      <th>8</th>\n",
       "      <td>2</td>\n",
       "      <td>NO</td>\n",
       "      <td>2262</td>\n",
       "    </tr>\n",
       "    <tr>\n",
       "      <th>9</th>\n",
       "      <td>3</td>\n",
       "      <td>&lt;30</td>\n",
       "      <td>646</td>\n",
       "    </tr>\n",
       "    <tr>\n",
       "      <th>10</th>\n",
       "      <td>3</td>\n",
       "      <td>&gt;30</td>\n",
       "      <td>1612</td>\n",
       "    </tr>\n",
       "    <tr>\n",
       "      <th>11</th>\n",
       "      <td>3</td>\n",
       "      <td>NO</td>\n",
       "      <td>854</td>\n",
       "    </tr>\n",
       "    <tr>\n",
       "      <th>12</th>\n",
       "      <td>4</td>\n",
       "      <td>&lt;30</td>\n",
       "      <td>367</td>\n",
       "    </tr>\n",
       "    <tr>\n",
       "      <th>13</th>\n",
       "      <td>4</td>\n",
       "      <td>&gt;30</td>\n",
       "      <td>777</td>\n",
       "    </tr>\n",
       "    <tr>\n",
       "      <th>14</th>\n",
       "      <td>4</td>\n",
       "      <td>NO</td>\n",
       "      <td>351</td>\n",
       "    </tr>\n",
       "    <tr>\n",
       "      <th>15</th>\n",
       "      <td>5</td>\n",
       "      <td>&lt;30</td>\n",
       "      <td>242</td>\n",
       "    </tr>\n",
       "    <tr>\n",
       "      <th>16</th>\n",
       "      <td>5</td>\n",
       "      <td>&gt;30</td>\n",
       "      <td>380</td>\n",
       "    </tr>\n",
       "    <tr>\n",
       "      <th>17</th>\n",
       "      <td>5</td>\n",
       "      <td>NO</td>\n",
       "      <td>139</td>\n",
       "    </tr>\n",
       "    <tr>\n",
       "      <th>18</th>\n",
       "      <td>6</td>\n",
       "      <td>&lt;30</td>\n",
       "      <td>159</td>\n",
       "    </tr>\n",
       "    <tr>\n",
       "      <th>19</th>\n",
       "      <td>6</td>\n",
       "      <td>&gt;30</td>\n",
       "      <td>230</td>\n",
       "    </tr>\n",
       "    <tr>\n",
       "      <th>20</th>\n",
       "      <td>6</td>\n",
       "      <td>NO</td>\n",
       "      <td>69</td>\n",
       "    </tr>\n",
       "    <tr>\n",
       "      <th>21</th>\n",
       "      <td>7</td>\n",
       "      <td>&lt;30</td>\n",
       "      <td>91</td>\n",
       "    </tr>\n",
       "    <tr>\n",
       "      <th>22</th>\n",
       "      <td>7</td>\n",
       "      <td>&gt;30</td>\n",
       "      <td>121</td>\n",
       "    </tr>\n",
       "    <tr>\n",
       "      <th>23</th>\n",
       "      <td>7</td>\n",
       "      <td>NO</td>\n",
       "      <td>43</td>\n",
       "    </tr>\n",
       "    <tr>\n",
       "      <th>24</th>\n",
       "      <td>8</td>\n",
       "      <td>&lt;30</td>\n",
       "      <td>65</td>\n",
       "    </tr>\n",
       "    <tr>\n",
       "      <th>25</th>\n",
       "      <td>8</td>\n",
       "      <td>&gt;30</td>\n",
       "      <td>66</td>\n",
       "    </tr>\n",
       "    <tr>\n",
       "      <th>26</th>\n",
       "      <td>8</td>\n",
       "      <td>NO</td>\n",
       "      <td>8</td>\n",
       "    </tr>\n",
       "    <tr>\n",
       "      <th>27</th>\n",
       "      <td>9</td>\n",
       "      <td>&lt;30</td>\n",
       "      <td>45</td>\n",
       "    </tr>\n",
       "    <tr>\n",
       "      <th>28</th>\n",
       "      <td>9</td>\n",
       "      <td>&gt;30</td>\n",
       "      <td>49</td>\n",
       "    </tr>\n",
       "    <tr>\n",
       "      <th>29</th>\n",
       "      <td>9</td>\n",
       "      <td>NO</td>\n",
       "      <td>11</td>\n",
       "    </tr>\n",
       "    <tr>\n",
       "      <th>30</th>\n",
       "      <td>10</td>\n",
       "      <td>&lt;30</td>\n",
       "      <td>25</td>\n",
       "    </tr>\n",
       "    <tr>\n",
       "      <th>31</th>\n",
       "      <td>10</td>\n",
       "      <td>&gt;30</td>\n",
       "      <td>24</td>\n",
       "    </tr>\n",
       "    <tr>\n",
       "      <th>32</th>\n",
       "      <td>10</td>\n",
       "      <td>NO</td>\n",
       "      <td>7</td>\n",
       "    </tr>\n",
       "    <tr>\n",
       "      <th>33</th>\n",
       "      <td>11</td>\n",
       "      <td>&lt;30</td>\n",
       "      <td>33</td>\n",
       "    </tr>\n",
       "    <tr>\n",
       "      <th>34</th>\n",
       "      <td>11</td>\n",
       "      <td>&gt;30</td>\n",
       "      <td>16</td>\n",
       "    </tr>\n",
       "    <tr>\n",
       "      <th>35</th>\n",
       "      <td>12</td>\n",
       "      <td>&lt;30</td>\n",
       "      <td>17</td>\n",
       "    </tr>\n",
       "    <tr>\n",
       "      <th>36</th>\n",
       "      <td>12</td>\n",
       "      <td>&gt;30</td>\n",
       "      <td>13</td>\n",
       "    </tr>\n",
       "    <tr>\n",
       "      <th>37</th>\n",
       "      <td>12</td>\n",
       "      <td>NO</td>\n",
       "      <td>2</td>\n",
       "    </tr>\n",
       "    <tr>\n",
       "      <th>38</th>\n",
       "      <td>13</td>\n",
       "      <td>&lt;30</td>\n",
       "      <td>10</td>\n",
       "    </tr>\n",
       "    <tr>\n",
       "      <th>39</th>\n",
       "      <td>13</td>\n",
       "      <td>&gt;30</td>\n",
       "      <td>8</td>\n",
       "    </tr>\n",
       "    <tr>\n",
       "      <th>40</th>\n",
       "      <td>14</td>\n",
       "      <td>&lt;30</td>\n",
       "      <td>4</td>\n",
       "    </tr>\n",
       "    <tr>\n",
       "      <th>41</th>\n",
       "      <td>14</td>\n",
       "      <td>&gt;30</td>\n",
       "      <td>6</td>\n",
       "    </tr>\n",
       "    <tr>\n",
       "      <th>42</th>\n",
       "      <td>15</td>\n",
       "      <td>&lt;30</td>\n",
       "      <td>9</td>\n",
       "    </tr>\n",
       "    <tr>\n",
       "      <th>43</th>\n",
       "      <td>16</td>\n",
       "      <td>&lt;30</td>\n",
       "      <td>2</td>\n",
       "    </tr>\n",
       "    <tr>\n",
       "      <th>44</th>\n",
       "      <td>16</td>\n",
       "      <td>&gt;30</td>\n",
       "      <td>2</td>\n",
       "    </tr>\n",
       "    <tr>\n",
       "      <th>45</th>\n",
       "      <td>16</td>\n",
       "      <td>NO</td>\n",
       "      <td>2</td>\n",
       "    </tr>\n",
       "    <tr>\n",
       "      <th>46</th>\n",
       "      <td>18</td>\n",
       "      <td>&gt;30</td>\n",
       "      <td>1</td>\n",
       "    </tr>\n",
       "    <tr>\n",
       "      <th>47</th>\n",
       "      <td>19</td>\n",
       "      <td>&lt;30</td>\n",
       "      <td>1</td>\n",
       "    </tr>\n",
       "    <tr>\n",
       "      <th>48</th>\n",
       "      <td>19</td>\n",
       "      <td>&gt;30</td>\n",
       "      <td>1</td>\n",
       "    </tr>\n",
       "    <tr>\n",
       "      <th>49</th>\n",
       "      <td>21</td>\n",
       "      <td>&lt;30</td>\n",
       "      <td>1</td>\n",
       "    </tr>\n",
       "  </tbody>\n",
       "</table>\n",
       "</div>"
      ],
      "text/plain": [
       "    number_inpatient readmitted  count\n",
       "0                  0        <30   5408\n",
       "1                  0        >30  19497\n",
       "2                  0         NO  38152\n",
       "3                  1        <30   2396\n",
       "4                  1        >30   7841\n",
       "5                  1         NO   7898\n",
       "6                  2        <30   1242\n",
       "7                  2        >30   3455\n",
       "8                  2         NO   2262\n",
       "9                  3        <30    646\n",
       "10                 3        >30   1612\n",
       "11                 3         NO    854\n",
       "12                 4        <30    367\n",
       "13                 4        >30    777\n",
       "14                 4         NO    351\n",
       "15                 5        <30    242\n",
       "16                 5        >30    380\n",
       "17                 5         NO    139\n",
       "18                 6        <30    159\n",
       "19                 6        >30    230\n",
       "20                 6         NO     69\n",
       "21                 7        <30     91\n",
       "22                 7        >30    121\n",
       "23                 7         NO     43\n",
       "24                 8        <30     65\n",
       "25                 8        >30     66\n",
       "26                 8         NO      8\n",
       "27                 9        <30     45\n",
       "28                 9        >30     49\n",
       "29                 9         NO     11\n",
       "30                10        <30     25\n",
       "31                10        >30     24\n",
       "32                10         NO      7\n",
       "33                11        <30     33\n",
       "34                11        >30     16\n",
       "35                12        <30     17\n",
       "36                12        >30     13\n",
       "37                12         NO      2\n",
       "38                13        <30     10\n",
       "39                13        >30      8\n",
       "40                14        <30      4\n",
       "41                14        >30      6\n",
       "42                15        <30      9\n",
       "43                16        <30      2\n",
       "44                16        >30      2\n",
       "45                16         NO      2\n",
       "46                18        >30      1\n",
       "47                19        <30      1\n",
       "48                19        >30      1\n",
       "49                21        <30      1"
      ]
     },
     "execution_count": 69,
     "metadata": {},
     "output_type": "execute_result"
    }
   ],
   "source": [
    "inpatient_df =df.groupby(['number_inpatient', 'readmitted']).size().reset_index(name='count')\n",
    "inpatient_df"
   ]
  },
  {
   "cell_type": "markdown",
   "id": "b6bb7378",
   "metadata": {},
   "source": [
    "A great majority of patients from all readmission outcomes had 0 inpatient visits. With 40,245 patients who have never been readmitted having zero inpatient visits, 20,307 patients who were redmitted after 30 days having zero inpatient visits and 5,690 patients who were readmitted with in 30 days also having zero inpatient visits"
   ]
  },
  {
   "cell_type": "markdown",
   "id": "3356bcd7",
   "metadata": {},
   "source": [
    "#### 13) ICD-9 diagnoses"
   ]
  },
  {
   "cell_type": "code",
   "execution_count": 70,
   "id": "ed82857f",
   "metadata": {},
   "outputs": [
    {
     "data": {
      "text/plain": [
       "count     94642\n",
       "unique      712\n",
       "top         428\n",
       "freq       6289\n",
       "Name: diag_1, dtype: object"
      ]
     },
     "execution_count": 70,
     "metadata": {},
     "output_type": "execute_result"
    }
   ],
   "source": [
    "df['diag_1'].describe()"
   ]
  },
  {
   "cell_type": "markdown",
   "id": "d519c582",
   "metadata": {},
   "source": [
    "The ICD-9-CM Chapters List (https://icd.codes/icd9cm) provides a list of 3-digit codes corresponding to each ICD-9 diagnosis. I will map these diagnoses to my feature. Each diagnosis is not a specific health condition, but rather an 'umbrella' group of health conditions. For example, 3-digit codes ranging between 290 and 310 are mental health related disorders."
   ]
  },
  {
   "cell_type": "code",
   "execution_count": 71,
   "id": "77425abe",
   "metadata": {},
   "outputs": [
    {
     "data": {
      "text/plain": [
       "18"
      ]
     },
     "execution_count": 71,
     "metadata": {},
     "output_type": "execute_result"
    }
   ],
   "source": [
    "df['diag_1'].isnull().sum()"
   ]
  },
  {
   "cell_type": "code",
   "execution_count": 72,
   "id": "c1968144",
   "metadata": {},
   "outputs": [],
   "source": [
    "df = df.dropna(subset=['diag_1'])"
   ]
  },
  {
   "cell_type": "code",
   "execution_count": 73,
   "id": "496300c8",
   "metadata": {},
   "outputs": [
    {
     "data": {
      "text/html": [
       "<div>\n",
       "<style scoped>\n",
       "    .dataframe tbody tr th:only-of-type {\n",
       "        vertical-align: middle;\n",
       "    }\n",
       "\n",
       "    .dataframe tbody tr th {\n",
       "        vertical-align: top;\n",
       "    }\n",
       "\n",
       "    .dataframe thead th {\n",
       "        text-align: right;\n",
       "    }\n",
       "</style>\n",
       "<table border=\"1\" class=\"dataframe\">\n",
       "  <thead>\n",
       "    <tr style=\"text-align: right;\">\n",
       "      <th></th>\n",
       "      <th>race</th>\n",
       "      <th>gender</th>\n",
       "      <th>age</th>\n",
       "      <th>admission_type_id</th>\n",
       "      <th>discharge_disposition_id</th>\n",
       "      <th>admission_source_id</th>\n",
       "      <th>time_in_hospital</th>\n",
       "      <th>payer_code</th>\n",
       "      <th>medical_specialty</th>\n",
       "      <th>num_lab_procedures</th>\n",
       "      <th>...</th>\n",
       "      <th>glipizide-metformin</th>\n",
       "      <th>glimepiride-pioglitazone</th>\n",
       "      <th>metformin-rosiglitazone</th>\n",
       "      <th>metformin-pioglitazone</th>\n",
       "      <th>change</th>\n",
       "      <th>diabetesMed</th>\n",
       "      <th>readmitted</th>\n",
       "      <th>has_weight</th>\n",
       "      <th>admission_type</th>\n",
       "      <th>discharge_disposition</th>\n",
       "    </tr>\n",
       "  </thead>\n",
       "  <tbody>\n",
       "    <tr>\n",
       "      <th>73324</th>\n",
       "      <td>Hispanic</td>\n",
       "      <td>Female</td>\n",
       "      <td>[50-60)</td>\n",
       "      <td>1</td>\n",
       "      <td>1</td>\n",
       "      <td>7</td>\n",
       "      <td>5</td>\n",
       "      <td>SP</td>\n",
       "      <td>Family/GeneralPractice</td>\n",
       "      <td>76</td>\n",
       "      <td>...</td>\n",
       "      <td>No</td>\n",
       "      <td>No</td>\n",
       "      <td>No</td>\n",
       "      <td>No</td>\n",
       "      <td>Ch</td>\n",
       "      <td>Yes</td>\n",
       "      <td>NO</td>\n",
       "      <td>0</td>\n",
       "      <td>Emergency</td>\n",
       "      <td>Home</td>\n",
       "    </tr>\n",
       "  </tbody>\n",
       "</table>\n",
       "<p>1 rows × 48 columns</p>\n",
       "</div>"
      ],
      "text/plain": [
       "           race  gender      age  admission_type_id  discharge_disposition_id  \\\n",
       "73324  Hispanic  Female  [50-60)                  1                         1   \n",
       "\n",
       "       admission_source_id  time_in_hospital payer_code  \\\n",
       "73324                    7                 5         SP   \n",
       "\n",
       "            medical_specialty  num_lab_procedures  ...  glipizide-metformin  \\\n",
       "73324  Family/GeneralPractice                  76  ...                   No   \n",
       "\n",
       "       glimepiride-pioglitazone  metformin-rosiglitazone  \\\n",
       "73324                        No                       No   \n",
       "\n",
       "       metformin-pioglitazone  change diabetesMed readmitted has_weight  \\\n",
       "73324                      No      Ch         Yes         NO          0   \n",
       "\n",
       "       admission_type discharge_disposition  \n",
       "73324       Emergency                  Home  \n",
       "\n",
       "[1 rows x 48 columns]"
      ]
     },
     "execution_count": 73,
     "metadata": {},
     "output_type": "execute_result"
    }
   ],
   "source": [
    "df[df['diag_1'].str.contains('E').fillna(False)]"
   ]
  },
  {
   "cell_type": "code",
   "execution_count": 76,
   "id": "5c57969e",
   "metadata": {},
   "outputs": [],
   "source": [
    "# Drop the rows corresponding to 'E' codes\n",
    "df = df.loc[~df['diag_1'].str.contains('E').fillna(True)]"
   ]
  },
  {
   "cell_type": "code",
   "execution_count": 77,
   "id": "208ca2c3",
   "metadata": {},
   "outputs": [],
   "source": [
    "# recode ICE code of V or E \n",
    "df.loc[df['diag_1'].str.contains('V'), 'diag_1'] = 1000\n",
    "df.loc[df['diag_1'].str.contains('E'), 'diag_1'] = 2000"
   ]
  },
  {
   "cell_type": "code",
   "execution_count": 78,
   "id": "1d2cf991",
   "metadata": {},
   "outputs": [],
   "source": [
    "df['diag_1'] = df['diag_1'].astype(float)"
   ]
  },
  {
   "cell_type": "code",
   "execution_count": 79,
   "id": "4f308ba3",
   "metadata": {},
   "outputs": [],
   "source": [
    "# define classification function\n",
    "def classify_diagnosis_codes(code):\n",
    "    if code <= 139:\n",
    "        return 'infectious and parasitic diseases'\n",
    "    elif code >=140 and code <= 239:\n",
    "        return 'neoplasms'\n",
    "    elif code >=240 and code <= 279:\n",
    "        return 'endocrine, nutritional, metabolic diseases, immunity disorders'\n",
    "    elif code >= 280 and code <= 289:\n",
    "        return 'diseases of the blood'\n",
    "    elif code >= 290 and code <= 319:\n",
    "        return 'mental disorders'\n",
    "    elif code >= 320 and code <= 389:\n",
    "        return 'diseases of the nervous system'\n",
    "    elif code >= 390 and code <= 459:\n",
    "        return 'diseases of the circulatory system'\n",
    "    elif code >= 460 and code <= 519:\n",
    "        return 'diseases of the respiratory system'\n",
    "    elif code >= 520 and code <= 579:\n",
    "        return 'diseases of the digestive system'\n",
    "    elif code >= 580 and code <= 629:\n",
    "        return 'diseases of the genitourinary system'\n",
    "    elif code >= 630 and code <= 679:\n",
    "        return 'complications of pregnancy, childbirth'\n",
    "    elif code >=680 and code <= 709:\n",
    "        return 'diseases of the skin'\n",
    "    elif code >= 710 and code <= 739:\n",
    "        return 'diseases of the musculoskeletal system'\n",
    "    elif code >= 740 and code <= 759:\n",
    "        return 'congenital anomalies'\n",
    "    elif code >= 760 and code <= 779:\n",
    "        return 'originating in the perinatal period'\n",
    "    elif code >= 780 and code <= 799:\n",
    "        return 'symptoms, signs, and ill-defined conditions'\n",
    "    elif code >=800 and code <= 999:\n",
    "        return 'injury and poisoning'\n",
    "    elif code == 1000 :\n",
    "        return 'factors affecting health status'\n",
    "    elif code == 2000:\n",
    "        return 'external causes of injury'\n",
    "    else:\n",
    "        return 'other'\n",
    "df['primary_diag'] = df['diag_1'].apply(classify_diagnosis_codes)"
   ]
  },
  {
   "cell_type": "code",
   "execution_count": 80,
   "id": "34e5726d",
   "metadata": {},
   "outputs": [
    {
     "data": {
      "text/plain": [
       "1    endocrine, nutritional, metabolic diseases, im...\n",
       "2               complications of pregnancy, childbirth\n",
       "3                    infectious and parasitic diseases\n",
       "4                                            neoplasms\n",
       "5                   diseases of the circulatory system\n",
       "Name: primary_diag, dtype: object"
      ]
     },
     "execution_count": 80,
     "metadata": {},
     "output_type": "execute_result"
    }
   ],
   "source": [
    "df['primary_diag'].head()"
   ]
  },
  {
   "cell_type": "code",
   "execution_count": 81,
   "id": "f7611e1b",
   "metadata": {},
   "outputs": [
    {
     "data": {
      "text/plain": [
       "diseases of the circulatory system                                27836\n",
       "endocrine, nutritional, metabolic diseases, immunity disorders    10802\n",
       "diseases of the respiratory system                                 9576\n",
       "diseases of the digestive system                                   8715\n",
       "symptoms, signs, and ill-defined conditions                        7187\n",
       "injury and poisoning                                               6558\n",
       "diseases of the genitourinary system                               4799\n",
       "diseases of the musculoskeletal system                             4696\n",
       "neoplasms                                                          2984\n",
       "infectious and parasitic diseases                                  2489\n",
       "diseases of the skin                                               2402\n",
       "mental disorders                                                   2199\n",
       "diseases of the nervous system                                     1134\n",
       "diseases of the blood                                              1051\n",
       "complications of pregnancy, childbirth                              672\n",
       "congenital anomalies                                                 49\n",
       "Name: primary_diag, dtype: int64"
      ]
     },
     "execution_count": 81,
     "metadata": {},
     "output_type": "execute_result"
    }
   ],
   "source": [
    "df['primary_diag'].value_counts()"
   ]
  },
  {
   "cell_type": "code",
   "execution_count": 82,
   "id": "bc4bd344",
   "metadata": {},
   "outputs": [
    {
     "data": {
      "image/png": "[encoded data removed]",
      "text/plain": [
       "<Figure size 1080x720 with 1 Axes>"
      ]
     },
     "metadata": {
      "needs_background": "light"
     },
     "output_type": "display_data"
    }
   ],
   "source": [
    "plt.figure(figsize=(15,10))\n",
    "sns.countplot(x=\"primary_diag\", data=df, palette = 'bright')\n",
    "plt.title(\"Primary Diagnosis\")\n",
    "plt.xlabel(\"Diagnosis\")\n",
    "plt.ylabel(\"Count\")\n",
    "plt.xticks(rotation=90)\n",
    "plt.show()"
   ]
  },
  {
   "cell_type": "code",
   "execution_count": 83,
   "id": "4847b39d",
   "metadata": {},
   "outputs": [
    {
     "data": {
      "image/png": "[encoded data removed]",
      "text/plain": [
       "<Figure size 1080x720 with 1 Axes>"
      ]
     },
     "metadata": {
      "needs_background": "light"
     },
     "output_type": "display_data"
    }
   ],
   "source": [
    "plt.figure(figsize=(15,10))\n",
    "sns.countplot(x=\"primary_diag\", hue = \"readmitted\", data=df, palette = 'bright')\n",
    "plt.title(\"Primary Diagnosis across different readmission outcomes\")\n",
    "plt.xlabel(\"Diagnosis\")\n",
    "plt.ylabel(\"Count\")\n",
    "plt.xticks(rotation=90)\n",
    "plt.show()"
   ]
  },
  {
   "cell_type": "code",
   "execution_count": 84,
   "id": "b06fa6b1",
   "metadata": {},
   "outputs": [
    {
     "data": {
      "image/png": "[encoded data removed]",
      "text/plain": [
       "<Figure size 1080x720 with 1 Axes>"
      ]
     },
     "metadata": {
      "needs_background": "light"
     },
     "output_type": "display_data"
    }
   ],
   "source": [
    "# create a table of proportions \n",
    "output3 = pd.crosstab(df['primary_diag'], df['readmitted']).apply(lambda x: round((x/x.sum())*100, 1), axis=1)\n",
    "output3.plot.bar(figsize=(15,10), color=['#59cd32','#ff6500','#3182bd']) \n",
    "plt.title('Proportion of readmission outcome across primary_diagnosis')\n",
    "plt.xticks(rotation=360)\n",
    "plt.xlabel('Diagnosis')\n",
    "plt.xticks(rotation=90)\n",
    "plt.ylabel('%');"
   ]
  },
  {
   "cell_type": "markdown",
   "id": "60872fb0",
   "metadata": {},
   "source": [
    "#### 14) Number of diagnoses"
   ]
  },
  {
   "cell_type": "code",
   "execution_count": 85,
   "id": "1c84558d",
   "metadata": {},
   "outputs": [
    {
     "data": {
      "text/plain": [
       "count    93149.000000\n",
       "mean         7.428829\n",
       "std          1.934368\n",
       "min          1.000000\n",
       "25%          6.000000\n",
       "50%          8.000000\n",
       "75%          9.000000\n",
       "max         16.000000\n",
       "Name: number_diagnoses, dtype: float64"
      ]
     },
     "execution_count": 85,
     "metadata": {},
     "output_type": "execute_result"
    }
   ],
   "source": [
    "df['number_diagnoses'].describe()"
   ]
  },
  {
   "cell_type": "markdown",
   "id": "208e342b",
   "metadata": {},
   "source": [
    "16 is the highest number of diagnoses while 1 is the least"
   ]
  },
  {
   "cell_type": "code",
   "execution_count": 86,
   "id": "93ce0316",
   "metadata": {},
   "outputs": [
    {
     "name": "stdout",
     "output_type": "stream",
     "text": [
      "The average number of diagnosis for No readmission is:  7.20198540503078\n",
      "The average number of diagnosis for readmission with in 30 days is:  7.7196803957005615\n",
      "The average number of diagnosis for readmission after 30 days is:  7.669188158913574\n"
     ]
    }
   ],
   "source": [
    "# Filter the DataFrame to include only readmission rows\n",
    "noreadm = df[df[\"readmitted\"] == \"NO\"]\n",
    "yesreadm_30 = df[df[\"readmitted\"] == \"<30\"]\n",
    "yesreadm_31 = df[df[\"readmitted\"] == \">30\"]\n",
    "\n",
    "# Calculate the average number of diagnoses\n",
    "avg_noreadm = noreadm['number_diagnoses'].mean()\n",
    "avg_yesreadm_30 = yesreadm_30['number_diagnoses'].mean()\n",
    "avg_yesreadm_31 = yesreadm_31['number_diagnoses'].mean()\n",
    "# Print the results\n",
    "print(\"The average number of diagnosis for No readmission is: \", avg_noreadm)\n",
    "print(\"The average number of diagnosis for readmission with in 30 days is: \", avg_yesreadm_30)\n",
    "print(\"The average number of diagnosis for readmission after 30 days is: \", avg_yesreadm_31)"
   ]
  },
  {
   "cell_type": "code",
   "execution_count": 87,
   "id": "bc9ef43c",
   "metadata": {},
   "outputs": [
    {
     "data": {
      "text/html": [
       "<div>\n",
       "<style scoped>\n",
       "    .dataframe tbody tr th:only-of-type {\n",
       "        vertical-align: middle;\n",
       "    }\n",
       "\n",
       "    .dataframe tbody tr th {\n",
       "        vertical-align: top;\n",
       "    }\n",
       "\n",
       "    .dataframe thead th {\n",
       "        text-align: right;\n",
       "    }\n",
       "</style>\n",
       "<table border=\"1\" class=\"dataframe\">\n",
       "  <thead>\n",
       "    <tr style=\"text-align: right;\">\n",
       "      <th></th>\n",
       "      <th>number_diagnoses</th>\n",
       "      <th>readmitted</th>\n",
       "      <th>count</th>\n",
       "    </tr>\n",
       "  </thead>\n",
       "  <tbody>\n",
       "    <tr>\n",
       "      <th>0</th>\n",
       "      <td>1</td>\n",
       "      <td>&lt;30</td>\n",
       "      <td>12</td>\n",
       "    </tr>\n",
       "    <tr>\n",
       "      <th>1</th>\n",
       "      <td>1</td>\n",
       "      <td>&gt;30</td>\n",
       "      <td>38</td>\n",
       "    </tr>\n",
       "    <tr>\n",
       "      <th>2</th>\n",
       "      <td>1</td>\n",
       "      <td>NO</td>\n",
       "      <td>156</td>\n",
       "    </tr>\n",
       "    <tr>\n",
       "      <th>3</th>\n",
       "      <td>2</td>\n",
       "      <td>&lt;30</td>\n",
       "      <td>60</td>\n",
       "    </tr>\n",
       "    <tr>\n",
       "      <th>4</th>\n",
       "      <td>2</td>\n",
       "      <td>&gt;30</td>\n",
       "      <td>256</td>\n",
       "    </tr>\n",
       "    <tr>\n",
       "      <th>5</th>\n",
       "      <td>2</td>\n",
       "      <td>NO</td>\n",
       "      <td>634</td>\n",
       "    </tr>\n",
       "    <tr>\n",
       "      <th>6</th>\n",
       "      <td>3</td>\n",
       "      <td>&lt;30</td>\n",
       "      <td>187</td>\n",
       "    </tr>\n",
       "    <tr>\n",
       "      <th>7</th>\n",
       "      <td>3</td>\n",
       "      <td>&gt;30</td>\n",
       "      <td>710</td>\n",
       "    </tr>\n",
       "    <tr>\n",
       "      <th>8</th>\n",
       "      <td>3</td>\n",
       "      <td>NO</td>\n",
       "      <td>1670</td>\n",
       "    </tr>\n",
       "    <tr>\n",
       "      <th>9</th>\n",
       "      <td>4</td>\n",
       "      <td>&lt;30</td>\n",
       "      <td>406</td>\n",
       "    </tr>\n",
       "    <tr>\n",
       "      <th>10</th>\n",
       "      <td>4</td>\n",
       "      <td>&gt;30</td>\n",
       "      <td>1488</td>\n",
       "    </tr>\n",
       "    <tr>\n",
       "      <th>11</th>\n",
       "      <td>4</td>\n",
       "      <td>NO</td>\n",
       "      <td>3115</td>\n",
       "    </tr>\n",
       "    <tr>\n",
       "      <th>12</th>\n",
       "      <td>5</td>\n",
       "      <td>&lt;30</td>\n",
       "      <td>952</td>\n",
       "    </tr>\n",
       "    <tr>\n",
       "      <th>13</th>\n",
       "      <td>5</td>\n",
       "      <td>&gt;30</td>\n",
       "      <td>2777</td>\n",
       "    </tr>\n",
       "    <tr>\n",
       "      <th>14</th>\n",
       "      <td>5</td>\n",
       "      <td>NO</td>\n",
       "      <td>6803</td>\n",
       "    </tr>\n",
       "    <tr>\n",
       "      <th>15</th>\n",
       "      <td>6</td>\n",
       "      <td>&lt;30</td>\n",
       "      <td>945</td>\n",
       "    </tr>\n",
       "    <tr>\n",
       "      <th>16</th>\n",
       "      <td>6</td>\n",
       "      <td>&gt;30</td>\n",
       "      <td>3142</td>\n",
       "    </tr>\n",
       "    <tr>\n",
       "      <th>17</th>\n",
       "      <td>6</td>\n",
       "      <td>NO</td>\n",
       "      <td>5049</td>\n",
       "    </tr>\n",
       "    <tr>\n",
       "      <th>18</th>\n",
       "      <td>7</td>\n",
       "      <td>&lt;30</td>\n",
       "      <td>1037</td>\n",
       "    </tr>\n",
       "    <tr>\n",
       "      <th>19</th>\n",
       "      <td>7</td>\n",
       "      <td>&gt;30</td>\n",
       "      <td>3475</td>\n",
       "    </tr>\n",
       "    <tr>\n",
       "      <th>20</th>\n",
       "      <td>7</td>\n",
       "      <td>NO</td>\n",
       "      <td>4946</td>\n",
       "    </tr>\n",
       "    <tr>\n",
       "      <th>21</th>\n",
       "      <td>8</td>\n",
       "      <td>&lt;30</td>\n",
       "      <td>1144</td>\n",
       "    </tr>\n",
       "    <tr>\n",
       "      <th>22</th>\n",
       "      <td>8</td>\n",
       "      <td>&gt;30</td>\n",
       "      <td>3580</td>\n",
       "    </tr>\n",
       "    <tr>\n",
       "      <th>23</th>\n",
       "      <td>8</td>\n",
       "      <td>NO</td>\n",
       "      <td>4931</td>\n",
       "    </tr>\n",
       "    <tr>\n",
       "      <th>24</th>\n",
       "      <td>9</td>\n",
       "      <td>&lt;30</td>\n",
       "      <td>5753</td>\n",
       "    </tr>\n",
       "    <tr>\n",
       "      <th>25</th>\n",
       "      <td>9</td>\n",
       "      <td>&gt;30</td>\n",
       "      <td>18074</td>\n",
       "    </tr>\n",
       "    <tr>\n",
       "      <th>26</th>\n",
       "      <td>9</td>\n",
       "      <td>NO</td>\n",
       "      <td>21702</td>\n",
       "    </tr>\n",
       "    <tr>\n",
       "      <th>27</th>\n",
       "      <td>10</td>\n",
       "      <td>&lt;30</td>\n",
       "      <td>3</td>\n",
       "    </tr>\n",
       "    <tr>\n",
       "      <th>28</th>\n",
       "      <td>10</td>\n",
       "      <td>&gt;30</td>\n",
       "      <td>5</td>\n",
       "    </tr>\n",
       "    <tr>\n",
       "      <th>29</th>\n",
       "      <td>10</td>\n",
       "      <td>NO</td>\n",
       "      <td>8</td>\n",
       "    </tr>\n",
       "    <tr>\n",
       "      <th>30</th>\n",
       "      <td>11</td>\n",
       "      <td>&lt;30</td>\n",
       "      <td>3</td>\n",
       "    </tr>\n",
       "    <tr>\n",
       "      <th>31</th>\n",
       "      <td>11</td>\n",
       "      <td>&gt;30</td>\n",
       "      <td>5</td>\n",
       "    </tr>\n",
       "    <tr>\n",
       "      <th>32</th>\n",
       "      <td>11</td>\n",
       "      <td>NO</td>\n",
       "      <td>3</td>\n",
       "    </tr>\n",
       "    <tr>\n",
       "      <th>33</th>\n",
       "      <td>12</td>\n",
       "      <td>&lt;30</td>\n",
       "      <td>1</td>\n",
       "    </tr>\n",
       "    <tr>\n",
       "      <th>34</th>\n",
       "      <td>12</td>\n",
       "      <td>&gt;30</td>\n",
       "      <td>3</td>\n",
       "    </tr>\n",
       "    <tr>\n",
       "      <th>35</th>\n",
       "      <td>12</td>\n",
       "      <td>NO</td>\n",
       "      <td>4</td>\n",
       "    </tr>\n",
       "    <tr>\n",
       "      <th>36</th>\n",
       "      <td>13</td>\n",
       "      <td>&lt;30</td>\n",
       "      <td>3</td>\n",
       "    </tr>\n",
       "    <tr>\n",
       "      <th>37</th>\n",
       "      <td>13</td>\n",
       "      <td>&gt;30</td>\n",
       "      <td>6</td>\n",
       "    </tr>\n",
       "    <tr>\n",
       "      <th>38</th>\n",
       "      <td>13</td>\n",
       "      <td>NO</td>\n",
       "      <td>6</td>\n",
       "    </tr>\n",
       "    <tr>\n",
       "      <th>39</th>\n",
       "      <td>14</td>\n",
       "      <td>&lt;30</td>\n",
       "      <td>1</td>\n",
       "    </tr>\n",
       "    <tr>\n",
       "      <th>40</th>\n",
       "      <td>14</td>\n",
       "      <td>&gt;30</td>\n",
       "      <td>2</td>\n",
       "    </tr>\n",
       "    <tr>\n",
       "      <th>41</th>\n",
       "      <td>14</td>\n",
       "      <td>NO</td>\n",
       "      <td>3</td>\n",
       "    </tr>\n",
       "    <tr>\n",
       "      <th>42</th>\n",
       "      <td>15</td>\n",
       "      <td>&lt;30</td>\n",
       "      <td>2</td>\n",
       "    </tr>\n",
       "    <tr>\n",
       "      <th>43</th>\n",
       "      <td>15</td>\n",
       "      <td>&gt;30</td>\n",
       "      <td>3</td>\n",
       "    </tr>\n",
       "    <tr>\n",
       "      <th>44</th>\n",
       "      <td>15</td>\n",
       "      <td>NO</td>\n",
       "      <td>5</td>\n",
       "    </tr>\n",
       "    <tr>\n",
       "      <th>45</th>\n",
       "      <td>16</td>\n",
       "      <td>&lt;30</td>\n",
       "      <td>4</td>\n",
       "    </tr>\n",
       "    <tr>\n",
       "      <th>46</th>\n",
       "      <td>16</td>\n",
       "      <td>&gt;30</td>\n",
       "      <td>14</td>\n",
       "    </tr>\n",
       "    <tr>\n",
       "      <th>47</th>\n",
       "      <td>16</td>\n",
       "      <td>NO</td>\n",
       "      <td>23</td>\n",
       "    </tr>\n",
       "  </tbody>\n",
       "</table>\n",
       "</div>"
      ],
      "text/plain": [
       "    number_diagnoses readmitted  count\n",
       "0                  1        <30     12\n",
       "1                  1        >30     38\n",
       "2                  1         NO    156\n",
       "3                  2        <30     60\n",
       "4                  2        >30    256\n",
       "5                  2         NO    634\n",
       "6                  3        <30    187\n",
       "7                  3        >30    710\n",
       "8                  3         NO   1670\n",
       "9                  4        <30    406\n",
       "10                 4        >30   1488\n",
       "11                 4         NO   3115\n",
       "12                 5        <30    952\n",
       "13                 5        >30   2777\n",
       "14                 5         NO   6803\n",
       "15                 6        <30    945\n",
       "16                 6        >30   3142\n",
       "17                 6         NO   5049\n",
       "18                 7        <30   1037\n",
       "19                 7        >30   3475\n",
       "20                 7         NO   4946\n",
       "21                 8        <30   1144\n",
       "22                 8        >30   3580\n",
       "23                 8         NO   4931\n",
       "24                 9        <30   5753\n",
       "25                 9        >30  18074\n",
       "26                 9         NO  21702\n",
       "27                10        <30      3\n",
       "28                10        >30      5\n",
       "29                10         NO      8\n",
       "30                11        <30      3\n",
       "31                11        >30      5\n",
       "32                11         NO      3\n",
       "33                12        <30      1\n",
       "34                12        >30      3\n",
       "35                12         NO      4\n",
       "36                13        <30      3\n",
       "37                13        >30      6\n",
       "38                13         NO      6\n",
       "39                14        <30      1\n",
       "40                14        >30      2\n",
       "41                14         NO      3\n",
       "42                15        <30      2\n",
       "43                15        >30      3\n",
       "44                15         NO      5\n",
       "45                16        <30      4\n",
       "46                16        >30     14\n",
       "47                16         NO     23"
      ]
     },
     "execution_count": 87,
     "metadata": {},
     "output_type": "execute_result"
    }
   ],
   "source": [
    "diagnosis_df =df.groupby(['number_diagnoses', 'readmitted']).size().reset_index(name='count')\n",
    "diagnosis_df"
   ]
  },
  {
   "cell_type": "markdown",
   "id": "51c2389b",
   "metadata": {},
   "source": [
    "#### 15) Glucose serum test results"
   ]
  },
  {
   "cell_type": "code",
   "execution_count": 88,
   "id": "9b0b7e48",
   "metadata": {},
   "outputs": [
    {
     "data": {
      "text/plain": [
       "None    94.939291\n",
       "Norm     2.493854\n",
       ">200     1.374143\n",
       ">300     1.192713\n",
       "Name: max_glu_serum, dtype: float64"
      ]
     },
     "execution_count": 88,
     "metadata": {},
     "output_type": "execute_result"
    }
   ],
   "source": [
    "df['max_glu_serum'].value_counts(normalize=True).apply(lambda x: x*100)"
   ]
  },
  {
   "cell_type": "markdown",
   "id": "bf735924",
   "metadata": {},
   "source": [
    "94% of the patients did not have their glucose serum test done"
   ]
  },
  {
   "cell_type": "code",
   "execution_count": 89,
   "id": "ac44e39d",
   "metadata": {},
   "outputs": [
    {
     "data": {
      "image/png": "[encoded data removed]",
      "text/plain": [
       "<Figure size 1080x720 with 1 Axes>"
      ]
     },
     "metadata": {
      "needs_background": "light"
     },
     "output_type": "display_data"
    }
   ],
   "source": [
    "plt.figure(figsize=(15,10))\n",
    "# Create new dataframe without 'none' category\n",
    "df_plot = df[df['max_glu_serum'] != 'None']\n",
    "sns.countplot(x=\"max_glu_serum\", data=df_plot, palette = 'bright')\n",
    "plt.title(\"Glucose serum test results\")\n",
    "plt.xlabel(\"Glucose serum\")\n",
    "plt.ylabel(\"Count\")\n",
    "plt.show()"
   ]
  },
  {
   "cell_type": "code",
   "execution_count": 90,
   "id": "29094e96",
   "metadata": {},
   "outputs": [
    {
     "data": {
      "image/png": "[encoded data removed]",
      "text/plain": [
       "<Figure size 1080x720 with 1 Axes>"
      ]
     },
     "metadata": {
      "needs_background": "light"
     },
     "output_type": "display_data"
    }
   ],
   "source": [
    "plt.figure(figsize=(15,10))\n",
    "sns.countplot(x=\"max_glu_serum\", data=df_plot, hue= \"readmitted\", palette = 'bright')\n",
    "plt.title(\"Glucose serum test results across readmission outcomes\")\n",
    "plt.xlabel(\"Glucose serum\")\n",
    "plt.ylabel(\"Count\")\n",
    "# add gridlines\n",
    "plt.grid(True)\n",
    "plt.show()"
   ]
  },
  {
   "cell_type": "markdown",
   "id": "8d9581ff",
   "metadata": {},
   "source": [
    "#### 16) A1c test results"
   ]
  },
  {
   "cell_type": "code",
   "execution_count": 91,
   "id": "4c2e93ad",
   "metadata": {},
   "outputs": [
    {
     "data": {
      "text/plain": [
       "None    82.905882\n",
       ">8       8.216943\n",
       "Norm     5.040312\n",
       ">7       3.836864\n",
       "Name: A1Cresult, dtype: float64"
      ]
     },
     "execution_count": 91,
     "metadata": {},
     "output_type": "execute_result"
    }
   ],
   "source": [
    "df['A1Cresult'].value_counts(normalize=True).apply(lambda x: x*100)"
   ]
  },
  {
   "cell_type": "markdown",
   "id": "299d5fd9",
   "metadata": {},
   "source": [
    "The A1c test is a blood test that measures a person's average blood sugar levels over the past 3 months.The dataset records the test results in categories of >8 if the result is greater than 8%, >7 if the result is greater than 7% but less than 8%, normal if the result is less than 7%, and none if the test was not taken by the patient. 83% of patients did not have their A1c test taken."
   ]
  },
  {
   "cell_type": "code",
   "execution_count": 92,
   "id": "c5b89748",
   "metadata": {},
   "outputs": [
    {
     "data": {
      "image/png": "[encoded data removed]",
      "text/plain": [
       "<Figure size 1080x720 with 1 Axes>"
      ]
     },
     "metadata": {
      "needs_background": "light"
     },
     "output_type": "display_data"
    }
   ],
   "source": [
    "plt.figure(figsize=(15,10))\n",
    "# Create new dataframe without 'none' category\n",
    "df_plot = df[df['A1Cresult'] != 'None']\n",
    "sns.countplot(x=\"A1Cresult\", data=df_plot, palette = 'bright')\n",
    "plt.title(\"A1C results\")\n",
    "plt.xlabel(\"A1C result\")\n",
    "plt.ylabel(\"Count\")\n",
    "plt.show()"
   ]
  },
  {
   "cell_type": "code",
   "execution_count": 93,
   "id": "174d3c65",
   "metadata": {},
   "outputs": [
    {
     "data": {
      "image/png": "[encoded data removed]",
      "text/plain": [
       "<Figure size 1080x720 with 1 Axes>"
      ]
     },
     "metadata": {
      "needs_background": "light"
     },
     "output_type": "display_data"
    }
   ],
   "source": [
    "plt.figure(figsize=(15,10))\n",
    "sns.countplot(x=\"A1Cresult\", data=df_plot, hue= \"readmitted\", palette = 'bright')\n",
    "plt.title(\"A1C results across readmission outcomes\")\n",
    "plt.xlabel(\"A1C Result\")\n",
    "plt.ylabel(\"Count\")\n",
    "# add gridlines\n",
    "plt.grid(True)\n",
    "plt.show()"
   ]
  },
  {
   "cell_type": "markdown",
   "id": "c86460aa",
   "metadata": {},
   "source": [
    "Patients with an A1C Result test of >8 tend to be readmitted with in 30 days as compared to patients with an A1C Result of >7 "
   ]
  },
  {
   "cell_type": "markdown",
   "id": "4af19615",
   "metadata": {},
   "source": [
    "#### 17) Changes in medication dosage - per medicine"
   ]
  },
  {
   "cell_type": "code",
   "execution_count": 94,
   "id": "d4239ca9",
   "metadata": {},
   "outputs": [
    {
     "data": {
      "text/plain": [
       "No        74626\n",
       "Steady    17040\n",
       "Up          962\n",
       "Down        521\n",
       "Name: metformin, dtype: int64"
      ]
     },
     "execution_count": 94,
     "metadata": {},
     "output_type": "execute_result"
    }
   ],
   "source": [
    "df['metformin'].value_counts()"
   ]
  },
  {
   "cell_type": "markdown",
   "id": "9d931425",
   "metadata": {},
   "source": [
    "The dataset includes 24 different medications that were either taken by patients in an increasing dosage, decreasing dosage, a steady dosage, or it was not taken at all."
   ]
  },
  {
   "cell_type": "code",
   "execution_count": 95,
   "id": "04600444",
   "metadata": {},
   "outputs": [],
   "source": [
    "# Create a new variable to calculate the change of medication dose\n",
    "medication_df = df[['metformin', 'repaglinide', 'nateglinide', 'chlorpropamide', 'glimepiride', 'glipizide', 'glyburide', \n",
    "        'pioglitazone', 'rosiglitazone', 'acarbose', 'miglitol', 'insulin', 'glyburide-metformin', 'tolazamide', \n",
    "        'metformin-pioglitazone','metformin-rosiglitazone', 'glimepiride-pioglitazone', \n",
    "        'glipizide-metformin', 'troglitazone', 'tolbutamide', 'acetohexamide']]"
   ]
  },
  {
   "cell_type": "code",
   "execution_count": 96,
   "id": "acd187f4",
   "metadata": {},
   "outputs": [
    {
     "data": {
      "text/plain": [
       "metformin                   4\n",
       "repaglinide                 4\n",
       "nateglinide                 4\n",
       "chlorpropamide              4\n",
       "glimepiride                 4\n",
       "glipizide                   4\n",
       "glyburide                   4\n",
       "pioglitazone                4\n",
       "rosiglitazone               4\n",
       "acarbose                    4\n",
       "miglitol                    4\n",
       "insulin                     4\n",
       "glyburide-metformin         4\n",
       "tolazamide                  2\n",
       "metformin-pioglitazone      2\n",
       "metformin-rosiglitazone     2\n",
       "glimepiride-pioglitazone    2\n",
       "glipizide-metformin         2\n",
       "troglitazone                2\n",
       "tolbutamide                 2\n",
       "acetohexamide               2\n",
       "dtype: int64"
      ]
     },
     "execution_count": 96,
     "metadata": {},
     "output_type": "execute_result"
    }
   ],
   "source": [
    "medication_df.nunique()"
   ]
  },
  {
   "cell_type": "markdown",
   "id": "58a9523a",
   "metadata": {},
   "source": [
    "#### 18) Change of medications"
   ]
  },
  {
   "cell_type": "code",
   "execution_count": 97,
   "id": "9835c22f",
   "metadata": {},
   "outputs": [
    {
     "data": {
      "text/plain": [
       "No    49261\n",
       "Ch    43888\n",
       "Name: change, dtype: int64"
      ]
     },
     "execution_count": 97,
     "metadata": {},
     "output_type": "execute_result"
    }
   ],
   "source": [
    "df['change'].value_counts()"
   ]
  },
  {
   "cell_type": "code",
   "execution_count": 98,
   "id": "673b6c90",
   "metadata": {},
   "outputs": [
    {
     "data": {
      "image/png": "[encoded data removed]",
      "text/plain": [
       "<Figure size 1080x720 with 1 Axes>"
      ]
     },
     "metadata": {
      "needs_background": "light"
     },
     "output_type": "display_data"
    }
   ],
   "source": [
    "# create a table of proportions \n",
    "output6 = pd.crosstab(df['change'], df['readmitted']).apply(lambda x: round((x/x.sum())*100, 1), axis=1)\n",
    "\n",
    "output6.plot.bar(figsize=(15,10), color=['#59cd32','#ff6500','#3182bd']) \n",
    "plt.title('Proportion of readmission outcome across change in medications (yes or no)')\n",
    "plt.xticks(rotation=360)\n",
    "plt.xlabel('change in medications')\n",
    "# add gridlines\n",
    "plt.grid(True)\n",
    "plt.ylabel('%');"
   ]
  },
  {
   "cell_type": "markdown",
   "id": "a31fe8c1",
   "metadata": {},
   "source": [
    "Looks like a higher proportion of patients whose medications were changed got readmitted with in 30 days as compared to those whose medications were not changed."
   ]
  },
  {
   "cell_type": "markdown",
   "id": "b2f9cc4a",
   "metadata": {},
   "source": [
    "#### 19) Diabetes medications"
   ]
  },
  {
   "cell_type": "code",
   "execution_count": 99,
   "id": "2f6b6229",
   "metadata": {},
   "outputs": [
    {
     "data": {
      "text/plain": [
       "Yes    72499\n",
       "No     20650\n",
       "Name: diabetesMed, dtype: int64"
      ]
     },
     "execution_count": 99,
     "metadata": {},
     "output_type": "execute_result"
    }
   ],
   "source": [
    "df['diabetesMed'].value_counts()"
   ]
  },
  {
   "cell_type": "code",
   "execution_count": 100,
   "id": "1756bf33",
   "metadata": {},
   "outputs": [
    {
     "data": {
      "image/png": "[encoded data removed]",
      "text/plain": [
       "<Figure size 1080x720 with 1 Axes>"
      ]
     },
     "metadata": {
      "needs_background": "light"
     },
     "output_type": "display_data"
    }
   ],
   "source": [
    "# create a table of proportions \n",
    "output7 = pd.crosstab(df['diabetesMed'], df['readmitted']).apply(lambda x: round((x/x.sum())*100, 1), axis=1)\n",
    "output7.plot.bar(figsize=(15,10), color=['#59cd32','#ff6500','#3182bd']) \n",
    "plt.title('Proportion of readmission outcome across diabetes Medications)')\n",
    "plt.xticks(rotation=360)\n",
    "plt.xlabel('diabetes Medications')\n",
    "# add gridlines\n",
    "plt.grid(True)\n",
    "plt.ylabel('%');"
   ]
  },
  {
   "cell_type": "markdown",
   "id": "8d006489",
   "metadata": {},
   "source": [
    "#### Linear classifiers"
   ]
  },
  {
   "cell_type": "code",
   "execution_count": 102,
   "id": "46214554",
   "metadata": {},
   "outputs": [
    {
     "data": {
      "text/plain": [
       "Index(['race', 'gender', 'age', 'admission_type_id',\n",
       "       'discharge_disposition_id', 'admission_source_id', 'time_in_hospital',\n",
       "       'payer_code', 'medical_specialty', 'num_lab_procedures',\n",
       "       'num_procedures', 'num_medications', 'number_outpatient',\n",
       "       'number_emergency', 'number_inpatient', 'diag_1', 'diag_2', 'diag_3',\n",
       "       'number_diagnoses', 'max_glu_serum', 'A1Cresult', 'metformin',\n",
       "       'repaglinide', 'nateglinide', 'chlorpropamide', 'glimepiride',\n",
       "       'acetohexamide', 'glipizide', 'glyburide', 'tolbutamide',\n",
       "       'pioglitazone', 'rosiglitazone', 'acarbose', 'miglitol', 'troglitazone',\n",
       "       'tolazamide', 'insulin', 'glyburide-metformin', 'glipizide-metformin',\n",
       "       'glimepiride-pioglitazone', 'metformin-rosiglitazone',\n",
       "       'metformin-pioglitazone', 'change', 'diabetesMed', 'readmitted',\n",
       "       'has_weight', 'admission_type', 'discharge_disposition',\n",
       "       'primary_diag'],\n",
       "      dtype='object')"
      ]
     },
     "execution_count": 102,
     "metadata": {},
     "output_type": "execute_result"
    }
   ],
   "source": [
    "df.columns"
   ]
  },
  {
   "cell_type": "markdown",
   "id": "5e75b968",
   "metadata": {},
   "source": [
    "#### Outliers"
   ]
  },
  {
   "cell_type": "code",
   "execution_count": 103,
   "id": "3926f6ff",
   "metadata": {},
   "outputs": [],
   "source": [
    "key=['time_in_hospital','num_lab_procedures', 'num_procedures', 'num_medications',\n",
    "       'number_outpatient', 'number_emergency', 'number_inpatient','number_diagnoses', 'has_weight', 'admission_source_id']\n",
    "df= df[(np.abs(sp.stats.zscore(df[key])) < 3).all(axis=1)]"
   ]
  },
  {
   "cell_type": "code",
   "execution_count": 104,
   "id": "f18a99d5",
   "metadata": {},
   "outputs": [
    {
     "data": {
      "text/plain": [
       "race                         object\n",
       "gender                       object\n",
       "age                          object\n",
       "admission_type_id             int64\n",
       "discharge_disposition_id      int64\n",
       "admission_source_id           int64\n",
       "time_in_hospital              int64\n",
       "payer_code                   object\n",
       "medical_specialty            object\n",
       "num_lab_procedures            int64\n",
       "num_procedures                int64\n",
       "num_medications               int64\n",
       "number_outpatient             int64\n",
       "number_emergency              int64\n",
       "number_inpatient              int64\n",
       "diag_1                      float64\n",
       "diag_2                       object\n",
       "diag_3                       object\n",
       "number_diagnoses              int64\n",
       "max_glu_serum                object\n",
       "A1Cresult                    object\n",
       "metformin                    object\n",
       "repaglinide                  object\n",
       "nateglinide                  object\n",
       "chlorpropamide               object\n",
       "glimepiride                  object\n",
       "acetohexamide                object\n",
       "glipizide                    object\n",
       "glyburide                    object\n",
       "tolbutamide                  object\n",
       "pioglitazone                 object\n",
       "rosiglitazone                object\n",
       "acarbose                     object\n",
       "miglitol                     object\n",
       "troglitazone                 object\n",
       "tolazamide                   object\n",
       "insulin                      object\n",
       "glyburide-metformin          object\n",
       "glipizide-metformin          object\n",
       "glimepiride-pioglitazone     object\n",
       "metformin-rosiglitazone      object\n",
       "metformin-pioglitazone       object\n",
       "change                       object\n",
       "diabetesMed                  object\n",
       "readmitted                   object\n",
       "has_weight                    int32\n",
       "admission_type               object\n",
       "discharge_disposition        object\n",
       "primary_diag                 object\n",
       "dtype: object"
      ]
     },
     "execution_count": 104,
     "metadata": {},
     "output_type": "execute_result"
    }
   ],
   "source": [
    "df.dtypes"
   ]
  },
  {
   "cell_type": "code",
   "execution_count": 105,
   "id": "5106358a",
   "metadata": {},
   "outputs": [],
   "source": [
    "# Numerical features\n",
    "cols_num = ['time_in_hospital','num_lab_procedures', 'num_procedures', 'num_medications',\n",
    "       'number_outpatient', 'number_emergency', 'number_inpatient','number_diagnoses', 'has_weight', 'admission_source_id']"
   ]
  },
  {
   "cell_type": "code",
   "execution_count": 106,
   "id": "aa8ad252",
   "metadata": {},
   "outputs": [
    {
     "data": {
      "text/plain": [
       "time_in_hospital       0\n",
       "num_lab_procedures     0\n",
       "num_procedures         0\n",
       "num_medications        0\n",
       "number_outpatient      0\n",
       "number_emergency       0\n",
       "number_inpatient       0\n",
       "number_diagnoses       0\n",
       "has_weight             0\n",
       "admission_source_id    0\n",
       "dtype: int64"
      ]
     },
     "execution_count": 106,
     "metadata": {},
     "output_type": "execute_result"
    }
   ],
   "source": [
    "df[cols_num].isnull().sum()"
   ]
  },
  {
   "cell_type": "code",
   "execution_count": 107,
   "id": "afa08b0e",
   "metadata": {},
   "outputs": [],
   "source": [
    "keys = ['metformin', 'repaglinide', 'nateglinide', 'chlorpropamide',\n",
    "       'glimepiride', 'acetohexamide', 'glipizide', 'glyburide', 'tolbutamide',\n",
    "       'pioglitazone', 'rosiglitazone', 'acarbose', 'miglitol', 'troglitazone',\n",
    "       'tolazamide', 'insulin',\n",
    "       'glyburide-metformin', 'glipizide-metformin',\n",
    "       'glimepiride-pioglitazone', 'metformin-rosiglitazone',\n",
    "       'metformin-pioglitazone']"
   ]
  },
  {
   "cell_type": "code",
   "execution_count": 108,
   "id": "906aa89d",
   "metadata": {},
   "outputs": [],
   "source": [
    "for col in keys:\n",
    "    df[col] = df[col].replace('No', 0)\n",
    "    df[col] = df[col].replace('Steady', 1)\n",
    "    df[col] = df[col].replace('Up', 2)\n",
    "    df[col] = df[col].replace('Down', 3) "
   ]
  },
  {
   "cell_type": "code",
   "execution_count": 109,
   "id": "917d70b7",
   "metadata": {},
   "outputs": [
    {
     "data": {
      "text/plain": [
       "0    67429\n",
       "1    15618\n",
       "2      863\n",
       "3      471\n",
       "Name: metformin, dtype: int64"
      ]
     },
     "execution_count": 109,
     "metadata": {},
     "output_type": "execute_result"
    }
   ],
   "source": [
    "df['metformin'].value_counts()"
   ]
  },
  {
   "cell_type": "code",
   "execution_count": 110,
   "id": "538e90e2",
   "metadata": {},
   "outputs": [
    {
     "data": {
      "text/plain": [
       "race                          6\n",
       "gender                        2\n",
       "age                          10\n",
       "admission_type_id             8\n",
       "discharge_disposition_id     19\n",
       "admission_source_id          14\n",
       "time_in_hospital             13\n",
       "payer_code                   18\n",
       "medical_specialty            73\n",
       "num_lab_procedures          102\n",
       "num_procedures                7\n",
       "num_medications              40\n",
       "number_outpatient             5\n",
       "number_emergency              4\n",
       "number_inpatient              5\n",
       "diag_1                      690\n",
       "diag_2                      729\n",
       "diag_3                      769\n",
       "number_diagnoses             12\n",
       "max_glu_serum                 4\n",
       "A1Cresult                     4\n",
       "metformin                     4\n",
       "repaglinide                   4\n",
       "nateglinide                   4\n",
       "chlorpropamide                4\n",
       "glimepiride                   4\n",
       "acetohexamide                 1\n",
       "glipizide                     4\n",
       "glyburide                     4\n",
       "tolbutamide                   2\n",
       "pioglitazone                  4\n",
       "rosiglitazone                 4\n",
       "acarbose                      4\n",
       "miglitol                      4\n",
       "troglitazone                  2\n",
       "tolazamide                    2\n",
       "insulin                       4\n",
       "glyburide-metformin           4\n",
       "glipizide-metformin           2\n",
       "glimepiride-pioglitazone      2\n",
       "metformin-rosiglitazone       2\n",
       "metformin-pioglitazone        2\n",
       "change                        2\n",
       "diabetesMed                   2\n",
       "readmitted                    3\n",
       "has_weight                    1\n",
       "admission_type                6\n",
       "discharge_disposition         5\n",
       "primary_diag                 16\n",
       "dtype: int64"
      ]
     },
     "execution_count": 110,
     "metadata": {},
     "output_type": "execute_result"
    }
   ],
   "source": [
    "df.nunique()"
   ]
  },
  {
   "cell_type": "code",
   "execution_count": 111,
   "id": "be9f747d",
   "metadata": {},
   "outputs": [],
   "source": [
    "# Recode change \n",
    "df['change'] = df['change'].replace('Ch', 1)\n",
    "df['change'] = df['change'].replace('No', 0)\n",
    "# Recode gender \n",
    "df['gender'] = df['gender'].replace('Male', 1)\n",
    "df['gender'] = df['gender'].replace('Female', 0)\n",
    "# Recode diabetesMed\n",
    "df['diabetesMed'] = df['diabetesMed'].replace('Yes', 1)\n",
    "df['diabetesMed'] = df['diabetesMed'].replace('No', 0)\n",
    "# Reode race\n",
    "df['race'] = df['race'].replace('Caucasian', 1)\n",
    "df['race'] = df['race'].replace('AfricanAmerican', 2)\n",
    "df['race'] = df['race'].replace('Hispanic', 3)\n",
    "df['race'] = df['race'].replace('Asian', 4) \n",
    "df['race'] = df['race'].replace('Other', 0) \n",
    "df['race'] = df['race'].replace('Unknown', 5) \n",
    "# recode A1Cresult \n",
    "df['A1Cresult'] = df['A1Cresult'].replace('>7', 1)\n",
    "df['A1Cresult'] = df['A1Cresult'].replace('>8', 2)\n",
    "df['A1Cresult'] = df['A1Cresult'].replace('Norm', 0)\n",
    "df['A1Cresult'] = df['A1Cresult'].replace('None', 99) \n",
    "# recode max_glu_serum using the similar approach\n",
    "df['max_glu_serum'] = df['max_glu_serum'].replace('>200', 1)\n",
    "df['max_glu_serum'] = df['max_glu_serum'].replace('>300', 2)\n",
    "df['max_glu_serum'] = df['max_glu_serum'].replace('Norm', 0)\n",
    "df['max_glu_serum'] = df['max_glu_serum'].replace('None', 99)\n",
    "#recode age using mean of each order \n",
    "\"\"\"recode it by means is the trade-off of uisng the continuous 1-10. Using the mean can maintain the interpretability of the age\"\"\"\n",
    "age_dict = {'[0-10)':5, '[10-20)':15, '[20-30)':25, '[30-40)':35, '[40-50)':45, '[50-60)':55, '[60-70)':65, '[70-80)':75, '[80-90)':85, '[90-100)':95}\n",
    "df['age'] = df.age.map(age_dict)\n",
    "df['age'] = df['age'].astype('int64')\n"
   ]
  },
  {
   "cell_type": "code",
   "execution_count": 112,
   "id": "a5a6d6f0",
   "metadata": {},
   "outputs": [],
   "source": [
    "# Categorical features \n",
    "cols_cat = ['discharge_disposition', 'admission_type',\n",
    "           'primary_diag']"
   ]
  },
  {
   "cell_type": "code",
   "execution_count": 113,
   "id": "505fc508",
   "metadata": {},
   "outputs": [
    {
     "name": "stdout",
     "output_type": "stream",
     "text": [
      "Number medical specialty: 73\n"
     ]
    },
    {
     "data": {
      "text/plain": [
       "medical_specialty\n",
       "Unknown                                 40508\n",
       "InternalMedicine                        12741\n",
       "Emergency/Trauma                         6963\n",
       "Family/GeneralPractice                   6188\n",
       "Cardiology                               4285\n",
       "Surgery-General                          2414\n",
       "Nephrology                               1336\n",
       "Orthopedics                              1152\n",
       "Orthopedics-Reconstructive               1139\n",
       "Radiologist                              1026\n",
       "Pulmonology                               789\n",
       "Psychiatry                                741\n",
       "Urology                                   602\n",
       "ObstetricsandGynecology                   566\n",
       "Gastroenterology                          495\n",
       "Surgery-Vascular                          484\n",
       "Surgery-Cardiovascular/Thoracic           430\n",
       "Surgery-Neuro                             407\n",
       "Oncology                                  240\n",
       "Neurology                                 192\n",
       "Pediatrics                                176\n",
       "Hematology/Oncology                       160\n",
       "Endocrinology                             109\n",
       "Otolaryngology                            103\n",
       "Surgery-Thoracic                           97\n",
       "Psychology                                 89\n",
       "Podiatry                                   85\n",
       "Pediatrics-Endocrinology                   82\n",
       "Surgery-Cardiovascular                     77\n",
       "Pediatrics-CriticalCare                    65\n",
       "Gynecology                                 57\n",
       "Hospitalist                                55\n",
       "Hematology                                 50\n",
       "Radiology                                  45\n",
       "Surgeon                                    43\n",
       "Ophthalmology                              38\n",
       "InfectiousDiseases                         36\n",
       "Surgery-Plastic                            35\n",
       "Osteopath                                  31\n",
       "SurgicalSpecialty                          29\n",
       "Obsterics&Gynecology-GynecologicOnco       20\n",
       "Obstetrics                                 19\n",
       "Pediatrics-Pulmonology                     19\n",
       "PhysicalMedicineandRehabilitation          17\n",
       "Anesthesiology-Pediatric                   16\n",
       "Rheumatology                               11\n",
       "Anesthesiology                             11\n",
       "OutreachServices                           10\n",
       "Surgery-Colon&Rectal                        9\n",
       "PhysicianNotFound                           9\n",
       "Pediatrics-Neurology                        9\n",
       "Surgery-Maxillofacial                       8\n",
       "Endocrinology-Metabolism                    8\n",
       "Surgery-Pediatric                           8\n",
       "Cardiology-Pediatric                        7\n",
       "AllergyandImmunology                        6\n",
       "Psychiatry-Child/Adolescent                 6\n",
       "Pediatrics-Hematology-Oncology              4\n",
       "Pediatrics-AllergyandImmunology             3\n",
       "DCPTEAM                                     3\n",
       "Dentistry                                   3\n",
       "Pediatrics-EmergencyMedicine                3\n",
       "Resident                                    2\n",
       "Perinatology                                1\n",
       "Pediatrics-InfectiousDiseases               1\n",
       "SportsMedicine                              1\n",
       "Proctology                                  1\n",
       "Pathology                                   1\n",
       "Surgery-PlasticwithinHeadandNeck            1\n",
       "Neurophysiology                             1\n",
       "Dermatology                                 1\n",
       "Psychiatry-Addictive                        1\n",
       "Speech                                      1\n",
       "dtype: int64"
      ]
     },
     "execution_count": 113,
     "metadata": {},
     "output_type": "execute_result"
    }
   ],
   "source": [
    "# Investigate medical speciality column\n",
    "print('Number medical specialty:', df.medical_specialty.nunique())\n",
    "df.groupby('medical_specialty').size().sort_values(ascending = False)"
   ]
  },
  {
   "cell_type": "code",
   "execution_count": 114,
   "id": "8d18a020",
   "metadata": {},
   "outputs": [],
   "source": [
    "top_10 = ['Unknown','InternalMedicine','Emergency/Trauma',\n",
    "          'Family/GeneralPractice', 'Cardiology','Surgery-General' ,\n",
    "          'Nephrology','Orthopedics',\n",
    "          'Orthopedics-Reconstructive','Radiologist']\n",
    "\n",
    "# make a new column with duplicated data\n",
    "df['med_spec'] = df['medical_specialty'].copy()\n",
    "\n",
    "# replace all specialties not in top 10 with 'Other' category\n",
    "df.loc[~df.med_spec.isin(top_10),'med_spec'] = 'Other'"
   ]
  },
  {
   "cell_type": "code",
   "execution_count": 115,
   "id": "d4c3a5d7",
   "metadata": {},
   "outputs": [
    {
     "data": {
      "text/plain": [
       "med_spec\n",
       "Cardiology                     4285\n",
       "Emergency/Trauma               6963\n",
       "Family/GeneralPractice         6188\n",
       "InternalMedicine              12741\n",
       "Nephrology                     1336\n",
       "Orthopedics                    1152\n",
       "Orthopedics-Reconstructive     1139\n",
       "Other                          6629\n",
       "Radiologist                    1026\n",
       "Surgery-General                2414\n",
       "Unknown                       40508\n",
       "dtype: int64"
      ]
     },
     "execution_count": 115,
     "metadata": {},
     "output_type": "execute_result"
    }
   ],
   "source": [
    "df.groupby('med_spec').size()"
   ]
  },
  {
   "cell_type": "code",
   "execution_count": 116,
   "id": "b9ea1515",
   "metadata": {},
   "outputs": [],
   "source": [
    "df_cat = pd.get_dummies(df[cols_cat + ['med_spec']],drop_first = True)"
   ]
  },
  {
   "cell_type": "code",
   "execution_count": 117,
   "id": "29e01d53",
   "metadata": {},
   "outputs": [
    {
     "data": {
      "text/html": [
       "<div>\n",
       "<style scoped>\n",
       "    .dataframe tbody tr th:only-of-type {\n",
       "        vertical-align: middle;\n",
       "    }\n",
       "\n",
       "    .dataframe tbody tr th {\n",
       "        vertical-align: top;\n",
       "    }\n",
       "\n",
       "    .dataframe thead th {\n",
       "        text-align: right;\n",
       "    }\n",
       "</style>\n",
       "<table border=\"1\" class=\"dataframe\">\n",
       "  <thead>\n",
       "    <tr style=\"text-align: right;\">\n",
       "      <th></th>\n",
       "      <th>discharge_disposition_Expected to return for outpatient services</th>\n",
       "      <th>discharge_disposition_Home</th>\n",
       "      <th>discharge_disposition_Left AMA</th>\n",
       "      <th>discharge_disposition_Medical Institution</th>\n",
       "      <th>admission_type_Emergency</th>\n",
       "      <th>admission_type_Newborn</th>\n",
       "      <th>admission_type_Other</th>\n",
       "      <th>admission_type_Trauma Center</th>\n",
       "      <th>admission_type_Urgent</th>\n",
       "      <th>primary_diag_congenital anomalies</th>\n",
       "      <th>...</th>\n",
       "      <th>med_spec_Emergency/Trauma</th>\n",
       "      <th>med_spec_Family/GeneralPractice</th>\n",
       "      <th>med_spec_InternalMedicine</th>\n",
       "      <th>med_spec_Nephrology</th>\n",
       "      <th>med_spec_Orthopedics</th>\n",
       "      <th>med_spec_Orthopedics-Reconstructive</th>\n",
       "      <th>med_spec_Other</th>\n",
       "      <th>med_spec_Radiologist</th>\n",
       "      <th>med_spec_Surgery-General</th>\n",
       "      <th>med_spec_Unknown</th>\n",
       "    </tr>\n",
       "  </thead>\n",
       "  <tbody>\n",
       "    <tr>\n",
       "      <th>1</th>\n",
       "      <td>0</td>\n",
       "      <td>1</td>\n",
       "      <td>0</td>\n",
       "      <td>0</td>\n",
       "      <td>1</td>\n",
       "      <td>0</td>\n",
       "      <td>0</td>\n",
       "      <td>0</td>\n",
       "      <td>0</td>\n",
       "      <td>0</td>\n",
       "      <td>...</td>\n",
       "      <td>0</td>\n",
       "      <td>0</td>\n",
       "      <td>0</td>\n",
       "      <td>0</td>\n",
       "      <td>0</td>\n",
       "      <td>0</td>\n",
       "      <td>0</td>\n",
       "      <td>0</td>\n",
       "      <td>0</td>\n",
       "      <td>1</td>\n",
       "    </tr>\n",
       "    <tr>\n",
       "      <th>2</th>\n",
       "      <td>0</td>\n",
       "      <td>1</td>\n",
       "      <td>0</td>\n",
       "      <td>0</td>\n",
       "      <td>1</td>\n",
       "      <td>0</td>\n",
       "      <td>0</td>\n",
       "      <td>0</td>\n",
       "      <td>0</td>\n",
       "      <td>0</td>\n",
       "      <td>...</td>\n",
       "      <td>0</td>\n",
       "      <td>0</td>\n",
       "      <td>0</td>\n",
       "      <td>0</td>\n",
       "      <td>0</td>\n",
       "      <td>0</td>\n",
       "      <td>0</td>\n",
       "      <td>0</td>\n",
       "      <td>0</td>\n",
       "      <td>1</td>\n",
       "    </tr>\n",
       "    <tr>\n",
       "      <th>3</th>\n",
       "      <td>0</td>\n",
       "      <td>1</td>\n",
       "      <td>0</td>\n",
       "      <td>0</td>\n",
       "      <td>1</td>\n",
       "      <td>0</td>\n",
       "      <td>0</td>\n",
       "      <td>0</td>\n",
       "      <td>0</td>\n",
       "      <td>0</td>\n",
       "      <td>...</td>\n",
       "      <td>0</td>\n",
       "      <td>0</td>\n",
       "      <td>0</td>\n",
       "      <td>0</td>\n",
       "      <td>0</td>\n",
       "      <td>0</td>\n",
       "      <td>0</td>\n",
       "      <td>0</td>\n",
       "      <td>0</td>\n",
       "      <td>1</td>\n",
       "    </tr>\n",
       "    <tr>\n",
       "      <th>4</th>\n",
       "      <td>0</td>\n",
       "      <td>1</td>\n",
       "      <td>0</td>\n",
       "      <td>0</td>\n",
       "      <td>1</td>\n",
       "      <td>0</td>\n",
       "      <td>0</td>\n",
       "      <td>0</td>\n",
       "      <td>0</td>\n",
       "      <td>0</td>\n",
       "      <td>...</td>\n",
       "      <td>0</td>\n",
       "      <td>0</td>\n",
       "      <td>0</td>\n",
       "      <td>0</td>\n",
       "      <td>0</td>\n",
       "      <td>0</td>\n",
       "      <td>0</td>\n",
       "      <td>0</td>\n",
       "      <td>0</td>\n",
       "      <td>1</td>\n",
       "    </tr>\n",
       "    <tr>\n",
       "      <th>5</th>\n",
       "      <td>0</td>\n",
       "      <td>1</td>\n",
       "      <td>0</td>\n",
       "      <td>0</td>\n",
       "      <td>0</td>\n",
       "      <td>0</td>\n",
       "      <td>0</td>\n",
       "      <td>0</td>\n",
       "      <td>1</td>\n",
       "      <td>0</td>\n",
       "      <td>...</td>\n",
       "      <td>0</td>\n",
       "      <td>0</td>\n",
       "      <td>0</td>\n",
       "      <td>0</td>\n",
       "      <td>0</td>\n",
       "      <td>0</td>\n",
       "      <td>0</td>\n",
       "      <td>0</td>\n",
       "      <td>0</td>\n",
       "      <td>1</td>\n",
       "    </tr>\n",
       "  </tbody>\n",
       "</table>\n",
       "<p>5 rows × 34 columns</p>\n",
       "</div>"
      ],
      "text/plain": [
       "   discharge_disposition_Expected to return for outpatient services  \\\n",
       "1                                                  0                  \n",
       "2                                                  0                  \n",
       "3                                                  0                  \n",
       "4                                                  0                  \n",
       "5                                                  0                  \n",
       "\n",
       "   discharge_disposition_Home  discharge_disposition_Left AMA  \\\n",
       "1                           1                               0   \n",
       "2                           1                               0   \n",
       "3                           1                               0   \n",
       "4                           1                               0   \n",
       "5                           1                               0   \n",
       "\n",
       "   discharge_disposition_Medical Institution  admission_type_Emergency  \\\n",
       "1                                          0                         1   \n",
       "2                                          0                         1   \n",
       "3                                          0                         1   \n",
       "4                                          0                         1   \n",
       "5                                          0                         0   \n",
       "\n",
       "   admission_type_Newborn  admission_type_Other  admission_type_Trauma Center  \\\n",
       "1                       0                     0                             0   \n",
       "2                       0                     0                             0   \n",
       "3                       0                     0                             0   \n",
       "4                       0                     0                             0   \n",
       "5                       0                     0                             0   \n",
       "\n",
       "   admission_type_Urgent  primary_diag_congenital anomalies  ...  \\\n",
       "1                      0                                  0  ...   \n",
       "2                      0                                  0  ...   \n",
       "3                      0                                  0  ...   \n",
       "4                      0                                  0  ...   \n",
       "5                      1                                  0  ...   \n",
       "\n",
       "   med_spec_Emergency/Trauma  med_spec_Family/GeneralPractice  \\\n",
       "1                          0                                0   \n",
       "2                          0                                0   \n",
       "3                          0                                0   \n",
       "4                          0                                0   \n",
       "5                          0                                0   \n",
       "\n",
       "   med_spec_InternalMedicine  med_spec_Nephrology  med_spec_Orthopedics  \\\n",
       "1                          0                    0                     0   \n",
       "2                          0                    0                     0   \n",
       "3                          0                    0                     0   \n",
       "4                          0                    0                     0   \n",
       "5                          0                    0                     0   \n",
       "\n",
       "   med_spec_Orthopedics-Reconstructive  med_spec_Other  med_spec_Radiologist  \\\n",
       "1                                    0               0                     0   \n",
       "2                                    0               0                     0   \n",
       "3                                    0               0                     0   \n",
       "4                                    0               0                     0   \n",
       "5                                    0               0                     0   \n",
       "\n",
       "   med_spec_Surgery-General  med_spec_Unknown  \n",
       "1                         0                 1  \n",
       "2                         0                 1  \n",
       "3                         0                 1  \n",
       "4                         0                 1  \n",
       "5                         0                 1  \n",
       "\n",
       "[5 rows x 34 columns]"
      ]
     },
     "execution_count": 117,
     "metadata": {},
     "output_type": "execute_result"
    }
   ],
   "source": [
    "df_cat.head()"
   ]
  },
  {
   "cell_type": "code",
   "execution_count": 118,
   "id": "9b03c018",
   "metadata": {},
   "outputs": [],
   "source": [
    "df = pd.concat([df,df_cat], axis = 1)"
   ]
  },
  {
   "cell_type": "code",
   "execution_count": 119,
   "id": "449b6806",
   "metadata": {},
   "outputs": [],
   "source": [
    "cols_all_cat = list(df_cat.columns)"
   ]
  },
  {
   "cell_type": "code",
   "execution_count": 120,
   "id": "8bf7379a",
   "metadata": {},
   "outputs": [],
   "source": [
    "cols_extra = ['metformin', 'repaglinide', 'nateglinide', 'chlorpropamide',\n",
    "       'glimepiride', 'acetohexamide', 'glipizide', 'glyburide', 'tolbutamide',\n",
    "       'pioglitazone', 'rosiglitazone', 'acarbose', 'miglitol', 'troglitazone',\n",
    "       'tolazamide', 'insulin',\n",
    "       'glyburide-metformin', 'glipizide-metformin',\n",
    "       'glimepiride-pioglitazone', 'metformin-rosiglitazone',\n",
    "       'metformin-pioglitazone', 'change', 'gender', 'diabetesMed', 'race','A1Cresult', 'max_glu_serum', 'age']"
   ]
  },
  {
   "cell_type": "markdown",
   "id": "837d78ee",
   "metadata": {},
   "source": [
    "#### We focus on predicting readmission of patients within 30 days"
   ]
  },
  {
   "cell_type": "code",
   "execution_count": 121,
   "id": "074b5fa5",
   "metadata": {},
   "outputs": [],
   "source": [
    "# We want to focus on those readmitted within 30 days\n",
    "df = df[~df['readmitted'].isin(['>30'])]"
   ]
  },
  {
   "cell_type": "code",
   "execution_count": 122,
   "id": "e43850e2",
   "metadata": {},
   "outputs": [],
   "source": [
    "#readmitted= pd.get_dummies(df['readmitted'])\n",
    "readmitted_map = {\"NO\": 1, \"<30\":0}\n",
    "# Apply the mapping to the \"readmitted\" column in the DataFrame\n",
    "df[\"readmitted\"] = df[\"readmitted\"].map(readmitted_map)"
   ]
  },
  {
   "cell_type": "code",
   "execution_count": 123,
   "id": "e5b98046",
   "metadata": {},
   "outputs": [
    {
     "data": {
      "text/plain": [
       "1    45724\n",
       "0     9008\n",
       "Name: readmitted, dtype: int64"
      ]
     },
     "execution_count": 123,
     "metadata": {},
     "output_type": "execute_result"
    }
   ],
   "source": [
    "df['readmitted'].value_counts()"
   ]
  },
  {
   "cell_type": "code",
   "execution_count": 124,
   "id": "fa2b7f71",
   "metadata": {},
   "outputs": [],
   "source": [
    "col2use = cols_num + cols_all_cat + cols_extra\n",
    "diabetes_df = df[col2use + ['readmitted']]"
   ]
  },
  {
   "cell_type": "code",
   "execution_count": 125,
   "id": "d00447e4",
   "metadata": {},
   "outputs": [
    {
     "data": {
      "text/plain": [
       "time_in_hospital                                                               int64\n",
       "num_lab_procedures                                                             int64\n",
       "num_procedures                                                                 int64\n",
       "num_medications                                                                int64\n",
       "number_outpatient                                                              int64\n",
       "number_emergency                                                               int64\n",
       "number_inpatient                                                               int64\n",
       "number_diagnoses                                                               int64\n",
       "has_weight                                                                     int32\n",
       "admission_source_id                                                            int64\n",
       "discharge_disposition_Expected to return for outpatient services               uint8\n",
       "discharge_disposition_Home                                                     uint8\n",
       "discharge_disposition_Left AMA                                                 uint8\n",
       "discharge_disposition_Medical Institution                                      uint8\n",
       "admission_type_Emergency                                                       uint8\n",
       "admission_type_Newborn                                                         uint8\n",
       "admission_type_Other                                                           uint8\n",
       "admission_type_Trauma Center                                                   uint8\n",
       "admission_type_Urgent                                                          uint8\n",
       "primary_diag_congenital anomalies                                              uint8\n",
       "primary_diag_diseases of the blood                                             uint8\n",
       "primary_diag_diseases of the circulatory system                                uint8\n",
       "primary_diag_diseases of the digestive system                                  uint8\n",
       "primary_diag_diseases of the genitourinary system                              uint8\n",
       "primary_diag_diseases of the musculoskeletal system                            uint8\n",
       "primary_diag_diseases of the nervous system                                    uint8\n",
       "primary_diag_diseases of the respiratory system                                uint8\n",
       "primary_diag_diseases of the skin                                              uint8\n",
       "primary_diag_endocrine, nutritional, metabolic diseases, immunity disorders    uint8\n",
       "primary_diag_infectious and parasitic diseases                                 uint8\n",
       "primary_diag_injury and poisoning                                              uint8\n",
       "primary_diag_mental disorders                                                  uint8\n",
       "primary_diag_neoplasms                                                         uint8\n",
       "primary_diag_symptoms, signs, and ill-defined conditions                       uint8\n",
       "med_spec_Emergency/Trauma                                                      uint8\n",
       "med_spec_Family/GeneralPractice                                                uint8\n",
       "med_spec_InternalMedicine                                                      uint8\n",
       "med_spec_Nephrology                                                            uint8\n",
       "med_spec_Orthopedics                                                           uint8\n",
       "med_spec_Orthopedics-Reconstructive                                            uint8\n",
       "med_spec_Other                                                                 uint8\n",
       "med_spec_Radiologist                                                           uint8\n",
       "med_spec_Surgery-General                                                       uint8\n",
       "med_spec_Unknown                                                               uint8\n",
       "metformin                                                                      int64\n",
       "repaglinide                                                                    int64\n",
       "nateglinide                                                                    int64\n",
       "chlorpropamide                                                                 int64\n",
       "glimepiride                                                                    int64\n",
       "acetohexamide                                                                  int64\n",
       "glipizide                                                                      int64\n",
       "glyburide                                                                      int64\n",
       "tolbutamide                                                                    int64\n",
       "pioglitazone                                                                   int64\n",
       "rosiglitazone                                                                  int64\n",
       "acarbose                                                                       int64\n",
       "miglitol                                                                       int64\n",
       "troglitazone                                                                   int64\n",
       "tolazamide                                                                     int64\n",
       "insulin                                                                        int64\n",
       "glyburide-metformin                                                            int64\n",
       "glipizide-metformin                                                            int64\n",
       "glimepiride-pioglitazone                                                       int64\n",
       "metformin-rosiglitazone                                                        int64\n",
       "metformin-pioglitazone                                                         int64\n",
       "change                                                                         int64\n",
       "gender                                                                         int64\n",
       "diabetesMed                                                                    int64\n",
       "race                                                                           int64\n",
       "A1Cresult                                                                      int64\n",
       "max_glu_serum                                                                  int64\n",
       "age                                                                            int64\n",
       "readmitted                                                                     int64\n",
       "dtype: object"
      ]
     },
     "execution_count": 125,
     "metadata": {},
     "output_type": "execute_result"
    }
   ],
   "source": [
    "diabetes_df.dtypes"
   ]
  },
  {
   "cell_type": "code",
   "execution_count": 126,
   "id": "814471bf",
   "metadata": {},
   "outputs": [],
   "source": [
    "#Train_test_split\n",
    "\n",
    "x = diabetes_df.drop(['readmitted'], axis=1)\n",
    "y = diabetes_df['readmitted']\n",
    "x_train, x_test, y_train, y_test = train_test_split(x, y, test_size=0.2, random_state=42)"
   ]
  },
  {
   "cell_type": "code",
   "execution_count": 127,
   "id": "0b83d804",
   "metadata": {},
   "outputs": [
    {
     "data": {
      "text/plain": [
       "1    36557\n",
       "0     7228\n",
       "Name: readmitted, dtype: int64"
      ]
     },
     "execution_count": 127,
     "metadata": {},
     "output_type": "execute_result"
    }
   ],
   "source": [
    "y_train.value_counts()"
   ]
  },
  {
   "cell_type": "code",
   "execution_count": 128,
   "id": "1396fb76",
   "metadata": {},
   "outputs": [
    {
     "data": {
      "text/plain": [
       "1    9167\n",
       "0    1780\n",
       "Name: readmitted, dtype: int64"
      ]
     },
     "execution_count": 128,
     "metadata": {},
     "output_type": "execute_result"
    }
   ],
   "source": [
    "y_test.value_counts()"
   ]
  },
  {
   "cell_type": "code",
   "execution_count": 129,
   "id": "7400a503",
   "metadata": {},
   "outputs": [],
   "source": [
    "from sklearn.preprocessing import StandardScaler\n",
    "scalar = StandardScaler()\n",
    "x_train = scalar.fit_transform(x_train)\n",
    "x_test = scalar.transform(x_test)"
   ]
  },
  {
   "cell_type": "code",
   "execution_count": 130,
   "id": "deea98e6",
   "metadata": {},
   "outputs": [
    {
     "data": {
      "text/plain": [
       "DecisionTreeClassifier()"
      ]
     },
     "execution_count": 130,
     "metadata": {},
     "output_type": "execute_result"
    }
   ],
   "source": [
    "#Training our model\n",
    "#Decision Tree\n",
    "dc_model = DecisionTreeClassifier()\n",
    "dc_model.fit(x_train, y_train)"
   ]
  },
  {
   "cell_type": "code",
   "execution_count": 131,
   "id": "b029c01a",
   "metadata": {},
   "outputs": [],
   "source": [
    "#Prediction\n",
    "y_pred = dc_model.predict(x_test)"
   ]
  },
  {
   "cell_type": "code",
   "execution_count": 132,
   "id": "c1e59ba9",
   "metadata": {},
   "outputs": [
    {
     "name": "stdout",
     "output_type": "stream",
     "text": [
      "Train Accuracy:  1.0\n",
      "Validation Accuracy:  0.7348131908285375\n",
      "              precision    recall  f1-score   support\n",
      "\n",
      "           0       0.23      0.26      0.24      1780\n",
      "           1       0.85      0.83      0.84      9167\n",
      "\n",
      "    accuracy                           0.73     10947\n",
      "   macro avg       0.54      0.54      0.54     10947\n",
      "weighted avg       0.75      0.73      0.74     10947\n",
      "\n"
     ]
    }
   ],
   "source": [
    "# print the accuracy score\n",
    "from sklearn.metrics import classification_report\n",
    "print(\"Train Accuracy: \", dc_model.score(x_train, y_train))\n",
    "print(\"Validation Accuracy: \", dc_model.score(x_test, y_test))\n",
    "print(classification_report(y_test, y_pred))"
   ]
  },
  {
   "cell_type": "code",
   "execution_count": 133,
   "id": "371036ca",
   "metadata": {},
   "outputs": [
    {
     "data": {
      "text/plain": [
       "RandomForestClassifier()"
      ]
     },
     "execution_count": 133,
     "metadata": {},
     "output_type": "execute_result"
    }
   ],
   "source": [
    "rfc_model = RandomForestClassifier()\n",
    "rfc_model.fit(x_train, y_train)"
   ]
  },
  {
   "cell_type": "code",
   "execution_count": 134,
   "id": "df6a71c0",
   "metadata": {},
   "outputs": [
    {
     "name": "stdout",
     "output_type": "stream",
     "text": [
      "Train Accuracy:  1.0\n",
      "Validation Accuracy:  0.8373070247556408\n",
      "              precision    recall  f1-score   support\n",
      "\n",
      "           0       0.50      0.03      0.05      1780\n",
      "           1       0.84      0.99      0.91      9167\n",
      "\n",
      "    accuracy                           0.84     10947\n",
      "   macro avg       0.67      0.51      0.48     10947\n",
      "weighted avg       0.78      0.84      0.77     10947\n",
      "\n"
     ]
    }
   ],
   "source": [
    "# print the accuracy score\n",
    "y_predRF = rfc_model.predict(x_test)\n",
    "print(\"Train Accuracy: \", rfc_model.score(x_train, y_train))\n",
    "print(\"Validation Accuracy: \", rfc_model.score(x_test, y_test))\n",
    "print(classification_report(y_test, y_predRF))"
   ]
  },
  {
   "cell_type": "code",
   "execution_count": 135,
   "id": "be0385ec",
   "metadata": {},
   "outputs": [
    {
     "name": "stdout",
     "output_type": "stream",
     "text": [
      "Counter({1: 36557, 0: 36557})\n"
     ]
    }
   ],
   "source": [
    "from imblearn.over_sampling import SMOTE\n",
    "from collections import Counter\n",
    "oversample = SMOTE(random_state = 42)\n",
    "x_train_over, y_train_over = oversample.fit_resample(x_train, y_train)\n",
    "print(Counter(y_train_over))"
   ]
  },
  {
   "cell_type": "code",
   "execution_count": 136,
   "id": "a3d5f6f4",
   "metadata": {},
   "outputs": [
    {
     "name": "stdout",
     "output_type": "stream",
     "text": [
      "(73114, 72)\n",
      "(73114,)\n"
     ]
    }
   ],
   "source": [
    "print(x_train_over.shape)\n",
    "print(y_train_over.shape)"
   ]
  },
  {
   "cell_type": "code",
   "execution_count": 137,
   "id": "2519f1ad",
   "metadata": {},
   "outputs": [],
   "source": [
    "#splitting training data into train and validation set\n",
    "x_train_over, x_test, y_train_over,y_test = train_test_split(x_train_over, y_train_over, test_size = 0.2, random_state = 0)"
   ]
  },
  {
   "cell_type": "code",
   "execution_count": 138,
   "id": "e68a539e",
   "metadata": {},
   "outputs": [
    {
     "name": "stdout",
     "output_type": "stream",
     "text": [
      "Train Accuracy:  1.0\n",
      "Validation Accuracy:  0.9088422348355331\n",
      "              precision    recall  f1-score   support\n",
      "\n",
      "           0       0.97      0.84      0.90      7358\n",
      "           1       0.86      0.98      0.91      7265\n",
      "\n",
      "    accuracy                           0.91     14623\n",
      "   macro avg       0.92      0.91      0.91     14623\n",
      "weighted avg       0.92      0.91      0.91     14623\n",
      "\n"
     ]
    }
   ],
   "source": [
    "from sklearn.ensemble import RandomForestClassifier\n",
    "from sklearn.metrics import classification_report\n",
    "\n",
    "modelRF = RandomForestClassifier()\n",
    "modelRF.fit(x_train_over, y_train_over)\n",
    "\n",
    "y_predRF = modelRF.predict(x_test)\n",
    "\n",
    "print(\"Train Accuracy: \", modelRF.score(x_train_over, y_train_over))\n",
    "print(\"Validation Accuracy: \", modelRF.score(x_test, y_test))\n",
    "print(classification_report(y_test, y_predRF))"
   ]
  },
  {
   "cell_type": "code",
   "execution_count": 139,
   "id": "943c7558",
   "metadata": {},
   "outputs": [
    {
     "name": "stdout",
     "output_type": "stream",
     "text": [
      "Train Accuracy:  1.0\n",
      "Validation Accuracy:  0.8371059290159338\n",
      "              precision    recall  f1-score   support\n",
      "\n",
      "           0       0.83      0.85      0.84      7358\n",
      "           1       0.84      0.83      0.83      7265\n",
      "\n",
      "    accuracy                           0.84     14623\n",
      "   macro avg       0.84      0.84      0.84     14623\n",
      "weighted avg       0.84      0.84      0.84     14623\n",
      "\n"
     ]
    }
   ],
   "source": [
    "from sklearn.tree import DecisionTreeClassifier\n",
    "\n",
    "modelDC =DecisionTreeClassifier()\n",
    "modelDC.fit(x_train_over, y_train_over)\n",
    "\n",
    "y_predDC = modelDC.predict(x_test)\n",
    "\n",
    "print(\"Train Accuracy: \", modelDC.score(x_train_over, y_train_over))\n",
    "print(\"Validation Accuracy: \", modelDC.score(x_test, y_test))\n",
    "print(classification_report(y_test, y_predDC))"
   ]
  },
  {
   "cell_type": "code",
   "execution_count": 140,
   "id": "d9008c58",
   "metadata": {},
   "outputs": [
    {
     "data": {
      "image/png": "[encoded data removed]",
      "text/plain": [
       "<Figure size 720x432 with 1 Axes>"
      ]
     },
     "metadata": {
      "needs_background": "light"
     },
     "output_type": "display_data"
    }
   ],
   "source": [
    "# Create list of top most features based on importance\n",
    "feature_names = x.columns\n",
    "feature_imports = modelRF.feature_importances_\n",
    "most_imp_features = pd.DataFrame([f for f in zip(feature_names,feature_imports)], columns=[\"Feature\", \"Importance\"]).nlargest(10, \"Importance\")\n",
    "most_imp_features.sort_values(by=\"Importance\", inplace=True)\n",
    "plt.figure(figsize=(10,6))\n",
    "plt.barh(range(len(most_imp_features)), most_imp_features.Importance, align='center', alpha=0.8)\n",
    "plt.yticks(range(len(most_imp_features)), most_imp_features.Feature, fontsize=14)\n",
    "plt.xlabel('Importance')\n",
    "plt.title('Most important features - Random Forest') \n",
    "plt.show()"
   ]
  },
  {
   "cell_type": "code",
   "execution_count": 141,
   "id": "745204d1",
   "metadata": {},
   "outputs": [
    {
     "name": "stdout",
     "output_type": "stream",
     "text": [
      "[17:01:03] WARNING: C:/Users/Administrator/workspace/xgboost-win64_release_1.5.1/src/learner.cc:1115: Starting in XGBoost 1.3.0, the default evaluation metric used with the objective 'binary:logistic' was changed from 'error' to 'logloss'. Explicitly set eval_metric if you'd like to restore the old behavior.\n",
      "Train Accuracy:  0.9148415995623258\n",
      "Validation Accuracy:  0.8988579634821856\n",
      "              precision    recall  f1-score   support\n",
      "\n",
      "           0       0.98      0.82      0.89      7358\n",
      "           1       0.84      0.98      0.91      7265\n",
      "\n",
      "    accuracy                           0.90     14623\n",
      "   macro avg       0.91      0.90      0.90     14623\n",
      "weighted avg       0.91      0.90      0.90     14623\n",
      "\n"
     ]
    }
   ],
   "source": [
    "import xgboost as xgb\n",
    "# initialize the XGBoost classifier\n",
    "modelxgb = xgb.XGBClassifier()\n",
    "\n",
    "# train the model\n",
    "modelxgb.fit(x_train_over, y_train_over)\n",
    "\n",
    "# make predictions on the test set\n",
    "y_predxgb = modelxgb.predict(x_test)\n",
    "\n",
    "# evaluate the model\n",
    "print(\"Train Accuracy: \", modelxgb.score(x_train_over, y_train_over))\n",
    "print(\"Validation Accuracy: \", modelxgb.score(x_test, y_test))\n",
    "print(classification_report(y_test, y_predxgb))"
   ]
  },
  {
   "cell_type": "code",
   "execution_count": 142,
   "id": "7b317cd4",
   "metadata": {},
   "outputs": [
    {
     "data": {
      "image/png": "[encoded data removed]",
      "text/plain": [
       "<Figure size 720x432 with 1 Axes>"
      ]
     },
     "metadata": {
      "needs_background": "light"
     },
     "output_type": "display_data"
    }
   ],
   "source": [
    "# Create list of top most features based on importance\n",
    "feature_names = x.columns\n",
    "feature_imports = modelxgb.feature_importances_\n",
    "most_imp_features = pd.DataFrame([f for f in zip(feature_names,feature_imports)], columns=[\"Feature\", \"Importance\"]).nlargest(10, \"Importance\")\n",
    "most_imp_features.sort_values(by=\"Importance\", inplace=True)\n",
    "plt.figure(figsize=(10,6))\n",
    "plt.barh(range(len(most_imp_features)), most_imp_features.Importance, align='center', alpha=0.8)\n",
    "plt.yticks(range(len(most_imp_features)), most_imp_features.Feature, fontsize=14)\n",
    "plt.xlabel('Importance')\n",
    "plt.title('Most important features - XGBoost') \n",
    "plt.show()"
   ]
  },
  {
   "cell_type": "code",
   "execution_count": null,
   "id": "3ec82d70",
   "metadata": {},
   "outputs": [],
   "source": []
  }
 ],
 "metadata": {
  "kernelspec": {
   "display_name": "Python 3 (ipykernel)",
   "language": "python",
   "name": "python3"
  },
  "language_info": {
   "codemirror_mode": {
    "name": "ipython",
    "version": 3
   },
   "file_extension": ".py",
   "mimetype": "text/x-python",
   "name": "python",
   "nbconvert_exporter": "python",
   "pygments_lexer": "ipython3",
   "version": "3.9.7"
  }
 },
 "nbformat": 4,
 "nbformat_minor": 5
}
